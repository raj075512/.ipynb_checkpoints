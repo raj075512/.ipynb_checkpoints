{
 "cells": [
  {
   "cell_type": "markdown",
   "id": "eeb47dfc",
   "metadata": {},
   "source": [
    "# NIFTY-50 -STOCK PREDICTION \n"
   ]
  },
  {
   "cell_type": "markdown",
   "id": "3e94512a",
   "metadata": {},
   "source": [
    "web scrapping for getting the data "
   ]
  },
  {
   "cell_type": "code",
   "execution_count": 161,
   "id": "16adbc28",
   "metadata": {},
   "outputs": [],
   "source": [
    "import pandas as pd\n",
    "import requests "
   ]
  },
  {
   "cell_type": "code",
   "execution_count": 162,
   "id": "77ae13aa",
   "metadata": {},
   "outputs": [],
   "source": [
    "from bs4 import BeautifulSoup\n"
   ]
  },
  {
   "cell_type": "code",
   "execution_count": 163,
   "id": "b59e1748",
   "metadata": {},
   "outputs": [],
   "source": [
    "import random\n",
    "\n",
    "dummy_depended_variables = []\n",
    "\n",
    "for i in range(1, 701):\n",
    "    temp = random.randint(0, 1)\n",
    "    dummy_depended_variables.append(temp)\n"
   ]
  },
  {
   "cell_type": "code",
   "execution_count": 164,
   "id": "a3d6eec7",
   "metadata": {},
   "outputs": [
    {
     "data": {
      "text/plain": [
       "700"
      ]
     },
     "execution_count": 164,
     "metadata": {},
     "output_type": "execute_result"
    }
   ],
   "source": [
    "len(dummy_depended_variables)"
   ]
  },
  {
   "cell_type": "code",
   "execution_count": 165,
   "id": "8c88d6ad",
   "metadata": {},
   "outputs": [],
   "source": [
    "\n",
    "\n",
    "nifty=[]\n",
    "    \n",
    "for page in range(1,36):   \n",
    "    url='https://timesofindia.indiatimes.com/topic/nse-nifty/{}'.format(page)\n",
    "    web=requests.get(url).text\n",
    "\n",
    "    soup=BeautifulSoup(web,'lxml')\n",
    "    data=soup.find_all('div',class_=\"uwU81\")\n",
    "  \n",
    "    \n",
    "    for i in data:\n",
    "        nifty.append(i.find(\"span\").text.strip())\n",
    "        \n",
    "\n",
    "\n"
   ]
  },
  {
   "cell_type": "code",
   "execution_count": null,
   "id": "3144eea7",
   "metadata": {},
   "outputs": [],
   "source": []
  },
  {
   "cell_type": "code",
   "execution_count": 166,
   "id": "9eba1307",
   "metadata": {},
   "outputs": [
    {
     "data": {
      "text/plain": [
       "700"
      ]
     },
     "execution_count": 166,
     "metadata": {},
     "output_type": "execute_result"
    }
   ],
   "source": [
    "len(dummy_depended_variables)\n"
   ]
  },
  {
   "cell_type": "code",
   "execution_count": 167,
   "id": "07bfae7b",
   "metadata": {},
   "outputs": [
    {
     "data": {
      "text/plain": [
       "700"
      ]
     },
     "execution_count": 167,
     "metadata": {},
     "output_type": "execute_result"
    }
   ],
   "source": [
    "len(nifty)"
   ]
  },
  {
   "cell_type": "code",
   "execution_count": 168,
   "id": "bdd6a036",
   "metadata": {},
   "outputs": [],
   "source": [
    "economy=[]\n",
    "\n",
    "for page in range(1,29):    \n",
    "\n",
    "    url='https://www.moneycontrol.com/news/business/economy/page-{}'.format(page)\n",
    "    web=requests.get(url).text\n",
    "\n",
    "    soup=BeautifulSoup(web,'lxml')\n",
    "    dataa=soup.find_all('h2')\n",
    " \n",
    "    for x in dataa:\n",
    "        a_tag=x.find('a')\n",
    "        if a_tag :\n",
    "            economy.append(x.find('a').text)\n",
    "\n",
    "    \n",
    "    \n",
    "    \n",
    "        \n",
    "    \n",
    "     \n",
    "        \n",
    "    "
   ]
  },
  {
   "cell_type": "code",
   "execution_count": 169,
   "id": "5fc30e10",
   "metadata": {},
   "outputs": [
    {
     "data": {
      "text/plain": [
       "700"
      ]
     },
     "execution_count": 169,
     "metadata": {},
     "output_type": "execute_result"
    }
   ],
   "source": [
    "len(economy)"
   ]
  },
  {
   "cell_type": "code",
   "execution_count": 170,
   "id": "01c59a6d",
   "metadata": {},
   "outputs": [],
   "source": [
    "mutualFund=[]\n",
    "\n",
    "for page in range(1,29):    \n",
    "\n",
    "    url='https://www.moneycontrol.com/news/business/mutual-funds/page-{}'.format(page)\n",
    "    web=requests.get(url).text\n",
    "\n",
    "    soup=BeautifulSoup(web,'lxml')\n",
    "    data3=soup.find_all('h2')\n",
    " \n",
    "    for x in data3:\n",
    "        \n",
    "        a_tag=x.find('a')\n",
    "        if a_tag :\n",
    "            mutualFund.append(x.find('a').text)\n",
    "\n",
    "            "
   ]
  },
  {
   "cell_type": "code",
   "execution_count": 171,
   "id": "c036b943",
   "metadata": {},
   "outputs": [
    {
     "data": {
      "text/plain": [
       "700"
      ]
     },
     "execution_count": 171,
     "metadata": {},
     "output_type": "execute_result"
    }
   ],
   "source": [
    "len(mutualFund)\n"
   ]
  },
  {
   "cell_type": "code",
   "execution_count": 172,
   "id": "b9a6b943",
   "metadata": {},
   "outputs": [],
   "source": [
    "ipo=[]\n",
    "\n",
    "for page in range(1,29):    \n",
    "\n",
    "    url='https://www.moneycontrol.com/news/business/ipo/page-{}'.format(page)\n",
    "    web=requests.get(url).text\n",
    "\n",
    "    soup=BeautifulSoup(web,'lxml')\n",
    "    data3=soup.find_all('h2')\n",
    " \n",
    "    for x in data3:\n",
    "        a_tag=x.find('a')\n",
    "        if a_tag :\n",
    "            ipo.append(x.find('a').text)\n",
    "\n",
    "\n",
    "        "
   ]
  },
  {
   "cell_type": "code",
   "execution_count": 173,
   "id": "45f66432",
   "metadata": {},
   "outputs": [
    {
     "data": {
      "text/plain": [
       "700"
      ]
     },
     "execution_count": 173,
     "metadata": {},
     "output_type": "execute_result"
    }
   ],
   "source": [
    "len(ipo)\n",
    "   "
   ]
  },
  {
   "cell_type": "code",
   "execution_count": 174,
   "id": "c65920f1",
   "metadata": {},
   "outputs": [],
   "source": [
    "personal_finance=[]\n",
    "\n",
    "\n",
    "for page in range(1,29):    \n",
    "\n",
    "    url='https://www.moneycontrol.com/news/business/personal-finance//page-{}'.format(page)\n",
    "    web=requests.get(url).text\n",
    "\n",
    "    soup=BeautifulSoup(web,'lxml')\n",
    "    data4=soup.find_all('h2')\n",
    " \n",
    "    for x in data4:\n",
    "        a_tag=x.find('a')\n",
    "        if a_tag :\n",
    "            personal_finance.append(x.find('a').text)\n",
    "\n",
    "     \n",
    "\n",
    "            "
   ]
  },
  {
   "cell_type": "code",
   "execution_count": 175,
   "id": "ca282c0a",
   "metadata": {},
   "outputs": [
    {
     "data": {
      "text/plain": [
       "700"
      ]
     },
     "execution_count": 175,
     "metadata": {},
     "output_type": "execute_result"
    }
   ],
   "source": [
    "len(personal_finance)"
   ]
  },
  {
   "cell_type": "code",
   "execution_count": 176,
   "id": "e2261c1e",
   "metadata": {},
   "outputs": [],
   "source": [
    "business=[]\n",
    "\n",
    "\n",
    "for page in range(1,29):    \n",
    "\n",
    "    url='https://www.moneycontrol.com/news/business//page-{}'.format(page)\n",
    "    web=requests.get(url).text\n",
    "\n",
    "    soup=BeautifulSoup(web,'lxml')\n",
    "    data4=soup.find_all('h2')\n",
    " \n",
    "    for x in data4:\n",
    "        a_tag=x.find('a')\n",
    "        if a_tag :\n",
    "            business.append(x.find('a').text)\n",
    "    \n",
    "    \n",
    "            "
   ]
  },
  {
   "cell_type": "code",
   "execution_count": 177,
   "id": "2c32f57c",
   "metadata": {},
   "outputs": [
    {
     "data": {
      "text/plain": [
       "700"
      ]
     },
     "execution_count": 177,
     "metadata": {},
     "output_type": "execute_result"
    }
   ],
   "source": [
    "len(business)"
   ]
  },
  {
   "cell_type": "code",
   "execution_count": 178,
   "id": "667474ea",
   "metadata": {},
   "outputs": [],
   "source": [
    "indian_political=[]\n",
    "\n",
    "\n",
    "for page in range(1,29):    \n",
    "\n",
    "    url=' https://www.moneycontrol.com/news/india/page-{}'.format(page)\n",
    "    web=requests.get(url).text\n",
    "\n",
    "    soup=BeautifulSoup(web,'lxml')\n",
    "    data4=soup.find_all('h2')\n",
    " \n",
    "    for x in data4:\n",
    "        a_tag=x.find('a')\n",
    "        if a_tag :\n",
    "            indian_political.append(x.find('a').text)\n",
    "    \n",
    "   "
   ]
  },
  {
   "cell_type": "code",
   "execution_count": 179,
   "id": "05bb4d73",
   "metadata": {},
   "outputs": [
    {
     "data": {
      "text/plain": [
       "700"
      ]
     },
     "execution_count": 179,
     "metadata": {},
     "output_type": "execute_result"
    }
   ],
   "source": [
    "len(indian_political)"
   ]
  },
  {
   "cell_type": "code",
   "execution_count": 180,
   "id": "0c0843e1",
   "metadata": {},
   "outputs": [],
   "source": [
    "trends=[]\n",
    "\n",
    "\n",
    "for page in range(1,29):    \n",
    "\n",
    "    url='https://www.moneycontrol.com/news/trends/page-{}'.format(page)\n",
    "    web=requests.get(url).text\n",
    "\n",
    "    soup=BeautifulSoup(web,'lxml')\n",
    "    data4=soup.find_all('h2')\n",
    " \n",
    "    for x in data4:\n",
    "        a_tag=x.find('a')\n",
    "        if a_tag :\n",
    "            trends.append(x.find('a').text)\n",
    "    \n",
    "    \n",
    "    \n",
    "   "
   ]
  },
  {
   "cell_type": "code",
   "execution_count": 181,
   "id": "951cbc9a",
   "metadata": {},
   "outputs": [
    {
     "data": {
      "text/plain": [
       "700"
      ]
     },
     "execution_count": 181,
     "metadata": {},
     "output_type": "execute_result"
    }
   ],
   "source": [
    "len(trends)"
   ]
  },
  {
   "cell_type": "code",
   "execution_count": 191,
   "id": "2f588a7a",
   "metadata": {},
   "outputs": [],
   "source": [
    "election2024=[]\n",
    "\n",
    "\n",
    "\n",
    "for page in range(1,29):    \n",
    "\n",
    "    url='https://www.moneycontrol.com/news/assembly-elections/page-{}'.format(page)\n",
    "    web=requests.get(url).text\n",
    "\n",
    "    soup=BeautifulSoup(web,'lxml')\n",
    "    data4=soup.find_all('h2')\n",
    " \n",
    "    for x in data4:\n",
    "        a_tag=x.find('a')\n",
    "        if a_tag :\n",
    "            election2024.append(x.find('a').text)\n",
    "    \n",
    "    "
   ]
  },
  {
   "cell_type": "code",
   "execution_count": 192,
   "id": "3ffb4cca",
   "metadata": {},
   "outputs": [
    {
     "data": {
      "text/plain": [
       "700"
      ]
     },
     "execution_count": 192,
     "metadata": {},
     "output_type": "execute_result"
    }
   ],
   "source": [
    "len(election2024)"
   ]
  },
  {
   "cell_type": "code",
   "execution_count": 287,
   "id": "d61851fd",
   "metadata": {
    "scrolled": true
   },
   "outputs": [
    {
     "data": {
      "text/html": [
       "<div>\n",
       "<style scoped>\n",
       "    .dataframe tbody tr th:only-of-type {\n",
       "        vertical-align: middle;\n",
       "    }\n",
       "\n",
       "    .dataframe tbody tr th {\n",
       "        vertical-align: top;\n",
       "    }\n",
       "\n",
       "    .dataframe thead th {\n",
       "        text-align: right;\n",
       "    }\n",
       "</style>\n",
       "<table border=\"1\" class=\"dataframe\">\n",
       "  <thead>\n",
       "    <tr style=\"text-align: right;\">\n",
       "      <th></th>\n",
       "      <th>nifty-up-or-down</th>\n",
       "      <th>nifty-news</th>\n",
       "      <th>economy</th>\n",
       "      <th>ipo</th>\n",
       "      <th>election2024</th>\n",
       "      <th>trends</th>\n",
       "      <th>indian-political</th>\n",
       "      <th>business</th>\n",
       "      <th>personal-finance</th>\n",
       "      <th>mutual-fund</th>\n",
       "    </tr>\n",
       "  </thead>\n",
       "  <tbody>\n",
       "    <tr>\n",
       "      <th>0</th>\n",
       "      <td>0</td>\n",
       "      <td>Why Nifty Next 50 is emerging as the hottest s...</td>\n",
       "      <td>The challenge of balancing the energy mix</td>\n",
       "      <td>Grill Splendour Services makes muted debut, li...</td>\n",
       "      <td>Liquidity deficit in banking system to narrow ...</td>\n",
       "      <td>Ola asked to pay Rs 1 lakh compensation to Hyd...</td>\n",
       "      <td>Murder Mystery: Karnataka man hires gang to ki...</td>\n",
       "      <td>Buy Persistent Systems; target of Rs 4,150: Sh...</td>\n",
       "      <td>Motilal Oswal Financial Services offers up to ...</td>\n",
       "      <td>Make debt attractive again for risk-averse inv...</td>\n",
       "    </tr>\n",
       "    <tr>\n",
       "      <th>1</th>\n",
       "      <td>1</td>\n",
       "      <td>Sensex settles above 75,000-mark for first tim...</td>\n",
       "      <td>IMF forecasts India will become fourth-largest...</td>\n",
       "      <td>Ramdevbaba Solvent makes bumper start, lists w...</td>\n",
       "      <td>Household Consumption Survey: A worrying conce...</td>\n",
       "      <td>Persistent Systems Q4 FY24 – Why we like every...</td>\n",
       "      <td>Salman Khan firing update: Police recover the ...</td>\n",
       "      <td>Meetup at Lonavala: RBI holds discussions with...</td>\n",
       "      <td>Make debt attractive again for risk-averse inv...</td>\n",
       "      <td>The schemes that moved out of MC30 2024 and why</td>\n",
       "    </tr>\n",
       "    <tr>\n",
       "      <th>2</th>\n",
       "      <td>1</td>\n",
       "      <td>Opening bell: Sensex, Nifty plunges ahead of R...</td>\n",
       "      <td>MC Inside Edge: Exide bulls make quiet exit, t...</td>\n",
       "      <td>JNK India IPO opens on April 23: Institutional...</td>\n",
       "      <td>World Street | Britain, Japan in recession, Ci...</td>\n",
       "      <td>How SpiceJet crew helped, cleaned elderly woma...</td>\n",
       "      <td>Arvind Kejriwal given insulin after spike in s...</td>\n",
       "      <td>Option strategy of the day | Manappuram Financ...</td>\n",
       "      <td>Invest Wise | Do gold, silver deserve a place ...</td>\n",
       "      <td>Top mutual funds: 3 new schemes that enter Mon...</td>\n",
       "    </tr>\n",
       "    <tr>\n",
       "      <th>3</th>\n",
       "      <td>1</td>\n",
       "      <td>Stock market today: Sensex surges 350 point to...</td>\n",
       "      <td>Moneycontrol Pro Panorama | A matter of taste</td>\n",
       "      <td>Vodafone Idea FPO subscribed 6x on final day, ...</td>\n",
       "      <td>RS polls: Bachchan and Ranjan are not among PD...</td>\n",
       "      <td>UP wedding turns violent over ‘juta chupai,’ c...</td>\n",
       "      <td>Discovery Series | Shaily Engineering: Moving ...</td>\n",
       "      <td>Kerala will defeat disconnected elements: J P ...</td>\n",
       "      <td>Acko’s Individual Health Insurance policy: Cla...</td>\n",
       "      <td>Best mutual funds: 86% of actively-managed sch...</td>\n",
       "    </tr>\n",
       "    <tr>\n",
       "      <th>4</th>\n",
       "      <td>1</td>\n",
       "      <td>Closing bell: Sensex decline around 100 points...</td>\n",
       "      <td>India needs rate cuts to reach potential growt...</td>\n",
       "      <td>Greenhitech Ventures off to a flyer, lists at ...</td>\n",
       "      <td>Don't require Nitish Kumar; Mahagathbandhan wi...</td>\n",
       "      <td>Happy Hanuman Jayanti: Date, history, signific...</td>\n",
       "      <td>Padma Awards: Venkaiah Naidu, Mithun Chakrabor...</td>\n",
       "      <td>Arvind Kejriwal given insulin after spike in s...</td>\n",
       "      <td>The schemes that moved out of MC30 2024 and why</td>\n",
       "      <td>These 15 high-PE stocks make your midcap funds...</td>\n",
       "    </tr>\n",
       "    <tr>\n",
       "      <th>...</th>\n",
       "      <td>...</td>\n",
       "      <td>...</td>\n",
       "      <td>...</td>\n",
       "      <td>...</td>\n",
       "      <td>...</td>\n",
       "      <td>...</td>\n",
       "      <td>...</td>\n",
       "      <td>...</td>\n",
       "      <td>...</td>\n",
       "      <td>...</td>\n",
       "    </tr>\n",
       "    <tr>\n",
       "      <th>695</th>\n",
       "      <td>0</td>\n",
       "      <td>Sensex falls 621 points amid weak global cues;...</td>\n",
       "      <td>Rupee rises 13 paise to close at 82.83 against...</td>\n",
       "      <td>Muthoot Microfin IPO: Should you subscribe to ...</td>\n",
       "      <td>Hectic parleys among top Cong leadership helpe...</td>\n",
       "      <td>Elon Musk opens up about drug use: 'The reason...</td>\n",
       "      <td>'Incredible India': UNGA President Dennis Fran...</td>\n",
       "      <td>Modi’s 100-day agenda includes $1.2 bn plan fo...</td>\n",
       "      <td>Should you pledge gold to invest in equities?</td>\n",
       "      <td>Will L&amp;T Mutual Fund’s acquisition inject fres...</td>\n",
       "    </tr>\n",
       "    <tr>\n",
       "      <th>696</th>\n",
       "      <td>1</td>\n",
       "      <td>Sensex, Nifty fall in volatile trading; energy...</td>\n",
       "      <td>India Ratings pegs FY25 GDP growth at 6.5%, sa...</td>\n",
       "      <td>RBZ Jewellers IPO opens today: 10 things to kn...</td>\n",
       "      <td>Siddaramaiah, Shivakumar express commitment to...</td>\n",
       "      <td>Google blocks computer engineer's email over '...</td>\n",
       "      <td>Palaniswami strains every nerve for the AIADMK...</td>\n",
       "      <td>ReNew partners with JERA to evaluate joint dev...</td>\n",
       "      <td>Overseas student travel insurance policies to ...</td>\n",
       "      <td>Budget 2023: Mutual funds ask for tax parity w...</td>\n",
       "    </tr>\n",
       "    <tr>\n",
       "      <th>697</th>\n",
       "      <td>0</td>\n",
       "      <td>Sensex, Nifty settle higher for 2nd straight d...</td>\n",
       "      <td>Japan Stock Market High: Congratulations Nikke...</td>\n",
       "      <td>Innova Captab IPO:10 things to know before sub...</td>\n",
       "      <td>Live: Congress announces Siddaramaiah as the n...</td>\n",
       "      <td>Goa's Fly91 starts Goa-Hyderabad, Goa-Bangalor...</td>\n",
       "      <td>4 dead as private bus headed to Gokarna from B...</td>\n",
       "      <td>JPMorgan says buy the dip if India poll volati...</td>\n",
       "      <td>Contrarian bets in market peaks: Midcap stocks...</td>\n",
       "      <td>Here are the favourite mid-cap and small-cap s...</td>\n",
       "    </tr>\n",
       "    <tr>\n",
       "      <th>698</th>\n",
       "      <td>0</td>\n",
       "      <td>Sensex, Nifty settle higher for 2nd straight d...</td>\n",
       "      <td>Moneycontrol Pro Panorama | A tale of two markets</td>\n",
       "      <td>Suraj Estate Developers IPO: Issue booked 68% ...</td>\n",
       "      <td>Siddaramaiah Karnataka's next CM; Shivakumar h...</td>\n",
       "      <td>Billionaire CEO died after Tesla reversed into...</td>\n",
       "      <td>IPL 2024 Match 19 Highlights | Rajasthan Royal...</td>\n",
       "      <td>RBI imposes monetary penalty on four co-operat...</td>\n",
       "      <td>Where to invest Rs 10 lakh today? Umeshkumar M...</td>\n",
       "      <td>Why mid and small-caps are poised for a good r...</td>\n",
       "    </tr>\n",
       "    <tr>\n",
       "      <th>699</th>\n",
       "      <td>1</td>\n",
       "      <td>Markets extend gains for fourth day amid mixed...</td>\n",
       "      <td>Govt allows Nafed, NCCF to sell maize to ethan...</td>\n",
       "      <td>Motisons Jewellers IPO sees over 14-fold subsc...</td>\n",
       "      <td>Siddaramaiah: A pro-poor leader who rose from ...</td>\n",
       "      <td>'Chaddi gang' breaks into Hyderabad school, st...</td>\n",
       "      <td>IPL 2024 Match 21 | Lucknow Supergiants Vs Guj...</td>\n",
       "      <td>SME IPO action: Ramdevbaba Solvent subscribed ...</td>\n",
       "      <td>The Atomic Edge: Is the Indian equity market r...</td>\n",
       "      <td>IIFL Finance NCD issue offering up to 9% yield...</td>\n",
       "    </tr>\n",
       "  </tbody>\n",
       "</table>\n",
       "<p>700 rows × 10 columns</p>\n",
       "</div>"
      ],
      "text/plain": [
       "     nifty-up-or-down                                         nifty-news  \\\n",
       "0                   0  Why Nifty Next 50 is emerging as the hottest s...   \n",
       "1                   1  Sensex settles above 75,000-mark for first tim...   \n",
       "2                   1  Opening bell: Sensex, Nifty plunges ahead of R...   \n",
       "3                   1  Stock market today: Sensex surges 350 point to...   \n",
       "4                   1  Closing bell: Sensex decline around 100 points...   \n",
       "..                ...                                                ...   \n",
       "695                 0  Sensex falls 621 points amid weak global cues;...   \n",
       "696                 1  Sensex, Nifty fall in volatile trading; energy...   \n",
       "697                 0  Sensex, Nifty settle higher for 2nd straight d...   \n",
       "698                 0  Sensex, Nifty settle higher for 2nd straight d...   \n",
       "699                 1  Markets extend gains for fourth day amid mixed...   \n",
       "\n",
       "                                               economy  \\\n",
       "0            The challenge of balancing the energy mix   \n",
       "1    IMF forecasts India will become fourth-largest...   \n",
       "2    MC Inside Edge: Exide bulls make quiet exit, t...   \n",
       "3        Moneycontrol Pro Panorama | A matter of taste   \n",
       "4    India needs rate cuts to reach potential growt...   \n",
       "..                                                 ...   \n",
       "695  Rupee rises 13 paise to close at 82.83 against...   \n",
       "696  India Ratings pegs FY25 GDP growth at 6.5%, sa...   \n",
       "697  Japan Stock Market High: Congratulations Nikke...   \n",
       "698  Moneycontrol Pro Panorama | A tale of two markets   \n",
       "699  Govt allows Nafed, NCCF to sell maize to ethan...   \n",
       "\n",
       "                                                   ipo  \\\n",
       "0    Grill Splendour Services makes muted debut, li...   \n",
       "1    Ramdevbaba Solvent makes bumper start, lists w...   \n",
       "2    JNK India IPO opens on April 23: Institutional...   \n",
       "3    Vodafone Idea FPO subscribed 6x on final day, ...   \n",
       "4    Greenhitech Ventures off to a flyer, lists at ...   \n",
       "..                                                 ...   \n",
       "695  Muthoot Microfin IPO: Should you subscribe to ...   \n",
       "696  RBZ Jewellers IPO opens today: 10 things to kn...   \n",
       "697  Innova Captab IPO:10 things to know before sub...   \n",
       "698  Suraj Estate Developers IPO: Issue booked 68% ...   \n",
       "699  Motisons Jewellers IPO sees over 14-fold subsc...   \n",
       "\n",
       "                                          election2024  \\\n",
       "0    Liquidity deficit in banking system to narrow ...   \n",
       "1    Household Consumption Survey: A worrying conce...   \n",
       "2    World Street | Britain, Japan in recession, Ci...   \n",
       "3    RS polls: Bachchan and Ranjan are not among PD...   \n",
       "4    Don't require Nitish Kumar; Mahagathbandhan wi...   \n",
       "..                                                 ...   \n",
       "695  Hectic parleys among top Cong leadership helpe...   \n",
       "696  Siddaramaiah, Shivakumar express commitment to...   \n",
       "697  Live: Congress announces Siddaramaiah as the n...   \n",
       "698  Siddaramaiah Karnataka's next CM; Shivakumar h...   \n",
       "699  Siddaramaiah: A pro-poor leader who rose from ...   \n",
       "\n",
       "                                                trends  \\\n",
       "0    Ola asked to pay Rs 1 lakh compensation to Hyd...   \n",
       "1    Persistent Systems Q4 FY24 – Why we like every...   \n",
       "2    How SpiceJet crew helped, cleaned elderly woma...   \n",
       "3    UP wedding turns violent over ‘juta chupai,’ c...   \n",
       "4    Happy Hanuman Jayanti: Date, history, signific...   \n",
       "..                                                 ...   \n",
       "695  Elon Musk opens up about drug use: 'The reason...   \n",
       "696  Google blocks computer engineer's email over '...   \n",
       "697  Goa's Fly91 starts Goa-Hyderabad, Goa-Bangalor...   \n",
       "698  Billionaire CEO died after Tesla reversed into...   \n",
       "699  'Chaddi gang' breaks into Hyderabad school, st...   \n",
       "\n",
       "                                      indian-political  \\\n",
       "0    Murder Mystery: Karnataka man hires gang to ki...   \n",
       "1    Salman Khan firing update: Police recover the ...   \n",
       "2    Arvind Kejriwal given insulin after spike in s...   \n",
       "3    Discovery Series | Shaily Engineering: Moving ...   \n",
       "4    Padma Awards: Venkaiah Naidu, Mithun Chakrabor...   \n",
       "..                                                 ...   \n",
       "695  'Incredible India': UNGA President Dennis Fran...   \n",
       "696  Palaniswami strains every nerve for the AIADMK...   \n",
       "697  4 dead as private bus headed to Gokarna from B...   \n",
       "698  IPL 2024 Match 19 Highlights | Rajasthan Royal...   \n",
       "699  IPL 2024 Match 21 | Lucknow Supergiants Vs Guj...   \n",
       "\n",
       "                                              business  \\\n",
       "0    Buy Persistent Systems; target of Rs 4,150: Sh...   \n",
       "1    Meetup at Lonavala: RBI holds discussions with...   \n",
       "2    Option strategy of the day | Manappuram Financ...   \n",
       "3    Kerala will defeat disconnected elements: J P ...   \n",
       "4    Arvind Kejriwal given insulin after spike in s...   \n",
       "..                                                 ...   \n",
       "695  Modi’s 100-day agenda includes $1.2 bn plan fo...   \n",
       "696  ReNew partners with JERA to evaluate joint dev...   \n",
       "697  JPMorgan says buy the dip if India poll volati...   \n",
       "698  RBI imposes monetary penalty on four co-operat...   \n",
       "699  SME IPO action: Ramdevbaba Solvent subscribed ...   \n",
       "\n",
       "                                      personal-finance  \\\n",
       "0    Motilal Oswal Financial Services offers up to ...   \n",
       "1    Make debt attractive again for risk-averse inv...   \n",
       "2    Invest Wise | Do gold, silver deserve a place ...   \n",
       "3    Acko’s Individual Health Insurance policy: Cla...   \n",
       "4      The schemes that moved out of MC30 2024 and why   \n",
       "..                                                 ...   \n",
       "695      Should you pledge gold to invest in equities?   \n",
       "696  Overseas student travel insurance policies to ...   \n",
       "697  Contrarian bets in market peaks: Midcap stocks...   \n",
       "698  Where to invest Rs 10 lakh today? Umeshkumar M...   \n",
       "699  The Atomic Edge: Is the Indian equity market r...   \n",
       "\n",
       "                                           mutual-fund  \n",
       "0    Make debt attractive again for risk-averse inv...  \n",
       "1      The schemes that moved out of MC30 2024 and why  \n",
       "2    Top mutual funds: 3 new schemes that enter Mon...  \n",
       "3    Best mutual funds: 86% of actively-managed sch...  \n",
       "4    These 15 high-PE stocks make your midcap funds...  \n",
       "..                                                 ...  \n",
       "695  Will L&T Mutual Fund’s acquisition inject fres...  \n",
       "696  Budget 2023: Mutual funds ask for tax parity w...  \n",
       "697  Here are the favourite mid-cap and small-cap s...  \n",
       "698  Why mid and small-caps are poised for a good r...  \n",
       "699  IIFL Finance NCD issue offering up to 9% yield...  \n",
       "\n",
       "[700 rows x 10 columns]"
      ]
     },
     "execution_count": 287,
     "metadata": {},
     "output_type": "execute_result"
    }
   ],
   "source": [
    "import pandas as pd\n",
    "\n",
    "final_data={'nifty-up-or-down':dummy_depended_variables,'nifty-news':nifty ,'economy':economy,'ipo':ipo,'election2024':election2024,'trends':trends,'indian-political':indian_political,'business':business,'personal-finance':personal_finance,'mutual-fund':mutualFund}\n",
    "\n",
    "\n",
    "df=pd.DataFrame(final_data)\n",
    "df\n",
    "\n"
   ]
  },
  {
   "cell_type": "markdown",
   "id": "7d137ffb",
   "metadata": {},
   "source": [
    "text-preprocessing "
   ]
  },
  {
   "cell_type": "code",
   "execution_count": 288,
   "id": "b2f8b0dc",
   "metadata": {},
   "outputs": [],
   "source": [
    "df.head(4)\n",
    "data=df\n"
   ]
  },
  {
   "cell_type": "code",
   "execution_count": 289,
   "id": "ca0b08ea",
   "metadata": {},
   "outputs": [],
   "source": [
    "\n",
    "# list1 = [i for i in range(12)]\n",
    "# new_index = [str(i) for i in list1]\n",
    "\n",
    "\n",
    "# data.columns=new_index"
   ]
  },
  {
   "cell_type": "code",
   "execution_count": 290,
   "id": "6629a829",
   "metadata": {},
   "outputs": [
    {
     "data": {
      "text/plain": [
       "(700, 10)"
      ]
     },
     "execution_count": 290,
     "metadata": {},
     "output_type": "execute_result"
    }
   ],
   "source": [
    "data.shape\n"
   ]
  },
  {
   "cell_type": "code",
   "execution_count": 291,
   "id": "3a75faaf",
   "metadata": {},
   "outputs": [],
   "source": [
    "data_review=[]\n",
    "\n",
    "for row in range(0,len(data.index)):\n",
    "    data_review.append(' '.join(str(x) for x in data.iloc[row,1:12]))"
   ]
  },
  {
   "cell_type": "code",
   "execution_count": 292,
   "id": "4d319698",
   "metadata": {},
   "outputs": [
    {
     "data": {
      "text/plain": [
       "'Sensex settles above 75,000-mark for first time, Nifty closes at record high IMF forecasts India will become fourth-largest economy by 2025, third by 2027 Ramdevbaba Solvent makes bumper start, lists with 31% premium on NSE SME Household Consumption Survey: A worrying concentration of income that doesn’t help industrial growth Persistent Systems Q4 FY24 – Why we like everything except the valuation Salman Khan firing update: Police recover the gun from Tapi river in Surat Meetup at Lonavala: RBI holds discussions with banks and fintechs on ways to popularise CBDC Make debt attractive again for risk-averse investors shifting to equities for better tax saving The schemes that moved out of MC30 2024 and why'"
      ]
     },
     "execution_count": 292,
     "metadata": {},
     "output_type": "execute_result"
    }
   ],
   "source": [
    "len(data_review)\n",
    "data_review[1]"
   ]
  },
  {
   "cell_type": "code",
   "execution_count": 293,
   "id": "661da7f7",
   "metadata": {},
   "outputs": [],
   "source": [
    "import nltk\n",
    "from nltk.stem import PorterStemmer, WordNetLemmatizer\n",
    "import re\n",
    "porter = PorterStemmer()\n",
    "lemmatizer = WordNetLemmatizer()\n"
   ]
  },
  {
   "cell_type": "code",
   "execution_count": 294,
   "id": "fdf50a1b",
   "metadata": {},
   "outputs": [
    {
     "name": "stderr",
     "output_type": "stream",
     "text": [
      "[nltk_data] Downloading package stopwords to C:\\Users\\Ashutosh\n",
      "[nltk_data]     raj\\AppData\\Roaming\\nltk_data...\n",
      "[nltk_data]   Package stopwords is already up-to-date!\n"
     ]
    }
   ],
   "source": [
    "from nltk.corpus import stopwords\n",
    "nltk.download(\"stopwords\")\n",
    "stop=stopwords.words('english')\n",
    "\n",
    "\n",
    "    \n",
    "    \n",
    "   \n",
    "    "
   ]
  },
  {
   "cell_type": "code",
   "execution_count": 295,
   "id": "fc766d84",
   "metadata": {},
   "outputs": [],
   "source": [
    "def stemming(review_text):\n",
    "    letters_only = re.sub('[^a-zA-Z]', ' ', review_text)\n",
    "    # 3. lower letters\n",
    "    words = letters_only.lower().split()\n",
    "    # 5. Stopwords\n",
    "    meaningful_words = [w for w in words if not w in stop]\n",
    "    # 6. lemmitization\n",
    "    lemmitize_words = [lemmatizer.lemmatize(w) for w in meaningful_words]\n",
    "    # 7. space join words\n",
    "    return( ' '.join(lemmitize_words))\n",
    "\n",
    "for i in range(len(data_review)):\n",
    "    data_review[i]= stemming(data_review[i])"
   ]
  },
  {
   "cell_type": "code",
   "execution_count": 296,
   "id": "89c866c6",
   "metadata": {},
   "outputs": [
    {
     "data": {
      "text/plain": [
       "'closing bell sensex decline around point nifty settle india need rate cut reach potential growth say mpc member jayanth varma ashima goyal greenhitech venture flyer list premium bse sme require nitish kumar mahagathbandhan fight social justice bihar rahul gandhi happy hanuman jayanti date history significance wish padma award venkaiah naidu mithun chakraborty usha uthup cp thakur others conferred arvind kejriwal given insulin spike sugar level tihar official scheme moved mc high pe stock make midcap fund expensive'"
      ]
     },
     "execution_count": 296,
     "metadata": {},
     "output_type": "execute_result"
    }
   ],
   "source": [
    "data_review[4]"
   ]
  },
  {
   "cell_type": "code",
   "execution_count": 297,
   "id": "10e5198e",
   "metadata": {},
   "outputs": [],
   "source": [
    "data['data_review']=data_review"
   ]
  },
  {
   "cell_type": "code",
   "execution_count": 298,
   "id": "175fde05",
   "metadata": {
    "scrolled": true
   },
   "outputs": [
    {
     "data": {
      "text/html": [
       "<div>\n",
       "<style scoped>\n",
       "    .dataframe tbody tr th:only-of-type {\n",
       "        vertical-align: middle;\n",
       "    }\n",
       "\n",
       "    .dataframe tbody tr th {\n",
       "        vertical-align: top;\n",
       "    }\n",
       "\n",
       "    .dataframe thead th {\n",
       "        text-align: right;\n",
       "    }\n",
       "</style>\n",
       "<table border=\"1\" class=\"dataframe\">\n",
       "  <thead>\n",
       "    <tr style=\"text-align: right;\">\n",
       "      <th></th>\n",
       "      <th>nifty-up-or-down</th>\n",
       "      <th>nifty-news</th>\n",
       "      <th>economy</th>\n",
       "      <th>ipo</th>\n",
       "      <th>election2024</th>\n",
       "      <th>trends</th>\n",
       "      <th>indian-political</th>\n",
       "      <th>business</th>\n",
       "      <th>personal-finance</th>\n",
       "      <th>mutual-fund</th>\n",
       "      <th>data_review</th>\n",
       "    </tr>\n",
       "  </thead>\n",
       "  <tbody>\n",
       "    <tr>\n",
       "      <th>0</th>\n",
       "      <td>0</td>\n",
       "      <td>Why Nifty Next 50 is emerging as the hottest s...</td>\n",
       "      <td>The challenge of balancing the energy mix</td>\n",
       "      <td>Grill Splendour Services makes muted debut, li...</td>\n",
       "      <td>Liquidity deficit in banking system to narrow ...</td>\n",
       "      <td>Ola asked to pay Rs 1 lakh compensation to Hyd...</td>\n",
       "      <td>Murder Mystery: Karnataka man hires gang to ki...</td>\n",
       "      <td>Buy Persistent Systems; target of Rs 4,150: Sh...</td>\n",
       "      <td>Motilal Oswal Financial Services offers up to ...</td>\n",
       "      <td>Make debt attractive again for risk-averse inv...</td>\n",
       "      <td>nifty next emerging hottest stock index india ...</td>\n",
       "    </tr>\n",
       "    <tr>\n",
       "      <th>1</th>\n",
       "      <td>1</td>\n",
       "      <td>Sensex settles above 75,000-mark for first tim...</td>\n",
       "      <td>IMF forecasts India will become fourth-largest...</td>\n",
       "      <td>Ramdevbaba Solvent makes bumper start, lists w...</td>\n",
       "      <td>Household Consumption Survey: A worrying conce...</td>\n",
       "      <td>Persistent Systems Q4 FY24 – Why we like every...</td>\n",
       "      <td>Salman Khan firing update: Police recover the ...</td>\n",
       "      <td>Meetup at Lonavala: RBI holds discussions with...</td>\n",
       "      <td>Make debt attractive again for risk-averse inv...</td>\n",
       "      <td>The schemes that moved out of MC30 2024 and why</td>\n",
       "      <td>sensex settle mark first time nifty close reco...</td>\n",
       "    </tr>\n",
       "    <tr>\n",
       "      <th>2</th>\n",
       "      <td>1</td>\n",
       "      <td>Opening bell: Sensex, Nifty plunges ahead of R...</td>\n",
       "      <td>MC Inside Edge: Exide bulls make quiet exit, t...</td>\n",
       "      <td>JNK India IPO opens on April 23: Institutional...</td>\n",
       "      <td>World Street | Britain, Japan in recession, Ci...</td>\n",
       "      <td>How SpiceJet crew helped, cleaned elderly woma...</td>\n",
       "      <td>Arvind Kejriwal given insulin after spike in s...</td>\n",
       "      <td>Option strategy of the day | Manappuram Financ...</td>\n",
       "      <td>Invest Wise | Do gold, silver deserve a place ...</td>\n",
       "      <td>Top mutual funds: 3 new schemes that enter Mon...</td>\n",
       "      <td>opening bell sensex nifty plunge ahead rbi rep...</td>\n",
       "    </tr>\n",
       "    <tr>\n",
       "      <th>3</th>\n",
       "      <td>1</td>\n",
       "      <td>Stock market today: Sensex surges 350 point to...</td>\n",
       "      <td>Moneycontrol Pro Panorama | A matter of taste</td>\n",
       "      <td>Vodafone Idea FPO subscribed 6x on final day, ...</td>\n",
       "      <td>RS polls: Bachchan and Ranjan are not among PD...</td>\n",
       "      <td>UP wedding turns violent over ‘juta chupai,’ c...</td>\n",
       "      <td>Discovery Series | Shaily Engineering: Moving ...</td>\n",
       "      <td>Kerala will defeat disconnected elements: J P ...</td>\n",
       "      <td>Acko’s Individual Health Insurance policy: Cla...</td>\n",
       "      <td>Best mutual funds: 86% of actively-managed sch...</td>\n",
       "      <td>stock market today sensex surge point settle t...</td>\n",
       "    </tr>\n",
       "    <tr>\n",
       "      <th>4</th>\n",
       "      <td>1</td>\n",
       "      <td>Closing bell: Sensex decline around 100 points...</td>\n",
       "      <td>India needs rate cuts to reach potential growt...</td>\n",
       "      <td>Greenhitech Ventures off to a flyer, lists at ...</td>\n",
       "      <td>Don't require Nitish Kumar; Mahagathbandhan wi...</td>\n",
       "      <td>Happy Hanuman Jayanti: Date, history, signific...</td>\n",
       "      <td>Padma Awards: Venkaiah Naidu, Mithun Chakrabor...</td>\n",
       "      <td>Arvind Kejriwal given insulin after spike in s...</td>\n",
       "      <td>The schemes that moved out of MC30 2024 and why</td>\n",
       "      <td>These 15 high-PE stocks make your midcap funds...</td>\n",
       "      <td>closing bell sensex decline around point nifty...</td>\n",
       "    </tr>\n",
       "    <tr>\n",
       "      <th>...</th>\n",
       "      <td>...</td>\n",
       "      <td>...</td>\n",
       "      <td>...</td>\n",
       "      <td>...</td>\n",
       "      <td>...</td>\n",
       "      <td>...</td>\n",
       "      <td>...</td>\n",
       "      <td>...</td>\n",
       "      <td>...</td>\n",
       "      <td>...</td>\n",
       "      <td>...</td>\n",
       "    </tr>\n",
       "    <tr>\n",
       "      <th>695</th>\n",
       "      <td>0</td>\n",
       "      <td>Sensex falls 621 points amid weak global cues;...</td>\n",
       "      <td>Rupee rises 13 paise to close at 82.83 against...</td>\n",
       "      <td>Muthoot Microfin IPO: Should you subscribe to ...</td>\n",
       "      <td>Hectic parleys among top Cong leadership helpe...</td>\n",
       "      <td>Elon Musk opens up about drug use: 'The reason...</td>\n",
       "      <td>'Incredible India': UNGA President Dennis Fran...</td>\n",
       "      <td>Modi’s 100-day agenda includes $1.2 bn plan fo...</td>\n",
       "      <td>Should you pledge gold to invest in equities?</td>\n",
       "      <td>Will L&amp;T Mutual Fund’s acquisition inject fres...</td>\n",
       "      <td>sensex fall point amid weak global cue nifty e...</td>\n",
       "    </tr>\n",
       "    <tr>\n",
       "      <th>696</th>\n",
       "      <td>1</td>\n",
       "      <td>Sensex, Nifty fall in volatile trading; energy...</td>\n",
       "      <td>India Ratings pegs FY25 GDP growth at 6.5%, sa...</td>\n",
       "      <td>RBZ Jewellers IPO opens today: 10 things to kn...</td>\n",
       "      <td>Siddaramaiah, Shivakumar express commitment to...</td>\n",
       "      <td>Google blocks computer engineer's email over '...</td>\n",
       "      <td>Palaniswami strains every nerve for the AIADMK...</td>\n",
       "      <td>ReNew partners with JERA to evaluate joint dev...</td>\n",
       "      <td>Overseas student travel insurance policies to ...</td>\n",
       "      <td>Budget 2023: Mutual funds ask for tax parity w...</td>\n",
       "      <td>sensex nifty fall volatile trading energy meta...</td>\n",
       "    </tr>\n",
       "    <tr>\n",
       "      <th>697</th>\n",
       "      <td>0</td>\n",
       "      <td>Sensex, Nifty settle higher for 2nd straight d...</td>\n",
       "      <td>Japan Stock Market High: Congratulations Nikke...</td>\n",
       "      <td>Innova Captab IPO:10 things to know before sub...</td>\n",
       "      <td>Live: Congress announces Siddaramaiah as the n...</td>\n",
       "      <td>Goa's Fly91 starts Goa-Hyderabad, Goa-Bangalor...</td>\n",
       "      <td>4 dead as private bus headed to Gokarna from B...</td>\n",
       "      <td>JPMorgan says buy the dip if India poll volati...</td>\n",
       "      <td>Contrarian bets in market peaks: Midcap stocks...</td>\n",
       "      <td>Here are the favourite mid-cap and small-cap s...</td>\n",
       "      <td>sensex nifty settle higher nd straight day rel...</td>\n",
       "    </tr>\n",
       "    <tr>\n",
       "      <th>698</th>\n",
       "      <td>0</td>\n",
       "      <td>Sensex, Nifty settle higher for 2nd straight d...</td>\n",
       "      <td>Moneycontrol Pro Panorama | A tale of two markets</td>\n",
       "      <td>Suraj Estate Developers IPO: Issue booked 68% ...</td>\n",
       "      <td>Siddaramaiah Karnataka's next CM; Shivakumar h...</td>\n",
       "      <td>Billionaire CEO died after Tesla reversed into...</td>\n",
       "      <td>IPL 2024 Match 19 Highlights | Rajasthan Royal...</td>\n",
       "      <td>RBI imposes monetary penalty on four co-operat...</td>\n",
       "      <td>Where to invest Rs 10 lakh today? Umeshkumar M...</td>\n",
       "      <td>Why mid and small-caps are poised for a good r...</td>\n",
       "      <td>sensex nifty settle higher nd straight day rel...</td>\n",
       "    </tr>\n",
       "    <tr>\n",
       "      <th>699</th>\n",
       "      <td>1</td>\n",
       "      <td>Markets extend gains for fourth day amid mixed...</td>\n",
       "      <td>Govt allows Nafed, NCCF to sell maize to ethan...</td>\n",
       "      <td>Motisons Jewellers IPO sees over 14-fold subsc...</td>\n",
       "      <td>Siddaramaiah: A pro-poor leader who rose from ...</td>\n",
       "      <td>'Chaddi gang' breaks into Hyderabad school, st...</td>\n",
       "      <td>IPL 2024 Match 21 | Lucknow Supergiants Vs Guj...</td>\n",
       "      <td>SME IPO action: Ramdevbaba Solvent subscribed ...</td>\n",
       "      <td>The Atomic Edge: Is the Indian equity market r...</td>\n",
       "      <td>IIFL Finance NCD issue offering up to 9% yield...</td>\n",
       "      <td>market extend gain fourth day amid mixed globa...</td>\n",
       "    </tr>\n",
       "  </tbody>\n",
       "</table>\n",
       "<p>700 rows × 11 columns</p>\n",
       "</div>"
      ],
      "text/plain": [
       "     nifty-up-or-down                                         nifty-news  \\\n",
       "0                   0  Why Nifty Next 50 is emerging as the hottest s...   \n",
       "1                   1  Sensex settles above 75,000-mark for first tim...   \n",
       "2                   1  Opening bell: Sensex, Nifty plunges ahead of R...   \n",
       "3                   1  Stock market today: Sensex surges 350 point to...   \n",
       "4                   1  Closing bell: Sensex decline around 100 points...   \n",
       "..                ...                                                ...   \n",
       "695                 0  Sensex falls 621 points amid weak global cues;...   \n",
       "696                 1  Sensex, Nifty fall in volatile trading; energy...   \n",
       "697                 0  Sensex, Nifty settle higher for 2nd straight d...   \n",
       "698                 0  Sensex, Nifty settle higher for 2nd straight d...   \n",
       "699                 1  Markets extend gains for fourth day amid mixed...   \n",
       "\n",
       "                                               economy  \\\n",
       "0            The challenge of balancing the energy mix   \n",
       "1    IMF forecasts India will become fourth-largest...   \n",
       "2    MC Inside Edge: Exide bulls make quiet exit, t...   \n",
       "3        Moneycontrol Pro Panorama | A matter of taste   \n",
       "4    India needs rate cuts to reach potential growt...   \n",
       "..                                                 ...   \n",
       "695  Rupee rises 13 paise to close at 82.83 against...   \n",
       "696  India Ratings pegs FY25 GDP growth at 6.5%, sa...   \n",
       "697  Japan Stock Market High: Congratulations Nikke...   \n",
       "698  Moneycontrol Pro Panorama | A tale of two markets   \n",
       "699  Govt allows Nafed, NCCF to sell maize to ethan...   \n",
       "\n",
       "                                                   ipo  \\\n",
       "0    Grill Splendour Services makes muted debut, li...   \n",
       "1    Ramdevbaba Solvent makes bumper start, lists w...   \n",
       "2    JNK India IPO opens on April 23: Institutional...   \n",
       "3    Vodafone Idea FPO subscribed 6x on final day, ...   \n",
       "4    Greenhitech Ventures off to a flyer, lists at ...   \n",
       "..                                                 ...   \n",
       "695  Muthoot Microfin IPO: Should you subscribe to ...   \n",
       "696  RBZ Jewellers IPO opens today: 10 things to kn...   \n",
       "697  Innova Captab IPO:10 things to know before sub...   \n",
       "698  Suraj Estate Developers IPO: Issue booked 68% ...   \n",
       "699  Motisons Jewellers IPO sees over 14-fold subsc...   \n",
       "\n",
       "                                          election2024  \\\n",
       "0    Liquidity deficit in banking system to narrow ...   \n",
       "1    Household Consumption Survey: A worrying conce...   \n",
       "2    World Street | Britain, Japan in recession, Ci...   \n",
       "3    RS polls: Bachchan and Ranjan are not among PD...   \n",
       "4    Don't require Nitish Kumar; Mahagathbandhan wi...   \n",
       "..                                                 ...   \n",
       "695  Hectic parleys among top Cong leadership helpe...   \n",
       "696  Siddaramaiah, Shivakumar express commitment to...   \n",
       "697  Live: Congress announces Siddaramaiah as the n...   \n",
       "698  Siddaramaiah Karnataka's next CM; Shivakumar h...   \n",
       "699  Siddaramaiah: A pro-poor leader who rose from ...   \n",
       "\n",
       "                                                trends  \\\n",
       "0    Ola asked to pay Rs 1 lakh compensation to Hyd...   \n",
       "1    Persistent Systems Q4 FY24 – Why we like every...   \n",
       "2    How SpiceJet crew helped, cleaned elderly woma...   \n",
       "3    UP wedding turns violent over ‘juta chupai,’ c...   \n",
       "4    Happy Hanuman Jayanti: Date, history, signific...   \n",
       "..                                                 ...   \n",
       "695  Elon Musk opens up about drug use: 'The reason...   \n",
       "696  Google blocks computer engineer's email over '...   \n",
       "697  Goa's Fly91 starts Goa-Hyderabad, Goa-Bangalor...   \n",
       "698  Billionaire CEO died after Tesla reversed into...   \n",
       "699  'Chaddi gang' breaks into Hyderabad school, st...   \n",
       "\n",
       "                                      indian-political  \\\n",
       "0    Murder Mystery: Karnataka man hires gang to ki...   \n",
       "1    Salman Khan firing update: Police recover the ...   \n",
       "2    Arvind Kejriwal given insulin after spike in s...   \n",
       "3    Discovery Series | Shaily Engineering: Moving ...   \n",
       "4    Padma Awards: Venkaiah Naidu, Mithun Chakrabor...   \n",
       "..                                                 ...   \n",
       "695  'Incredible India': UNGA President Dennis Fran...   \n",
       "696  Palaniswami strains every nerve for the AIADMK...   \n",
       "697  4 dead as private bus headed to Gokarna from B...   \n",
       "698  IPL 2024 Match 19 Highlights | Rajasthan Royal...   \n",
       "699  IPL 2024 Match 21 | Lucknow Supergiants Vs Guj...   \n",
       "\n",
       "                                              business  \\\n",
       "0    Buy Persistent Systems; target of Rs 4,150: Sh...   \n",
       "1    Meetup at Lonavala: RBI holds discussions with...   \n",
       "2    Option strategy of the day | Manappuram Financ...   \n",
       "3    Kerala will defeat disconnected elements: J P ...   \n",
       "4    Arvind Kejriwal given insulin after spike in s...   \n",
       "..                                                 ...   \n",
       "695  Modi’s 100-day agenda includes $1.2 bn plan fo...   \n",
       "696  ReNew partners with JERA to evaluate joint dev...   \n",
       "697  JPMorgan says buy the dip if India poll volati...   \n",
       "698  RBI imposes monetary penalty on four co-operat...   \n",
       "699  SME IPO action: Ramdevbaba Solvent subscribed ...   \n",
       "\n",
       "                                      personal-finance  \\\n",
       "0    Motilal Oswal Financial Services offers up to ...   \n",
       "1    Make debt attractive again for risk-averse inv...   \n",
       "2    Invest Wise | Do gold, silver deserve a place ...   \n",
       "3    Acko’s Individual Health Insurance policy: Cla...   \n",
       "4      The schemes that moved out of MC30 2024 and why   \n",
       "..                                                 ...   \n",
       "695      Should you pledge gold to invest in equities?   \n",
       "696  Overseas student travel insurance policies to ...   \n",
       "697  Contrarian bets in market peaks: Midcap stocks...   \n",
       "698  Where to invest Rs 10 lakh today? Umeshkumar M...   \n",
       "699  The Atomic Edge: Is the Indian equity market r...   \n",
       "\n",
       "                                           mutual-fund  \\\n",
       "0    Make debt attractive again for risk-averse inv...   \n",
       "1      The schemes that moved out of MC30 2024 and why   \n",
       "2    Top mutual funds: 3 new schemes that enter Mon...   \n",
       "3    Best mutual funds: 86% of actively-managed sch...   \n",
       "4    These 15 high-PE stocks make your midcap funds...   \n",
       "..                                                 ...   \n",
       "695  Will L&T Mutual Fund’s acquisition inject fres...   \n",
       "696  Budget 2023: Mutual funds ask for tax parity w...   \n",
       "697  Here are the favourite mid-cap and small-cap s...   \n",
       "698  Why mid and small-caps are poised for a good r...   \n",
       "699  IIFL Finance NCD issue offering up to 9% yield...   \n",
       "\n",
       "                                           data_review  \n",
       "0    nifty next emerging hottest stock index india ...  \n",
       "1    sensex settle mark first time nifty close reco...  \n",
       "2    opening bell sensex nifty plunge ahead rbi rep...  \n",
       "3    stock market today sensex surge point settle t...  \n",
       "4    closing bell sensex decline around point nifty...  \n",
       "..                                                 ...  \n",
       "695  sensex fall point amid weak global cue nifty e...  \n",
       "696  sensex nifty fall volatile trading energy meta...  \n",
       "697  sensex nifty settle higher nd straight day rel...  \n",
       "698  sensex nifty settle higher nd straight day rel...  \n",
       "699  market extend gain fourth day amid mixed globa...  \n",
       "\n",
       "[700 rows x 11 columns]"
      ]
     },
     "execution_count": 298,
     "metadata": {},
     "output_type": "execute_result"
    }
   ],
   "source": [
    "data"
   ]
  },
  {
   "cell_type": "code",
   "execution_count": 299,
   "id": "f8b229ec",
   "metadata": {},
   "outputs": [],
   "source": [
    "x=data['data_review']\n",
    "y=data['nifty-up-or-down']\n"
   ]
  },
  {
   "cell_type": "raw",
   "id": "80a502de",
   "metadata": {},
   "source": [
    "#train-test-split -> feature extraction \n"
   ]
  },
  {
   "cell_type": "code",
   "execution_count": 300,
   "id": "26eee771",
   "metadata": {},
   "outputs": [],
   "source": [
    "from sklearn.model_selection import train_test_split\n",
    "x_train,x_test,y_train,y_test=train_test_split(x,y,test_size=0.2,stratify=y,random_state=2)"
   ]
  },
  {
   "cell_type": "code",
   "execution_count": null,
   "id": "93e179c3",
   "metadata": {},
   "outputs": [],
   "source": []
  },
  {
   "cell_type": "code",
   "execution_count": 301,
   "id": "d4c8e7c5",
   "metadata": {},
   "outputs": [],
   "source": [
    "from sklearn.feature_extraction.text import  CountVectorizer, TfidfVectorizer\n",
    "from sklearn.linear_model import PassiveAggressiveClassifier\n",
    "from sklearn.naive_bayes import MultinomialNB\n",
    "from sklearn import metrics\n",
    "import matplotlib.pyplot as plt\n"
   ]
  },
  {
   "cell_type": "markdown",
   "id": "947ac9b2",
   "metadata": {},
   "source": [
    "bags of word"
   ]
  },
  {
   "cell_type": "code",
   "execution_count": 302,
   "id": "d9fbe34a",
   "metadata": {},
   "outputs": [],
   "source": [
    "\n",
    "\n",
    "tfidf_vectorizer = TfidfVectorizer(stop_words='english', max_df=0.8)\n",
    "x_train_tfidf = tfidf_vectorizer.fit_transform(x_train)\n",
    "x_test_tfidf = tfidf_vectorizer.transform(x_test)\n",
    "\n",
    "\n",
    "count_vectorizer = CountVectorizer(stop_words='english')\n",
    "\n",
    "x_train_count = count_vectorizer.fit_transform(x_train)\n",
    "\n",
    "x_test_count = count_vectorizer.transform(x_test)\n",
    "\n",
    "\n",
    "\n",
    "\n",
    "\n",
    "\n"
   ]
  },
  {
   "cell_type": "code",
   "execution_count": 303,
   "id": "162ccb24",
   "metadata": {},
   "outputs": [
    {
     "data": {
      "text/plain": [
       "<140x7460 sparse matrix of type '<class 'numpy.int64'>'\n",
       "\twith 9502 stored elements in Compressed Sparse Row format>"
      ]
     },
     "execution_count": 303,
     "metadata": {},
     "output_type": "execute_result"
    }
   ],
   "source": [
    "x_test_count"
   ]
  },
  {
   "cell_type": "code",
   "execution_count": 304,
   "id": "a287d22f",
   "metadata": {},
   "outputs": [
    {
     "data": {
      "text/plain": [
       "<560x7460 sparse matrix of type '<class 'numpy.float64'>'\n",
       "\twith 41222 stored elements in Compressed Sparse Row format>"
      ]
     },
     "execution_count": 304,
     "metadata": {},
     "output_type": "execute_result"
    }
   ],
   "source": [
    "x_train_tfidf"
   ]
  },
  {
   "cell_type": "markdown",
   "id": "e6751c26",
   "metadata": {},
   "source": [
    "# 1.apply various training models"
   ]
  },
  {
   "cell_type": "markdown",
   "id": "ab125b02",
   "metadata": {},
   "source": [
    "# 1.1 logistic regression model -using (count-vectorizer)"
   ]
  },
  {
   "cell_type": "code",
   "execution_count": 305,
   "id": "481e97f5",
   "metadata": {},
   "outputs": [
    {
     "data": {
      "text/html": [
       "<style>#sk-container-id-33 {color: black;}#sk-container-id-33 pre{padding: 0;}#sk-container-id-33 div.sk-toggleable {background-color: white;}#sk-container-id-33 label.sk-toggleable__label {cursor: pointer;display: block;width: 100%;margin-bottom: 0;padding: 0.3em;box-sizing: border-box;text-align: center;}#sk-container-id-33 label.sk-toggleable__label-arrow:before {content: \"▸\";float: left;margin-right: 0.25em;color: #696969;}#sk-container-id-33 label.sk-toggleable__label-arrow:hover:before {color: black;}#sk-container-id-33 div.sk-estimator:hover label.sk-toggleable__label-arrow:before {color: black;}#sk-container-id-33 div.sk-toggleable__content {max-height: 0;max-width: 0;overflow: hidden;text-align: left;background-color: #f0f8ff;}#sk-container-id-33 div.sk-toggleable__content pre {margin: 0.2em;color: black;border-radius: 0.25em;background-color: #f0f8ff;}#sk-container-id-33 input.sk-toggleable__control:checked~div.sk-toggleable__content {max-height: 200px;max-width: 100%;overflow: auto;}#sk-container-id-33 input.sk-toggleable__control:checked~label.sk-toggleable__label-arrow:before {content: \"▾\";}#sk-container-id-33 div.sk-estimator input.sk-toggleable__control:checked~label.sk-toggleable__label {background-color: #d4ebff;}#sk-container-id-33 div.sk-label input.sk-toggleable__control:checked~label.sk-toggleable__label {background-color: #d4ebff;}#sk-container-id-33 input.sk-hidden--visually {border: 0;clip: rect(1px 1px 1px 1px);clip: rect(1px, 1px, 1px, 1px);height: 1px;margin: -1px;overflow: hidden;padding: 0;position: absolute;width: 1px;}#sk-container-id-33 div.sk-estimator {font-family: monospace;background-color: #f0f8ff;border: 1px dotted black;border-radius: 0.25em;box-sizing: border-box;margin-bottom: 0.5em;}#sk-container-id-33 div.sk-estimator:hover {background-color: #d4ebff;}#sk-container-id-33 div.sk-parallel-item::after {content: \"\";width: 100%;border-bottom: 1px solid gray;flex-grow: 1;}#sk-container-id-33 div.sk-label:hover label.sk-toggleable__label {background-color: #d4ebff;}#sk-container-id-33 div.sk-serial::before {content: \"\";position: absolute;border-left: 1px solid gray;box-sizing: border-box;top: 0;bottom: 0;left: 50%;z-index: 0;}#sk-container-id-33 div.sk-serial {display: flex;flex-direction: column;align-items: center;background-color: white;padding-right: 0.2em;padding-left: 0.2em;position: relative;}#sk-container-id-33 div.sk-item {position: relative;z-index: 1;}#sk-container-id-33 div.sk-parallel {display: flex;align-items: stretch;justify-content: center;background-color: white;position: relative;}#sk-container-id-33 div.sk-item::before, #sk-container-id-33 div.sk-parallel-item::before {content: \"\";position: absolute;border-left: 1px solid gray;box-sizing: border-box;top: 0;bottom: 0;left: 50%;z-index: -1;}#sk-container-id-33 div.sk-parallel-item {display: flex;flex-direction: column;z-index: 1;position: relative;background-color: white;}#sk-container-id-33 div.sk-parallel-item:first-child::after {align-self: flex-end;width: 50%;}#sk-container-id-33 div.sk-parallel-item:last-child::after {align-self: flex-start;width: 50%;}#sk-container-id-33 div.sk-parallel-item:only-child::after {width: 0;}#sk-container-id-33 div.sk-dashed-wrapped {border: 1px dashed gray;margin: 0 0.4em 0.5em 0.4em;box-sizing: border-box;padding-bottom: 0.4em;background-color: white;}#sk-container-id-33 div.sk-label label {font-family: monospace;font-weight: bold;display: inline-block;line-height: 1.2em;}#sk-container-id-33 div.sk-label-container {text-align: center;}#sk-container-id-33 div.sk-container {/* jupyter's `normalize.less` sets `[hidden] { display: none; }` but bootstrap.min.css set `[hidden] { display: none !important; }` so we also need the `!important` here to be able to override the default hidden behavior on the sphinx rendered scikit-learn.org. See: https://github.com/scikit-learn/scikit-learn/issues/21755 */display: inline-block !important;position: relative;}#sk-container-id-33 div.sk-text-repr-fallback {display: none;}</style><div id=\"sk-container-id-33\" class=\"sk-top-container\"><div class=\"sk-text-repr-fallback\"><pre>LogisticRegression(max_iter=1000)</pre><b>In a Jupyter environment, please rerun this cell to show the HTML representation or trust the notebook. <br />On GitHub, the HTML representation is unable to render, please try loading this page with nbviewer.org.</b></div><div class=\"sk-container\" hidden><div class=\"sk-item\"><div class=\"sk-estimator sk-toggleable\"><input class=\"sk-toggleable__control sk-hidden--visually\" id=\"sk-estimator-id-33\" type=\"checkbox\" checked><label for=\"sk-estimator-id-33\" class=\"sk-toggleable__label sk-toggleable__label-arrow\">LogisticRegression</label><div class=\"sk-toggleable__content\"><pre>LogisticRegression(max_iter=1000)</pre></div></div></div></div></div>"
      ],
      "text/plain": [
       "LogisticRegression(max_iter=1000)"
      ]
     },
     "execution_count": 305,
     "metadata": {},
     "output_type": "execute_result"
    }
   ],
   "source": [
    "from sklearn.linear_model import LogisticRegression\n",
    "from sklearn.metrics import accuracy_score\n",
    "\n",
    "model=LogisticRegression(max_iter=1000)\n",
    "model.fit(x_train_count,y_train)\n",
    "\n"
   ]
  },
  {
   "cell_type": "markdown",
   "id": "0e817fd5",
   "metadata": {},
   "source": [
    "test_accuracy_score -pridiction"
   ]
  },
  {
   "cell_type": "code",
   "execution_count": 306,
   "id": "9ff6195b",
   "metadata": {},
   "outputs": [
    {
     "name": "stdout",
     "output_type": "stream",
     "text": [
      "test_data_accuracy :0.464 \n"
     ]
    }
   ],
   "source": [
    "x_test_prediction=model.predict(x_test_count)\n",
    "test_data_accuracy=accuracy_score(y_test,x_test_prediction)\n",
    "print(\"test_data_accuracy :%0.3f \"% test_data_accuracy)"
   ]
  },
  {
   "cell_type": "raw",
   "id": "2aaecbee",
   "metadata": {},
   "source": [
    "model_accuracy=50%"
   ]
  },
  {
   "cell_type": "markdown",
   "id": "362d31a0",
   "metadata": {},
   "source": [
    "# 1.2 logistic regression model - using tfidf-vectorizer"
   ]
  },
  {
   "cell_type": "code",
   "execution_count": 307,
   "id": "683673f0",
   "metadata": {},
   "outputs": [
    {
     "name": "stdout",
     "output_type": "stream",
     "text": [
      "training_data_accuracy2 :0.984 \n"
     ]
    }
   ],
   "source": [
    "model2=LogisticRegression(max_iter=1000)\n",
    "model2.fit(x_train_tfidf,y_train)\n",
    "\n",
    "x_train_prediction2=model2.predict(x_train_tfidf)\n",
    "training_data_accuracy2=accuracy_score(y_train,x_train_prediction2)\n",
    "\n",
    "print(\"training_data_accuracy2 :%0.3f \"% training_data_accuracy2)\n",
    "\n"
   ]
  },
  {
   "cell_type": "code",
   "execution_count": 308,
   "id": "182ff506",
   "metadata": {},
   "outputs": [
    {
     "name": "stdout",
     "output_type": "stream",
     "text": [
      "test_data_accuracy2 :0.521 \n"
     ]
    }
   ],
   "source": [
    "x_test_prediction2=model2.predict(x_test_tfidf)\n",
    "test_data_accuracy2=accuracy_score(y_test,x_test_prediction2)\n",
    "print(\"test_data_accuracy2 :%0.3f \"% test_data_accuracy2)"
   ]
  },
  {
   "cell_type": "code",
   "execution_count": null,
   "id": "1c43745c",
   "metadata": {},
   "outputs": [],
   "source": []
  },
  {
   "cell_type": "markdown",
   "id": "0df794d4",
   "metadata": {},
   "source": [
    "# 2.1 Naive bayes model using (countvectorizer)"
   ]
  },
  {
   "cell_type": "code",
   "execution_count": 309,
   "id": "dea0e605",
   "metadata": {},
   "outputs": [],
   "source": [
    "model_naive=MultinomialNB()\n",
    "model_naive.fit(x_train_count , y_train)\n",
    "\n",
    "x_train_prediction_naive=model_naive.predict(x_train_count)\n",
    "training_data_accuracy=accuracy_score(y_train,x_train_prediction_naive)\n",
    "\n",
    "\n"
   ]
  },
  {
   "cell_type": "code",
   "execution_count": 310,
   "id": "042350e2",
   "metadata": {},
   "outputs": [
    {
     "name": "stdout",
     "output_type": "stream",
     "text": [
      "testing_data_accuracy : 0.471\n"
     ]
    }
   ],
   "source": [
    "x_test_prediction_naive=model_naive.predict(x_test_count)\n",
    "testing_data_accuracy=accuracy_score(y_test,x_test_prediction_naive)\n",
    "\n",
    "print(\"testing_data_accuracy : %0.3f\" %testing_data_accuracy)"
   ]
  },
  {
   "cell_type": "markdown",
   "id": "08abee55",
   "metadata": {},
   "source": [
    "# 2.2 Naive bayes model using (tfidf_vectorizer)"
   ]
  },
  {
   "cell_type": "code",
   "execution_count": 311,
   "id": "c028c241",
   "metadata": {},
   "outputs": [],
   "source": [
    "model_naive2=MultinomialNB()\n",
    "model_naive2.fit(x_train_tfidf,y_train)\n",
    "\n",
    "x_train_prediction3=model_naive2.predict(x_train_tfidf)\n",
    "training_data_accuracy4=accuracy_score(y_train,x_train_prediction3)\n",
    "\n",
    "\n"
   ]
  },
  {
   "cell_type": "code",
   "execution_count": 312,
   "id": "de702592",
   "metadata": {},
   "outputs": [
    {
     "name": "stdout",
     "output_type": "stream",
     "text": [
      "test_data_accuracy4 :0.536 \n"
     ]
    }
   ],
   "source": [
    "x_test_prediction3=model_naive2.predict(x_test_tfidf)\n",
    "test_data_accuracy4=accuracy_score(y_test,x_test_prediction3)\n",
    "print(\"test_data_accuracy4 :%0.3f \"% test_data_accuracy4)"
   ]
  },
  {
   "cell_type": "markdown",
   "id": "8d1fead6",
   "metadata": {},
   "source": [
    "# model-3(passive aggresive classifer)"
   ]
  },
  {
   "cell_type": "code",
   "execution_count": 313,
   "id": "1c39e478",
   "metadata": {},
   "outputs": [],
   "source": [
    "from sklearn.linear_model import PassiveAggressiveClassifier"
   ]
  },
  {
   "cell_type": "code",
   "execution_count": 314,
   "id": "e30acfe7",
   "metadata": {},
   "outputs": [
    {
     "data": {
      "text/html": [
       "<style>#sk-container-id-34 {color: black;}#sk-container-id-34 pre{padding: 0;}#sk-container-id-34 div.sk-toggleable {background-color: white;}#sk-container-id-34 label.sk-toggleable__label {cursor: pointer;display: block;width: 100%;margin-bottom: 0;padding: 0.3em;box-sizing: border-box;text-align: center;}#sk-container-id-34 label.sk-toggleable__label-arrow:before {content: \"▸\";float: left;margin-right: 0.25em;color: #696969;}#sk-container-id-34 label.sk-toggleable__label-arrow:hover:before {color: black;}#sk-container-id-34 div.sk-estimator:hover label.sk-toggleable__label-arrow:before {color: black;}#sk-container-id-34 div.sk-toggleable__content {max-height: 0;max-width: 0;overflow: hidden;text-align: left;background-color: #f0f8ff;}#sk-container-id-34 div.sk-toggleable__content pre {margin: 0.2em;color: black;border-radius: 0.25em;background-color: #f0f8ff;}#sk-container-id-34 input.sk-toggleable__control:checked~div.sk-toggleable__content {max-height: 200px;max-width: 100%;overflow: auto;}#sk-container-id-34 input.sk-toggleable__control:checked~label.sk-toggleable__label-arrow:before {content: \"▾\";}#sk-container-id-34 div.sk-estimator input.sk-toggleable__control:checked~label.sk-toggleable__label {background-color: #d4ebff;}#sk-container-id-34 div.sk-label input.sk-toggleable__control:checked~label.sk-toggleable__label {background-color: #d4ebff;}#sk-container-id-34 input.sk-hidden--visually {border: 0;clip: rect(1px 1px 1px 1px);clip: rect(1px, 1px, 1px, 1px);height: 1px;margin: -1px;overflow: hidden;padding: 0;position: absolute;width: 1px;}#sk-container-id-34 div.sk-estimator {font-family: monospace;background-color: #f0f8ff;border: 1px dotted black;border-radius: 0.25em;box-sizing: border-box;margin-bottom: 0.5em;}#sk-container-id-34 div.sk-estimator:hover {background-color: #d4ebff;}#sk-container-id-34 div.sk-parallel-item::after {content: \"\";width: 100%;border-bottom: 1px solid gray;flex-grow: 1;}#sk-container-id-34 div.sk-label:hover label.sk-toggleable__label {background-color: #d4ebff;}#sk-container-id-34 div.sk-serial::before {content: \"\";position: absolute;border-left: 1px solid gray;box-sizing: border-box;top: 0;bottom: 0;left: 50%;z-index: 0;}#sk-container-id-34 div.sk-serial {display: flex;flex-direction: column;align-items: center;background-color: white;padding-right: 0.2em;padding-left: 0.2em;position: relative;}#sk-container-id-34 div.sk-item {position: relative;z-index: 1;}#sk-container-id-34 div.sk-parallel {display: flex;align-items: stretch;justify-content: center;background-color: white;position: relative;}#sk-container-id-34 div.sk-item::before, #sk-container-id-34 div.sk-parallel-item::before {content: \"\";position: absolute;border-left: 1px solid gray;box-sizing: border-box;top: 0;bottom: 0;left: 50%;z-index: -1;}#sk-container-id-34 div.sk-parallel-item {display: flex;flex-direction: column;z-index: 1;position: relative;background-color: white;}#sk-container-id-34 div.sk-parallel-item:first-child::after {align-self: flex-end;width: 50%;}#sk-container-id-34 div.sk-parallel-item:last-child::after {align-self: flex-start;width: 50%;}#sk-container-id-34 div.sk-parallel-item:only-child::after {width: 0;}#sk-container-id-34 div.sk-dashed-wrapped {border: 1px dashed gray;margin: 0 0.4em 0.5em 0.4em;box-sizing: border-box;padding-bottom: 0.4em;background-color: white;}#sk-container-id-34 div.sk-label label {font-family: monospace;font-weight: bold;display: inline-block;line-height: 1.2em;}#sk-container-id-34 div.sk-label-container {text-align: center;}#sk-container-id-34 div.sk-container {/* jupyter's `normalize.less` sets `[hidden] { display: none; }` but bootstrap.min.css set `[hidden] { display: none !important; }` so we also need the `!important` here to be able to override the default hidden behavior on the sphinx rendered scikit-learn.org. See: https://github.com/scikit-learn/scikit-learn/issues/21755 */display: inline-block !important;position: relative;}#sk-container-id-34 div.sk-text-repr-fallback {display: none;}</style><div id=\"sk-container-id-34\" class=\"sk-top-container\"><div class=\"sk-text-repr-fallback\"><pre>PassiveAggressiveClassifier()</pre><b>In a Jupyter environment, please rerun this cell to show the HTML representation or trust the notebook. <br />On GitHub, the HTML representation is unable to render, please try loading this page with nbviewer.org.</b></div><div class=\"sk-container\" hidden><div class=\"sk-item\"><div class=\"sk-estimator sk-toggleable\"><input class=\"sk-toggleable__control sk-hidden--visually\" id=\"sk-estimator-id-34\" type=\"checkbox\" checked><label for=\"sk-estimator-id-34\" class=\"sk-toggleable__label sk-toggleable__label-arrow\">PassiveAggressiveClassifier</label><div class=\"sk-toggleable__content\"><pre>PassiveAggressiveClassifier()</pre></div></div></div></div></div>"
      ],
      "text/plain": [
       "PassiveAggressiveClassifier()"
      ]
     },
     "execution_count": 314,
     "metadata": {},
     "output_type": "execute_result"
    }
   ],
   "source": [
    "# word- to vec  (bi-gram -1)\n",
    "tfidf_vectorizer2 = TfidfVectorizer(stop_words='english', max_df=0.8, ngram_range=(1,2))\n",
    "tfidf_train_2 = tfidf_vectorizer2.fit_transform(x_train)\n",
    "tfidf_test_2 = tfidf_vectorizer2.transform(x_test)\n",
    "\n",
    "model_passive=PassiveAggressiveClassifier()\n",
    "model_passive.fit(tfidf_train_2,y_train)\n",
    "\n"
   ]
  },
  {
   "cell_type": "code",
   "execution_count": 315,
   "id": "11b72422",
   "metadata": {},
   "outputs": [
    {
     "name": "stdout",
     "output_type": "stream",
     "text": [
      "bigram_passive_prediction_score : 0.486\n"
     ]
    }
   ],
   "source": [
    "# prediction\n",
    "bigram_passive_prediction=model_passive.predict(tfidf_test_2)\n",
    "bigram_passive_prediction_score=accuracy_score(y_test,bigram_passive_prediction)\n",
    "\n",
    "print(\"bigram_passive_prediction_score : %0.3f\" %bigram_passive_prediction_score)"
   ]
  },
  {
   "cell_type": "code",
   "execution_count": 316,
   "id": "238d0073",
   "metadata": {},
   "outputs": [],
   "source": [
    "# bi-GRAM-2\n",
    "\n",
    "tfidf_vectorizer3 = TfidfVectorizer(stop_words='english', max_df=0.8, ngram_range=(2,2))\n",
    "tfidf_train_3 = tfidf_vectorizer3.fit_transform(x_train)\n",
    "tfidf_test_3 = tfidf_vectorizer3.transform(x_test)"
   ]
  },
  {
   "cell_type": "code",
   "execution_count": 317,
   "id": "4a140fa7",
   "metadata": {},
   "outputs": [
    {
     "data": {
      "text/html": [
       "<style>#sk-container-id-35 {color: black;}#sk-container-id-35 pre{padding: 0;}#sk-container-id-35 div.sk-toggleable {background-color: white;}#sk-container-id-35 label.sk-toggleable__label {cursor: pointer;display: block;width: 100%;margin-bottom: 0;padding: 0.3em;box-sizing: border-box;text-align: center;}#sk-container-id-35 label.sk-toggleable__label-arrow:before {content: \"▸\";float: left;margin-right: 0.25em;color: #696969;}#sk-container-id-35 label.sk-toggleable__label-arrow:hover:before {color: black;}#sk-container-id-35 div.sk-estimator:hover label.sk-toggleable__label-arrow:before {color: black;}#sk-container-id-35 div.sk-toggleable__content {max-height: 0;max-width: 0;overflow: hidden;text-align: left;background-color: #f0f8ff;}#sk-container-id-35 div.sk-toggleable__content pre {margin: 0.2em;color: black;border-radius: 0.25em;background-color: #f0f8ff;}#sk-container-id-35 input.sk-toggleable__control:checked~div.sk-toggleable__content {max-height: 200px;max-width: 100%;overflow: auto;}#sk-container-id-35 input.sk-toggleable__control:checked~label.sk-toggleable__label-arrow:before {content: \"▾\";}#sk-container-id-35 div.sk-estimator input.sk-toggleable__control:checked~label.sk-toggleable__label {background-color: #d4ebff;}#sk-container-id-35 div.sk-label input.sk-toggleable__control:checked~label.sk-toggleable__label {background-color: #d4ebff;}#sk-container-id-35 input.sk-hidden--visually {border: 0;clip: rect(1px 1px 1px 1px);clip: rect(1px, 1px, 1px, 1px);height: 1px;margin: -1px;overflow: hidden;padding: 0;position: absolute;width: 1px;}#sk-container-id-35 div.sk-estimator {font-family: monospace;background-color: #f0f8ff;border: 1px dotted black;border-radius: 0.25em;box-sizing: border-box;margin-bottom: 0.5em;}#sk-container-id-35 div.sk-estimator:hover {background-color: #d4ebff;}#sk-container-id-35 div.sk-parallel-item::after {content: \"\";width: 100%;border-bottom: 1px solid gray;flex-grow: 1;}#sk-container-id-35 div.sk-label:hover label.sk-toggleable__label {background-color: #d4ebff;}#sk-container-id-35 div.sk-serial::before {content: \"\";position: absolute;border-left: 1px solid gray;box-sizing: border-box;top: 0;bottom: 0;left: 50%;z-index: 0;}#sk-container-id-35 div.sk-serial {display: flex;flex-direction: column;align-items: center;background-color: white;padding-right: 0.2em;padding-left: 0.2em;position: relative;}#sk-container-id-35 div.sk-item {position: relative;z-index: 1;}#sk-container-id-35 div.sk-parallel {display: flex;align-items: stretch;justify-content: center;background-color: white;position: relative;}#sk-container-id-35 div.sk-item::before, #sk-container-id-35 div.sk-parallel-item::before {content: \"\";position: absolute;border-left: 1px solid gray;box-sizing: border-box;top: 0;bottom: 0;left: 50%;z-index: -1;}#sk-container-id-35 div.sk-parallel-item {display: flex;flex-direction: column;z-index: 1;position: relative;background-color: white;}#sk-container-id-35 div.sk-parallel-item:first-child::after {align-self: flex-end;width: 50%;}#sk-container-id-35 div.sk-parallel-item:last-child::after {align-self: flex-start;width: 50%;}#sk-container-id-35 div.sk-parallel-item:only-child::after {width: 0;}#sk-container-id-35 div.sk-dashed-wrapped {border: 1px dashed gray;margin: 0 0.4em 0.5em 0.4em;box-sizing: border-box;padding-bottom: 0.4em;background-color: white;}#sk-container-id-35 div.sk-label label {font-family: monospace;font-weight: bold;display: inline-block;line-height: 1.2em;}#sk-container-id-35 div.sk-label-container {text-align: center;}#sk-container-id-35 div.sk-container {/* jupyter's `normalize.less` sets `[hidden] { display: none; }` but bootstrap.min.css set `[hidden] { display: none !important; }` so we also need the `!important` here to be able to override the default hidden behavior on the sphinx rendered scikit-learn.org. See: https://github.com/scikit-learn/scikit-learn/issues/21755 */display: inline-block !important;position: relative;}#sk-container-id-35 div.sk-text-repr-fallback {display: none;}</style><div id=\"sk-container-id-35\" class=\"sk-top-container\"><div class=\"sk-text-repr-fallback\"><pre>PassiveAggressiveClassifier()</pre><b>In a Jupyter environment, please rerun this cell to show the HTML representation or trust the notebook. <br />On GitHub, the HTML representation is unable to render, please try loading this page with nbviewer.org.</b></div><div class=\"sk-container\" hidden><div class=\"sk-item\"><div class=\"sk-estimator sk-toggleable\"><input class=\"sk-toggleable__control sk-hidden--visually\" id=\"sk-estimator-id-35\" type=\"checkbox\" checked><label for=\"sk-estimator-id-35\" class=\"sk-toggleable__label sk-toggleable__label-arrow\">PassiveAggressiveClassifier</label><div class=\"sk-toggleable__content\"><pre>PassiveAggressiveClassifier()</pre></div></div></div></div></div>"
      ],
      "text/plain": [
       "PassiveAggressiveClassifier()"
      ]
     },
     "execution_count": 317,
     "metadata": {},
     "output_type": "execute_result"
    }
   ],
   "source": [
    "model_passive2=PassiveAggressiveClassifier()\n",
    "model_passive2.fit(tfidf_train_3,y_train)"
   ]
  },
  {
   "cell_type": "code",
   "execution_count": 318,
   "id": "f162cc19",
   "metadata": {},
   "outputs": [
    {
     "name": "stdout",
     "output_type": "stream",
     "text": [
      "bigram_passive_prediction_score2 : 0.486\n"
     ]
    }
   ],
   "source": [
    "# prediction\n",
    "bigram_passive_prediction2=model_passive2.predict(tfidf_test_3)\n",
    "bigram_passive_prediction_score2=accuracy_score(y_test,bigram_passive_prediction2)\n",
    "\n",
    "print(\"bigram_passive_prediction_score2 : %0.3f\" %bigram_passive_prediction_score2)"
   ]
  },
  {
   "cell_type": "code",
   "execution_count": 331,
   "id": "f0f08e74",
   "metadata": {},
   "outputs": [],
   "source": [
    "# tri-GRAM\n",
    "\n",
    "tfidf_vectorizer4 = TfidfVectorizer(stop_words='english', max_df=0.8, ngram_range=(1,3))\n",
    "tfidf_train_4 = tfidf_vectorizer4.fit_transform(x_train)\n",
    "tfidf_test_4 = tfidf_vectorizer4.transform(x_test)"
   ]
  },
  {
   "cell_type": "code",
   "execution_count": 332,
   "id": "0da7194e",
   "metadata": {},
   "outputs": [
    {
     "data": {
      "text/html": [
       "<style>#sk-container-id-39 {color: black;}#sk-container-id-39 pre{padding: 0;}#sk-container-id-39 div.sk-toggleable {background-color: white;}#sk-container-id-39 label.sk-toggleable__label {cursor: pointer;display: block;width: 100%;margin-bottom: 0;padding: 0.3em;box-sizing: border-box;text-align: center;}#sk-container-id-39 label.sk-toggleable__label-arrow:before {content: \"▸\";float: left;margin-right: 0.25em;color: #696969;}#sk-container-id-39 label.sk-toggleable__label-arrow:hover:before {color: black;}#sk-container-id-39 div.sk-estimator:hover label.sk-toggleable__label-arrow:before {color: black;}#sk-container-id-39 div.sk-toggleable__content {max-height: 0;max-width: 0;overflow: hidden;text-align: left;background-color: #f0f8ff;}#sk-container-id-39 div.sk-toggleable__content pre {margin: 0.2em;color: black;border-radius: 0.25em;background-color: #f0f8ff;}#sk-container-id-39 input.sk-toggleable__control:checked~div.sk-toggleable__content {max-height: 200px;max-width: 100%;overflow: auto;}#sk-container-id-39 input.sk-toggleable__control:checked~label.sk-toggleable__label-arrow:before {content: \"▾\";}#sk-container-id-39 div.sk-estimator input.sk-toggleable__control:checked~label.sk-toggleable__label {background-color: #d4ebff;}#sk-container-id-39 div.sk-label input.sk-toggleable__control:checked~label.sk-toggleable__label {background-color: #d4ebff;}#sk-container-id-39 input.sk-hidden--visually {border: 0;clip: rect(1px 1px 1px 1px);clip: rect(1px, 1px, 1px, 1px);height: 1px;margin: -1px;overflow: hidden;padding: 0;position: absolute;width: 1px;}#sk-container-id-39 div.sk-estimator {font-family: monospace;background-color: #f0f8ff;border: 1px dotted black;border-radius: 0.25em;box-sizing: border-box;margin-bottom: 0.5em;}#sk-container-id-39 div.sk-estimator:hover {background-color: #d4ebff;}#sk-container-id-39 div.sk-parallel-item::after {content: \"\";width: 100%;border-bottom: 1px solid gray;flex-grow: 1;}#sk-container-id-39 div.sk-label:hover label.sk-toggleable__label {background-color: #d4ebff;}#sk-container-id-39 div.sk-serial::before {content: \"\";position: absolute;border-left: 1px solid gray;box-sizing: border-box;top: 0;bottom: 0;left: 50%;z-index: 0;}#sk-container-id-39 div.sk-serial {display: flex;flex-direction: column;align-items: center;background-color: white;padding-right: 0.2em;padding-left: 0.2em;position: relative;}#sk-container-id-39 div.sk-item {position: relative;z-index: 1;}#sk-container-id-39 div.sk-parallel {display: flex;align-items: stretch;justify-content: center;background-color: white;position: relative;}#sk-container-id-39 div.sk-item::before, #sk-container-id-39 div.sk-parallel-item::before {content: \"\";position: absolute;border-left: 1px solid gray;box-sizing: border-box;top: 0;bottom: 0;left: 50%;z-index: -1;}#sk-container-id-39 div.sk-parallel-item {display: flex;flex-direction: column;z-index: 1;position: relative;background-color: white;}#sk-container-id-39 div.sk-parallel-item:first-child::after {align-self: flex-end;width: 50%;}#sk-container-id-39 div.sk-parallel-item:last-child::after {align-self: flex-start;width: 50%;}#sk-container-id-39 div.sk-parallel-item:only-child::after {width: 0;}#sk-container-id-39 div.sk-dashed-wrapped {border: 1px dashed gray;margin: 0 0.4em 0.5em 0.4em;box-sizing: border-box;padding-bottom: 0.4em;background-color: white;}#sk-container-id-39 div.sk-label label {font-family: monospace;font-weight: bold;display: inline-block;line-height: 1.2em;}#sk-container-id-39 div.sk-label-container {text-align: center;}#sk-container-id-39 div.sk-container {/* jupyter's `normalize.less` sets `[hidden] { display: none; }` but bootstrap.min.css set `[hidden] { display: none !important; }` so we also need the `!important` here to be able to override the default hidden behavior on the sphinx rendered scikit-learn.org. See: https://github.com/scikit-learn/scikit-learn/issues/21755 */display: inline-block !important;position: relative;}#sk-container-id-39 div.sk-text-repr-fallback {display: none;}</style><div id=\"sk-container-id-39\" class=\"sk-top-container\"><div class=\"sk-text-repr-fallback\"><pre>PassiveAggressiveClassifier()</pre><b>In a Jupyter environment, please rerun this cell to show the HTML representation or trust the notebook. <br />On GitHub, the HTML representation is unable to render, please try loading this page with nbviewer.org.</b></div><div class=\"sk-container\" hidden><div class=\"sk-item\"><div class=\"sk-estimator sk-toggleable\"><input class=\"sk-toggleable__control sk-hidden--visually\" id=\"sk-estimator-id-39\" type=\"checkbox\" checked><label for=\"sk-estimator-id-39\" class=\"sk-toggleable__label sk-toggleable__label-arrow\">PassiveAggressiveClassifier</label><div class=\"sk-toggleable__content\"><pre>PassiveAggressiveClassifier()</pre></div></div></div></div></div>"
      ],
      "text/plain": [
       "PassiveAggressiveClassifier()"
      ]
     },
     "execution_count": 332,
     "metadata": {},
     "output_type": "execute_result"
    }
   ],
   "source": [
    "model_passive_trigram3=PassiveAggressiveClassifier()\n",
    "model_passive_trigram3.fit(tfidf_train_4,y_train)"
   ]
  },
  {
   "cell_type": "code",
   "execution_count": 333,
   "id": "cf612099",
   "metadata": {},
   "outputs": [
    {
     "name": "stdout",
     "output_type": "stream",
     "text": [
      "prediction_score_of_trigram_model: 0.507\n"
     ]
    }
   ],
   "source": [
    "# prediction\n",
    "\n",
    "trigram_passive_prediction4=model_passive_trigram3.predict(tfidf_test_4)\n",
    "trigram_passive_prediction_score3=accuracy_score(y_test,trigram_passive_prediction4)\n",
    "\n",
    "print(\"prediction_score_of_trigram_model: %0.3f\" %trigram_passive_prediction_score3)\n",
    "\n"
   ]
  },
  {
   "cell_type": "markdown",
   "id": "d3b3b13f",
   "metadata": {},
   "source": [
    "# MODEL- 4 (random forest clasifier )"
   ]
  },
  {
   "cell_type": "code",
   "execution_count": 405,
   "id": "1b25bf62",
   "metadata": {},
   "outputs": [],
   "source": [
    "from sklearn.ensemble import RandomForestClassifier\n",
    "\n",
    "Trow=int(data.shape[0]*0.8);\n",
    "    \n",
    "train=data[:Trow]\n",
    "test=data[Trow:]\n",
    "\n"
   ]
  },
  {
   "cell_type": "code",
   "execution_count": null,
   "id": "5ad48cd7",
   "metadata": {},
   "outputs": [],
   "source": [
    "vector1=CountVectorizer(ngram_range=(2,2))\n",
    "train_data_set=vector1.fit_transform(train['data_review'])\n",
    "\n",
    "model1=RandomForestClassifier(n_estimators=100, criterion=\"entropy\")\n",
    "model1.fit(train_data_set,train['nifty-up-or-down'])\n"
   ]
  },
  {
   "cell_type": "code",
   "execution_count": 418,
   "id": "a9b3bd29",
   "metadata": {},
   "outputs": [
    {
     "name": "stdout",
     "output_type": "stream",
     "text": [
      "random_forest_prediction_score2 : 0.586\n"
     ]
    }
   ],
   "source": [
    "# for test_data_set\n",
    "\n",
    "test_data_set=vector1.transform(test['data_review'])\n",
    "prediction=model1.predict(test_data_set)\n",
    "\n",
    "prediction_score=accuracy_score(test['nifty-up-or-down'],prediction)\n",
    "\n",
    "print(\"random_forest_prediction_score2 : %0.3f\" %prediction_score)"
   ]
  },
  {
   "cell_type": "code",
   "execution_count": null,
   "id": "2beb2b15",
   "metadata": {},
   "outputs": [],
   "source": []
  }
 ],
 "metadata": {
  "kernelspec": {
   "display_name": "Python 3 (ipykernel)",
   "language": "python",
   "name": "python3"
  },
  "language_info": {
   "codemirror_mode": {
    "name": "ipython",
    "version": 3
   },
   "file_extension": ".py",
   "mimetype": "text/x-python",
   "name": "python",
   "nbconvert_exporter": "python",
   "pygments_lexer": "ipython3",
   "version": "3.11.5"
  }
 },
 "nbformat": 4,
 "nbformat_minor": 5
}
