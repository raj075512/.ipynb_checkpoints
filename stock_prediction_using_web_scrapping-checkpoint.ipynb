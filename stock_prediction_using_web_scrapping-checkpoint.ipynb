{
 "cells": [
  {
   "cell_type": "markdown",
   "id": "eeb47dfc",
   "metadata": {},
   "source": [
    "# NIFTY-50 -STOCK PREDICTION \n"
   ]
  },
  {
   "cell_type": "markdown",
   "id": "3e94512a",
   "metadata": {},
   "source": [
    "web scrapping for getting the data "
   ]
  },
  {
   "cell_type": "code",
   "execution_count": 245,
   "id": "16adbc28",
   "metadata": {},
   "outputs": [],
   "source": [
    "import pandas as pd\n",
    "import requests "
   ]
  },
  {
   "cell_type": "code",
   "execution_count": 246,
   "id": "77ae13aa",
   "metadata": {},
   "outputs": [],
   "source": [
    "from bs4 import BeautifulSoup\n"
   ]
  },
  {
   "cell_type": "code",
   "execution_count": 247,
   "id": "8c88d6ad",
   "metadata": {},
   "outputs": [],
   "source": [
    "import random\n",
    "\n",
    "dummy_depended_variables = []\n",
    "\n",
    "for i in range(1, 101):\n",
    "    temp = random.randint(0, 1)\n",
    "    dummy_depended_variables.append(temp)\n",
    "\n",
    "\n",
    "nifty=[]\n",
    "    \n",
    "for page in range(1,6):   \n",
    "    url='https://timesofindia.indiatimes.com/topic/nse-nifty/{}'.format(page)\n",
    "    web=requests.get(url).text\n",
    "\n",
    "    soup=BeautifulSoup(web,'lxml')\n",
    "    data=soup.find_all('div',class_=\"uwU81\")\n",
    "  \n",
    "    \n",
    "    for i in data:\n",
    "        nifty.append(i.find(\"span\").text.strip())\n",
    "        \n",
    "\n",
    "\n"
   ]
  },
  {
   "cell_type": "code",
   "execution_count": null,
   "id": "9eba1307",
   "metadata": {},
   "outputs": [],
   "source": [
    "\n"
   ]
  },
  {
   "cell_type": "code",
   "execution_count": 248,
   "id": "07bfae7b",
   "metadata": {},
   "outputs": [
    {
     "data": {
      "text/plain": [
       "100"
      ]
     },
     "execution_count": 248,
     "metadata": {},
     "output_type": "execute_result"
    }
   ],
   "source": [
    "len(nifty)"
   ]
  },
  {
   "cell_type": "code",
   "execution_count": 249,
   "id": "bdd6a036",
   "metadata": {},
   "outputs": [],
   "source": [
    "economy=[]\n",
    "\n",
    "for page in range(1,5):    \n",
    "\n",
    "    url='https://www.moneycontrol.com/news/business/economy/page-{}'.format(page)\n",
    "    web=requests.get(url).text\n",
    "\n",
    "    soup=BeautifulSoup(web,'lxml')\n",
    "    dataa=soup.find_all('h2')\n",
    " \n",
    "    for x in dataa:\n",
    "        a_tag=x.find('a')\n",
    "        if a_tag :\n",
    "            economy.append(x.find('a').text)\n",
    "\n",
    "    \n",
    "    \n",
    "    \n",
    "        \n",
    "    \n",
    "     \n",
    "        \n",
    "    "
   ]
  },
  {
   "cell_type": "code",
   "execution_count": 250,
   "id": "5fc30e10",
   "metadata": {},
   "outputs": [
    {
     "data": {
      "text/plain": [
       "100"
      ]
     },
     "execution_count": 250,
     "metadata": {},
     "output_type": "execute_result"
    }
   ],
   "source": [
    "len(economy)"
   ]
  },
  {
   "cell_type": "code",
   "execution_count": 251,
   "id": "01c59a6d",
   "metadata": {},
   "outputs": [],
   "source": [
    "mutualFund=[]\n",
    "\n",
    "for page in range(1,5):    \n",
    "\n",
    "    url='https://www.moneycontrol.com/news/business/mutual-funds/page-{}'.format(page)\n",
    "    web=requests.get(url).text\n",
    "\n",
    "    soup=BeautifulSoup(web,'lxml')\n",
    "    data3=soup.find_all('h2')\n",
    " \n",
    "    for x in data3:\n",
    "        \n",
    "        a_tag=x.find('a')\n",
    "        if a_tag :\n",
    "            mutualFund.append(x.find('a').text)\n",
    "\n",
    "            "
   ]
  },
  {
   "cell_type": "code",
   "execution_count": 252,
   "id": "c036b943",
   "metadata": {},
   "outputs": [
    {
     "data": {
      "text/plain": [
       "100"
      ]
     },
     "execution_count": 252,
     "metadata": {},
     "output_type": "execute_result"
    }
   ],
   "source": [
    "len(mutualFund)\n"
   ]
  },
  {
   "cell_type": "code",
   "execution_count": 253,
   "id": "b9a6b943",
   "metadata": {},
   "outputs": [],
   "source": [
    "ipo=[]\n",
    "\n",
    "for page in range(1,5):    \n",
    "\n",
    "    url='https://www.moneycontrol.com/news/business/ipo/page-{}'.format(page)\n",
    "    web=requests.get(url).text\n",
    "\n",
    "    soup=BeautifulSoup(web,'lxml')\n",
    "    data3=soup.find_all('h2')\n",
    " \n",
    "    for x in data3:\n",
    "        a_tag=x.find('a')\n",
    "        if a_tag :\n",
    "            ipo.append(x.find('a').text)\n",
    "\n",
    "\n",
    "        "
   ]
  },
  {
   "cell_type": "code",
   "execution_count": 254,
   "id": "45f66432",
   "metadata": {},
   "outputs": [
    {
     "data": {
      "text/plain": [
       "100"
      ]
     },
     "execution_count": 254,
     "metadata": {},
     "output_type": "execute_result"
    }
   ],
   "source": [
    "len(ipo)\n",
    "   "
   ]
  },
  {
   "cell_type": "code",
   "execution_count": 255,
   "id": "c65920f1",
   "metadata": {},
   "outputs": [],
   "source": [
    "personal_finance=[]\n",
    "\n",
    "\n",
    "for page in range(1,5):    \n",
    "\n",
    "    url='https://www.moneycontrol.com/news/business/personal-finance//page-{}'.format(page)\n",
    "    web=requests.get(url).text\n",
    "\n",
    "    soup=BeautifulSoup(web,'lxml')\n",
    "    data4=soup.find_all('h2')\n",
    " \n",
    "    for x in data4:\n",
    "        a_tag=x.find('a')\n",
    "        if a_tag :\n",
    "            personal_finance.append(x.find('a').text)\n",
    "\n",
    "     \n",
    "\n",
    "            "
   ]
  },
  {
   "cell_type": "code",
   "execution_count": 256,
   "id": "ca282c0a",
   "metadata": {},
   "outputs": [
    {
     "data": {
      "text/plain": [
       "100"
      ]
     },
     "execution_count": 256,
     "metadata": {},
     "output_type": "execute_result"
    }
   ],
   "source": [
    "len(personal_finance)"
   ]
  },
  {
   "cell_type": "code",
   "execution_count": 257,
   "id": "e2261c1e",
   "metadata": {},
   "outputs": [],
   "source": [
    "business=[]\n",
    "\n",
    "\n",
    "for page in range(1,5):    \n",
    "\n",
    "    url='https://www.moneycontrol.com/news/business//page-{}'.format(page)\n",
    "    web=requests.get(url).text\n",
    "\n",
    "    soup=BeautifulSoup(web,'lxml')\n",
    "    data4=soup.find_all('h2')\n",
    " \n",
    "    for x in data4:\n",
    "        a_tag=x.find('a')\n",
    "        if a_tag :\n",
    "            business.append(x.find('a').text)\n",
    "    \n",
    "    \n",
    "            "
   ]
  },
  {
   "cell_type": "code",
   "execution_count": 258,
   "id": "2c32f57c",
   "metadata": {},
   "outputs": [
    {
     "data": {
      "text/plain": [
       "100"
      ]
     },
     "execution_count": 258,
     "metadata": {},
     "output_type": "execute_result"
    }
   ],
   "source": [
    "len(business)"
   ]
  },
  {
   "cell_type": "code",
   "execution_count": 259,
   "id": "667474ea",
   "metadata": {},
   "outputs": [],
   "source": [
    "indian_political=[]\n",
    "\n",
    "\n",
    "for page in range(1,5):    \n",
    "\n",
    "    url=' https://www.moneycontrol.com/news/india/page-{}'.format(page)\n",
    "    web=requests.get(url).text\n",
    "\n",
    "    soup=BeautifulSoup(web,'lxml')\n",
    "    data4=soup.find_all('h2')\n",
    " \n",
    "    for x in data4:\n",
    "        a_tag=x.find('a')\n",
    "        if a_tag :\n",
    "            indian_political.append(x.find('a').text)\n",
    "    \n",
    "   "
   ]
  },
  {
   "cell_type": "code",
   "execution_count": 260,
   "id": "05bb4d73",
   "metadata": {},
   "outputs": [
    {
     "data": {
      "text/plain": [
       "100"
      ]
     },
     "execution_count": 260,
     "metadata": {},
     "output_type": "execute_result"
    }
   ],
   "source": [
    "len(indian_political)"
   ]
  },
  {
   "cell_type": "code",
   "execution_count": 261,
   "id": "0c0843e1",
   "metadata": {},
   "outputs": [],
   "source": [
    "trends=[]\n",
    "\n",
    "\n",
    "for page in range(1,5):    \n",
    "\n",
    "    url='https://www.moneycontrol.com/news/trends/page-{}'.format(page)\n",
    "    web=requests.get(url).text\n",
    "\n",
    "    soup=BeautifulSoup(web,'lxml')\n",
    "    data4=soup.find_all('h2')\n",
    " \n",
    "    for x in data4:\n",
    "        a_tag=x.find('a')\n",
    "        if a_tag :\n",
    "            trends.append(x.find('a').text)\n",
    "    \n",
    "    \n",
    "    \n",
    "   "
   ]
  },
  {
   "cell_type": "code",
   "execution_count": 262,
   "id": "951cbc9a",
   "metadata": {},
   "outputs": [
    {
     "data": {
      "text/plain": [
       "100"
      ]
     },
     "execution_count": 262,
     "metadata": {},
     "output_type": "execute_result"
    }
   ],
   "source": [
    "len(trends)"
   ]
  },
  {
   "cell_type": "code",
   "execution_count": 263,
   "id": "4fdc3aad",
   "metadata": {},
   "outputs": [],
   "source": [
    "currency=[]\n",
    "\n",
    "\n",
    "\n",
    "for page in range(1,6):    \n",
    "\n",
    "    url='https://www.moneycontrol.com/news/tags/currency.html/page-{}'.format(page)\n",
    "    web=requests.get(url).text\n",
    "\n",
    "    soup=BeautifulSoup(web,'lxml')\n",
    "    data4=soup.find_all('h2')\n",
    " \n",
    "    for x in data4:\n",
    "        a_tag=x.find('a')\n",
    "        if a_tag :\n",
    "            currency.append(x.find('a').text)\n",
    "    \n",
    "     \n",
    "    \n",
    "    \n",
    "   "
   ]
  },
  {
   "cell_type": "code",
   "execution_count": 264,
   "id": "a22318a4",
   "metadata": {},
   "outputs": [
    {
     "data": {
      "text/plain": [
       "85"
      ]
     },
     "execution_count": 264,
     "metadata": {},
     "output_type": "execute_result"
    }
   ],
   "source": [
    "len(currency)"
   ]
  },
  {
   "cell_type": "code",
   "execution_count": 265,
   "id": "f190a9c6",
   "metadata": {},
   "outputs": [],
   "source": [
    "morning_trade=[]\n",
    "\n",
    "\n",
    "\n",
    "for page in range(1,5):    \n",
    "\n",
    "    url='https://www.moneycontrol.com/shows/morning-trade/page-{}'.format(page)\n",
    "    web=requests.get(url).text\n",
    "\n",
    "    soup=BeautifulSoup(web,'lxml')\n",
    "    data4=soup.find_all('h2')\n",
    " \n",
    "    for x in data4:\n",
    "        a_tag=x.find('a')\n",
    "        if a_tag :\n",
    "            morning_trade.append(x.find('a').text)\n",
    "    \n",
    "    \n",
    "    \n",
    "     "
   ]
  },
  {
   "cell_type": "code",
   "execution_count": 266,
   "id": "f1b8752c",
   "metadata": {},
   "outputs": [
    {
     "data": {
      "text/plain": [
       "100"
      ]
     },
     "execution_count": 266,
     "metadata": {},
     "output_type": "execute_result"
    }
   ],
   "source": [
    "len(morning_trade)"
   ]
  },
  {
   "cell_type": "code",
   "execution_count": 267,
   "id": "9be045a5",
   "metadata": {},
   "outputs": [],
   "source": [
    "market_min=[]\n",
    "\n",
    "\n",
    "\n",
    "for page in range(1,5):    \n",
    "\n",
    "    url=' https://www.moneycontrol.com/news/podcast/market-minutes/page-{}'.format(page)\n",
    "    web=requests.get(url).text\n",
    "\n",
    "    soup=BeautifulSoup(web,'lxml')\n",
    "    data4=soup.find_all('h2')\n",
    " \n",
    "    for x in data4:\n",
    "        a_tag=x.find('a')\n",
    "        if a_tag :\n",
    "            market_min.append(x.find('a').text)\n",
    "\n",
    "   "
   ]
  },
  {
   "cell_type": "code",
   "execution_count": 268,
   "id": "41335352",
   "metadata": {},
   "outputs": [
    {
     "data": {
      "text/plain": [
       "100"
      ]
     },
     "execution_count": 268,
     "metadata": {},
     "output_type": "execute_result"
    }
   ],
   "source": [
    "len(market_min)"
   ]
  },
  {
   "cell_type": "code",
   "execution_count": 269,
   "id": "2f588a7a",
   "metadata": {},
   "outputs": [],
   "source": [
    "election2024=[]\n",
    "\n",
    "\n",
    "\n",
    "for page in range(1,5):    \n",
    "\n",
    "    url='https://www.moneycontrol.com/news/assembly-elections/page-{}'.format(page)\n",
    "    web=requests.get(url).text\n",
    "\n",
    "    soup=BeautifulSoup(web,'lxml')\n",
    "    data4=soup.find_all('h2')\n",
    " \n",
    "    for x in data4:\n",
    "        a_tag=x.find('a')\n",
    "        if a_tag :\n",
    "            election2024.append(x.find('a').text)\n",
    "    \n",
    "    "
   ]
  },
  {
   "cell_type": "code",
   "execution_count": 270,
   "id": "3ffb4cca",
   "metadata": {},
   "outputs": [
    {
     "data": {
      "text/plain": [
       "100"
      ]
     },
     "execution_count": 270,
     "metadata": {},
     "output_type": "execute_result"
    }
   ],
   "source": [
    "len(election2024)"
   ]
  },
  {
   "cell_type": "code",
   "execution_count": 271,
   "id": "d61851fd",
   "metadata": {
    "scrolled": true
   },
   "outputs": [
    {
     "data": {
      "text/html": [
       "<div>\n",
       "<style scoped>\n",
       "    .dataframe tbody tr th:only-of-type {\n",
       "        vertical-align: middle;\n",
       "    }\n",
       "\n",
       "    .dataframe tbody tr th {\n",
       "        vertical-align: top;\n",
       "    }\n",
       "\n",
       "    .dataframe thead th {\n",
       "        text-align: right;\n",
       "    }\n",
       "</style>\n",
       "<table border=\"1\" class=\"dataframe\">\n",
       "  <thead>\n",
       "    <tr style=\"text-align: right;\">\n",
       "      <th></th>\n",
       "      <th>nifty-up-or-down</th>\n",
       "      <th>nifty-news</th>\n",
       "      <th>economy</th>\n",
       "      <th>ipo</th>\n",
       "      <th>election2024</th>\n",
       "      <th>market-min</th>\n",
       "      <th>morning-trade</th>\n",
       "      <th>trends</th>\n",
       "      <th>indian-political</th>\n",
       "      <th>business</th>\n",
       "      <th>personal-finance</th>\n",
       "      <th>mutual-fund</th>\n",
       "    </tr>\n",
       "  </thead>\n",
       "  <tbody>\n",
       "    <tr>\n",
       "      <th>0</th>\n",
       "      <td>1</td>\n",
       "      <td>Why Nifty Next 50 is emerging as the hottest s...</td>\n",
       "      <td>India needs rate cuts to reach potential growt...</td>\n",
       "      <td>Vodafone Idea FPO booked 70%, NII portion full...</td>\n",
       "      <td>Liquidity deficit in banking system to narrow ...</td>\n",
       "      <td>Q4 results, Iran-Israel war developments, FII ...</td>\n",
       "      <td>Live: Will Nifty reclaim 22,200 or test 22,000...</td>\n",
       "      <td>IDFC FIRST Bank's BRAVO – The Ideal Financial ...</td>\n",
       "      <td>Heatwave condition to stay on for next 5 days ...</td>\n",
       "      <td>Zydus Life gains over 3% on launch of bladder ...</td>\n",
       "      <td>Invest Wise | Do gold, silver deserve a place ...</td>\n",
       "      <td>The schemes that moved out of MC30 2024 and why</td>\n",
       "    </tr>\n",
       "    <tr>\n",
       "      <th>1</th>\n",
       "      <td>0</td>\n",
       "      <td>Sensex settles above 75,000-mark for first tim...</td>\n",
       "      <td>Chart of the Day | How do commodity markets ad...</td>\n",
       "      <td>Greenhitech Ventures off to a flyer, lists at ...</td>\n",
       "      <td>Household Consumption Survey: A worrying conce...</td>\n",
       "      <td>Nifty, Sensex may fall on reports of blasts in...</td>\n",
       "      <td>Live: Indian market poised to clock new highs ...</td>\n",
       "      <td>Anand Mahindra reacts to Gukesh D's win in Can...</td>\n",
       "      <td>Will Bajaj Auto’s product fix help sustain ric...</td>\n",
       "      <td>Maharashtra Lok Sabha elections 2024: Key cons...</td>\n",
       "      <td>Acko’s Individual Health Insurance policy: Cla...</td>\n",
       "      <td>Top mutual funds: 3 new schemes that enter Mon...</td>\n",
       "    </tr>\n",
       "    <tr>\n",
       "      <th>2</th>\n",
       "      <td>1</td>\n",
       "      <td>Opening bell: Sensex, Nifty plunges ahead of R...</td>\n",
       "      <td>Escorts Kubota to hike tractor prices from May...</td>\n",
       "      <td>IPO Market Action: 4 public issues to open for...</td>\n",
       "      <td>World Street | Britain, Japan in recession, Ci...</td>\n",
       "      <td>Will cautious Fed commentary, Israel-Iran tens...</td>\n",
       "      <td>Live: Nifty poised to extend record run; Shoul...</td>\n",
       "      <td>Earth Day 2024: Google celebrates with doodle ...</td>\n",
       "      <td>India needs rate cuts to reach potential growt...</td>\n",
       "      <td>Vodafone Idea FPO booked 70%, NII portion full...</td>\n",
       "      <td>The schemes that moved out of MC30 2024 and why</td>\n",
       "      <td>Best mutual funds: 86% of actively-managed sch...</td>\n",
       "    </tr>\n",
       "    <tr>\n",
       "      <th>3</th>\n",
       "      <td>1</td>\n",
       "      <td>Stock market today: Sensex surges 350 point to...</td>\n",
       "      <td>How WTO is failing the developing countries</td>\n",
       "      <td>Premier Energies files draft papers for IPO wi...</td>\n",
       "      <td>RS polls: Bachchan and Ranjan are not among PD...</td>\n",
       "      <td>Markets to see increased volatility on Israel-...</td>\n",
       "      <td>Live: Nifty braces for another see-saw session...</td>\n",
       "      <td>Who is Gukesh D, youngest winner of Candidates...</td>\n",
       "      <td>SC permits minor rape survivor to undergo medi...</td>\n",
       "      <td>Kotak Mahindra Bank ups digital game; plans to...</td>\n",
       "      <td>Top mutual funds: 3 new schemes that enter Mon...</td>\n",
       "      <td>These 15 high-PE stocks make your midcap funds...</td>\n",
       "    </tr>\n",
       "    <tr>\n",
       "      <th>4</th>\n",
       "      <td>1</td>\n",
       "      <td>Closing bell: Sensex decline around 100 points...</td>\n",
       "      <td>MC Inside Edge: Swan Energy bulls await RNEL r...</td>\n",
       "      <td>Post Ola Electric, now Ola Cabs meets investme...</td>\n",
       "      <td>Don't require Nitish Kumar; Mahagathbandhan wi...</td>\n",
       "      <td>To invest or stay out as equities, gold run re...</td>\n",
       "      <td>Live: Will private banks take Nifty to greater...</td>\n",
       "      <td>A slow unwinding of COVID excesses at Wipro, I...</td>\n",
       "      <td>Teacher recruitment case: Calcutta High declar...</td>\n",
       "      <td>Will Bajaj Auto’s product fix help sustain ric...</td>\n",
       "      <td>Best mutual funds: 86% of actively-managed sch...</td>\n",
       "      <td>India should see $3 trn capital flows in the n...</td>\n",
       "    </tr>\n",
       "    <tr>\n",
       "      <th>...</th>\n",
       "      <td>...</td>\n",
       "      <td>...</td>\n",
       "      <td>...</td>\n",
       "      <td>...</td>\n",
       "      <td>...</td>\n",
       "      <td>...</td>\n",
       "      <td>...</td>\n",
       "      <td>...</td>\n",
       "      <td>...</td>\n",
       "      <td>...</td>\n",
       "      <td>...</td>\n",
       "      <td>...</td>\n",
       "    </tr>\n",
       "    <tr>\n",
       "      <th>95</th>\n",
       "      <td>1</td>\n",
       "      <td>Sensex, Nifty extend losses into 2nd day on ra...</td>\n",
       "      <td>Heatwave's Impact: Why India Cannot Be Complac...</td>\n",
       "      <td>Business in the Week Ahead (March 25-29, 2024)</td>\n",
       "      <td>EC orders suspension of Telangana DGP hours af...</td>\n",
       "      <td>Will Powell's hawkish remarks hurt Street's fe...</td>\n",
       "      <td>Live: Nifty’s record run continues; GMM Pfaudl...</td>\n",
       "      <td>Why are two courts hearing cases on Arvind Kej...</td>\n",
       "      <td>Lok Sabha Polls Phase 1: 62.3% turnout recorde...</td>\n",
       "      <td>Stock Market LIVE Updates: Nifty at 22,300, Se...</td>\n",
       "      <td>PGIM India Mutual Fund launches retirement fun...</td>\n",
       "      <td>Microcap multibagger pharma stocks that MFs ad...</td>\n",
       "    </tr>\n",
       "    <tr>\n",
       "      <th>96</th>\n",
       "      <td>0</td>\n",
       "      <td>Mid and small cap stocks risk abrupt correctio...</td>\n",
       "      <td>Taiwanese groups consider overseas headquarter...</td>\n",
       "      <td>Executive startup founders holding more than 1...</td>\n",
       "      <td>Rajasthan Election Results 2023: Five key fact...</td>\n",
       "      <td>Are markets in a phase of consolidation ahead ...</td>\n",
       "      <td>Live: Nifty ends above 20k for first time; The...</td>\n",
       "      <td>IAS officer shares her UPSC marksheet handwrit...</td>\n",
       "      <td>Lok Sabha Polls 2024 Phase 1: 60% voting in 10...</td>\n",
       "      <td>Their funds make you money; now, their stock i...</td>\n",
       "      <td>HDFC Bank raises new home loan rates even as r...</td>\n",
       "      <td>Will SEBI advisory impact investing strategy o...</td>\n",
       "    </tr>\n",
       "    <tr>\n",
       "      <th>97</th>\n",
       "      <td>0</td>\n",
       "      <td>Energy, financials drag down Indian shares in ...</td>\n",
       "      <td>US junks 200 years of economics to block China...</td>\n",
       "      <td>Vijay Kedia-backed Tac Security to be India's ...</td>\n",
       "      <td>Rajasthan assembly poll results unexpected, we...</td>\n",
       "      <td>Can easing bond yields, oil prices impress Dal...</td>\n",
       "      <td>Live: Nifty set for choppy ride at record; Mak...</td>\n",
       "      <td>In Knife: Meditations After An Attempted Murde...</td>\n",
       "      <td>Lok Sabha Elections: BJP's 'Vote for the G.O.A...</td>\n",
       "      <td>Stock Market Today: Top 10 things to know befo...</td>\n",
       "      <td>Four financial planning mistakes you should av...</td>\n",
       "      <td>How soon can you sell your small and midcap st...</td>\n",
       "    </tr>\n",
       "    <tr>\n",
       "      <th>98</th>\n",
       "      <td>1</td>\n",
       "      <td>Markets fall in early trade after five-day rally</td>\n",
       "      <td>As Atos sinks deeper, it is advantage Indian I...</td>\n",
       "      <td>No, Reddit is not a meme stock</td>\n",
       "      <td>Assembly Election Results 2023: PM hails ‘Jant...</td>\n",
       "      <td>Q2 results, oil prices, and FII flows on radar...</td>\n",
       "      <td>Live: Nifty tops 19,700 as bulls charge ahead;...</td>\n",
       "      <td>Ex-Google, Amazon recruiters advise job seeker...</td>\n",
       "      <td>Digi Yatra users' data safe; info stored only ...</td>\n",
       "      <td>The schemes that moved out of MC30 2024 and why</td>\n",
       "      <td>The Money Calendar 2024-25: Keep up with inves...</td>\n",
       "      <td>AMCs likely to disclose risk parameters of mid...</td>\n",
       "    </tr>\n",
       "    <tr>\n",
       "      <th>99</th>\n",
       "      <td>0</td>\n",
       "      <td>A $46 billion rally shows India tech woes easing</td>\n",
       "      <td>Congress manifesto offers alternative ideology...</td>\n",
       "      <td>Enser Communications lists at 2.9% premium to ...</td>\n",
       "      <td>Rajasthan polls: Sachin Pilot wins from Tonk w...</td>\n",
       "      <td>Cello World listing, FPI sell off, Vedanta $1....</td>\n",
       "      <td>Live: Nifty Above 19600; What Next? TCS, Paytm...</td>\n",
       "      <td>'Incorrect analogy': Jet Airways ex-CEO design...</td>\n",
       "      <td>Indian airlines cancel, reschedule Dubai fligh...</td>\n",
       "      <td>Top mutual funds: 3 new schemes that enter Mon...</td>\n",
       "      <td>Over 73% active mid/small-cap funds fail to be...</td>\n",
       "      <td>International MF schemes: Why some funds are s...</td>\n",
       "    </tr>\n",
       "  </tbody>\n",
       "</table>\n",
       "<p>100 rows × 12 columns</p>\n",
       "</div>"
      ],
      "text/plain": [
       "    nifty-up-or-down                                         nifty-news  \\\n",
       "0                  1  Why Nifty Next 50 is emerging as the hottest s...   \n",
       "1                  0  Sensex settles above 75,000-mark for first tim...   \n",
       "2                  1  Opening bell: Sensex, Nifty plunges ahead of R...   \n",
       "3                  1  Stock market today: Sensex surges 350 point to...   \n",
       "4                  1  Closing bell: Sensex decline around 100 points...   \n",
       "..               ...                                                ...   \n",
       "95                 1  Sensex, Nifty extend losses into 2nd day on ra...   \n",
       "96                 0  Mid and small cap stocks risk abrupt correctio...   \n",
       "97                 0  Energy, financials drag down Indian shares in ...   \n",
       "98                 1   Markets fall in early trade after five-day rally   \n",
       "99                 0   A $46 billion rally shows India tech woes easing   \n",
       "\n",
       "                                              economy  \\\n",
       "0   India needs rate cuts to reach potential growt...   \n",
       "1   Chart of the Day | How do commodity markets ad...   \n",
       "2   Escorts Kubota to hike tractor prices from May...   \n",
       "3         How WTO is failing the developing countries   \n",
       "4   MC Inside Edge: Swan Energy bulls await RNEL r...   \n",
       "..                                                ...   \n",
       "95  Heatwave's Impact: Why India Cannot Be Complac...   \n",
       "96  Taiwanese groups consider overseas headquarter...   \n",
       "97  US junks 200 years of economics to block China...   \n",
       "98  As Atos sinks deeper, it is advantage Indian I...   \n",
       "99  Congress manifesto offers alternative ideology...   \n",
       "\n",
       "                                                  ipo  \\\n",
       "0   Vodafone Idea FPO booked 70%, NII portion full...   \n",
       "1   Greenhitech Ventures off to a flyer, lists at ...   \n",
       "2   IPO Market Action: 4 public issues to open for...   \n",
       "3   Premier Energies files draft papers for IPO wi...   \n",
       "4   Post Ola Electric, now Ola Cabs meets investme...   \n",
       "..                                                ...   \n",
       "95     Business in the Week Ahead (March 25-29, 2024)   \n",
       "96  Executive startup founders holding more than 1...   \n",
       "97  Vijay Kedia-backed Tac Security to be India's ...   \n",
       "98                    No, Reddit is not a meme stock    \n",
       "99  Enser Communications lists at 2.9% premium to ...   \n",
       "\n",
       "                                         election2024  \\\n",
       "0   Liquidity deficit in banking system to narrow ...   \n",
       "1   Household Consumption Survey: A worrying conce...   \n",
       "2   World Street | Britain, Japan in recession, Ci...   \n",
       "3   RS polls: Bachchan and Ranjan are not among PD...   \n",
       "4   Don't require Nitish Kumar; Mahagathbandhan wi...   \n",
       "..                                                ...   \n",
       "95  EC orders suspension of Telangana DGP hours af...   \n",
       "96  Rajasthan Election Results 2023: Five key fact...   \n",
       "97  Rajasthan assembly poll results unexpected, we...   \n",
       "98  Assembly Election Results 2023: PM hails ‘Jant...   \n",
       "99  Rajasthan polls: Sachin Pilot wins from Tonk w...   \n",
       "\n",
       "                                           market-min  \\\n",
       "0   Q4 results, Iran-Israel war developments, FII ...   \n",
       "1   Nifty, Sensex may fall on reports of blasts in...   \n",
       "2   Will cautious Fed commentary, Israel-Iran tens...   \n",
       "3   Markets to see increased volatility on Israel-...   \n",
       "4   To invest or stay out as equities, gold run re...   \n",
       "..                                                ...   \n",
       "95  Will Powell's hawkish remarks hurt Street's fe...   \n",
       "96  Are markets in a phase of consolidation ahead ...   \n",
       "97  Can easing bond yields, oil prices impress Dal...   \n",
       "98  Q2 results, oil prices, and FII flows on radar...   \n",
       "99  Cello World listing, FPI sell off, Vedanta $1....   \n",
       "\n",
       "                                        morning-trade  \\\n",
       "0   Live: Will Nifty reclaim 22,200 or test 22,000...   \n",
       "1   Live: Indian market poised to clock new highs ...   \n",
       "2   Live: Nifty poised to extend record run; Shoul...   \n",
       "3   Live: Nifty braces for another see-saw session...   \n",
       "4   Live: Will private banks take Nifty to greater...   \n",
       "..                                                ...   \n",
       "95  Live: Nifty’s record run continues; GMM Pfaudl...   \n",
       "96  Live: Nifty ends above 20k for first time; The...   \n",
       "97  Live: Nifty set for choppy ride at record; Mak...   \n",
       "98  Live: Nifty tops 19,700 as bulls charge ahead;...   \n",
       "99  Live: Nifty Above 19600; What Next? TCS, Paytm...   \n",
       "\n",
       "                                               trends  \\\n",
       "0   IDFC FIRST Bank's BRAVO – The Ideal Financial ...   \n",
       "1   Anand Mahindra reacts to Gukesh D's win in Can...   \n",
       "2   Earth Day 2024: Google celebrates with doodle ...   \n",
       "3   Who is Gukesh D, youngest winner of Candidates...   \n",
       "4   A slow unwinding of COVID excesses at Wipro, I...   \n",
       "..                                                ...   \n",
       "95  Why are two courts hearing cases on Arvind Kej...   \n",
       "96  IAS officer shares her UPSC marksheet handwrit...   \n",
       "97  In Knife: Meditations After An Attempted Murde...   \n",
       "98  Ex-Google, Amazon recruiters advise job seeker...   \n",
       "99  'Incorrect analogy': Jet Airways ex-CEO design...   \n",
       "\n",
       "                                     indian-political  \\\n",
       "0   Heatwave condition to stay on for next 5 days ...   \n",
       "1   Will Bajaj Auto’s product fix help sustain ric...   \n",
       "2   India needs rate cuts to reach potential growt...   \n",
       "3   SC permits minor rape survivor to undergo medi...   \n",
       "4   Teacher recruitment case: Calcutta High declar...   \n",
       "..                                                ...   \n",
       "95  Lok Sabha Polls Phase 1: 62.3% turnout recorde...   \n",
       "96  Lok Sabha Polls 2024 Phase 1: 60% voting in 10...   \n",
       "97  Lok Sabha Elections: BJP's 'Vote for the G.O.A...   \n",
       "98  Digi Yatra users' data safe; info stored only ...   \n",
       "99  Indian airlines cancel, reschedule Dubai fligh...   \n",
       "\n",
       "                                             business  \\\n",
       "0   Zydus Life gains over 3% on launch of bladder ...   \n",
       "1   Maharashtra Lok Sabha elections 2024: Key cons...   \n",
       "2   Vodafone Idea FPO booked 70%, NII portion full...   \n",
       "3   Kotak Mahindra Bank ups digital game; plans to...   \n",
       "4   Will Bajaj Auto’s product fix help sustain ric...   \n",
       "..                                                ...   \n",
       "95  Stock Market LIVE Updates: Nifty at 22,300, Se...   \n",
       "96  Their funds make you money; now, their stock i...   \n",
       "97  Stock Market Today: Top 10 things to know befo...   \n",
       "98    The schemes that moved out of MC30 2024 and why   \n",
       "99  Top mutual funds: 3 new schemes that enter Mon...   \n",
       "\n",
       "                                     personal-finance  \\\n",
       "0   Invest Wise | Do gold, silver deserve a place ...   \n",
       "1   Acko’s Individual Health Insurance policy: Cla...   \n",
       "2     The schemes that moved out of MC30 2024 and why   \n",
       "3   Top mutual funds: 3 new schemes that enter Mon...   \n",
       "4   Best mutual funds: 86% of actively-managed sch...   \n",
       "..                                                ...   \n",
       "95  PGIM India Mutual Fund launches retirement fun...   \n",
       "96  HDFC Bank raises new home loan rates even as r...   \n",
       "97  Four financial planning mistakes you should av...   \n",
       "98  The Money Calendar 2024-25: Keep up with inves...   \n",
       "99  Over 73% active mid/small-cap funds fail to be...   \n",
       "\n",
       "                                          mutual-fund  \n",
       "0     The schemes that moved out of MC30 2024 and why  \n",
       "1   Top mutual funds: 3 new schemes that enter Mon...  \n",
       "2   Best mutual funds: 86% of actively-managed sch...  \n",
       "3   These 15 high-PE stocks make your midcap funds...  \n",
       "4   India should see $3 trn capital flows in the n...  \n",
       "..                                                ...  \n",
       "95  Microcap multibagger pharma stocks that MFs ad...  \n",
       "96  Will SEBI advisory impact investing strategy o...  \n",
       "97  How soon can you sell your small and midcap st...  \n",
       "98  AMCs likely to disclose risk parameters of mid...  \n",
       "99  International MF schemes: Why some funds are s...  \n",
       "\n",
       "[100 rows x 12 columns]"
      ]
     },
     "execution_count": 271,
     "metadata": {},
     "output_type": "execute_result"
    }
   ],
   "source": [
    "import pandas as pd\n",
    "\n",
    "final_data={'nifty-up-or-down':dummy_depended_variables,'nifty-news':nifty ,'economy':economy,'ipo':ipo,'election2024':election2024,'market-min':market_min,'morning-trade':morning_trade,'trends':trends,'indian-political':indian_political,'business':business,'personal-finance':personal_finance,'mutual-fund':mutualFund}\n",
    "\n",
    "\n",
    "df=pd.DataFrame(final_data)\n",
    "df\n",
    "\n"
   ]
  },
  {
   "cell_type": "markdown",
   "id": "7d137ffb",
   "metadata": {},
   "source": [
    "text-preprocessing "
   ]
  },
  {
   "cell_type": "code",
   "execution_count": 272,
   "id": "b2f8b0dc",
   "metadata": {},
   "outputs": [],
   "source": [
    "df.head(4)\n",
    "data=df\n"
   ]
  },
  {
   "cell_type": "code",
   "execution_count": 273,
   "id": "ca0b08ea",
   "metadata": {},
   "outputs": [],
   "source": [
    "\n",
    "# list1 = [i for i in range(12)]\n",
    "# new_index = [str(i) for i in list1]\n",
    "\n",
    "\n",
    "# data.columns=new_index"
   ]
  },
  {
   "cell_type": "code",
   "execution_count": 274,
   "id": "6629a829",
   "metadata": {},
   "outputs": [
    {
     "data": {
      "text/html": [
       "<div>\n",
       "<style scoped>\n",
       "    .dataframe tbody tr th:only-of-type {\n",
       "        vertical-align: middle;\n",
       "    }\n",
       "\n",
       "    .dataframe tbody tr th {\n",
       "        vertical-align: top;\n",
       "    }\n",
       "\n",
       "    .dataframe thead th {\n",
       "        text-align: right;\n",
       "    }\n",
       "</style>\n",
       "<table border=\"1\" class=\"dataframe\">\n",
       "  <thead>\n",
       "    <tr style=\"text-align: right;\">\n",
       "      <th></th>\n",
       "      <th>nifty-up-or-down</th>\n",
       "      <th>nifty-news</th>\n",
       "      <th>economy</th>\n",
       "      <th>ipo</th>\n",
       "      <th>election2024</th>\n",
       "      <th>market-min</th>\n",
       "      <th>morning-trade</th>\n",
       "      <th>trends</th>\n",
       "      <th>indian-political</th>\n",
       "      <th>business</th>\n",
       "      <th>personal-finance</th>\n",
       "      <th>mutual-fund</th>\n",
       "    </tr>\n",
       "  </thead>\n",
       "  <tbody>\n",
       "    <tr>\n",
       "      <th>0</th>\n",
       "      <td>1</td>\n",
       "      <td>Why Nifty Next 50 is emerging as the hottest s...</td>\n",
       "      <td>India needs rate cuts to reach potential growt...</td>\n",
       "      <td>Vodafone Idea FPO booked 70%, NII portion full...</td>\n",
       "      <td>Liquidity deficit in banking system to narrow ...</td>\n",
       "      <td>Q4 results, Iran-Israel war developments, FII ...</td>\n",
       "      <td>Live: Will Nifty reclaim 22,200 or test 22,000...</td>\n",
       "      <td>IDFC FIRST Bank's BRAVO – The Ideal Financial ...</td>\n",
       "      <td>Heatwave condition to stay on for next 5 days ...</td>\n",
       "      <td>Zydus Life gains over 3% on launch of bladder ...</td>\n",
       "      <td>Invest Wise | Do gold, silver deserve a place ...</td>\n",
       "      <td>The schemes that moved out of MC30 2024 and why</td>\n",
       "    </tr>\n",
       "    <tr>\n",
       "      <th>1</th>\n",
       "      <td>0</td>\n",
       "      <td>Sensex settles above 75,000-mark for first tim...</td>\n",
       "      <td>Chart of the Day | How do commodity markets ad...</td>\n",
       "      <td>Greenhitech Ventures off to a flyer, lists at ...</td>\n",
       "      <td>Household Consumption Survey: A worrying conce...</td>\n",
       "      <td>Nifty, Sensex may fall on reports of blasts in...</td>\n",
       "      <td>Live: Indian market poised to clock new highs ...</td>\n",
       "      <td>Anand Mahindra reacts to Gukesh D's win in Can...</td>\n",
       "      <td>Will Bajaj Auto’s product fix help sustain ric...</td>\n",
       "      <td>Maharashtra Lok Sabha elections 2024: Key cons...</td>\n",
       "      <td>Acko’s Individual Health Insurance policy: Cla...</td>\n",
       "      <td>Top mutual funds: 3 new schemes that enter Mon...</td>\n",
       "    </tr>\n",
       "    <tr>\n",
       "      <th>2</th>\n",
       "      <td>1</td>\n",
       "      <td>Opening bell: Sensex, Nifty plunges ahead of R...</td>\n",
       "      <td>Escorts Kubota to hike tractor prices from May...</td>\n",
       "      <td>IPO Market Action: 4 public issues to open for...</td>\n",
       "      <td>World Street | Britain, Japan in recession, Ci...</td>\n",
       "      <td>Will cautious Fed commentary, Israel-Iran tens...</td>\n",
       "      <td>Live: Nifty poised to extend record run; Shoul...</td>\n",
       "      <td>Earth Day 2024: Google celebrates with doodle ...</td>\n",
       "      <td>India needs rate cuts to reach potential growt...</td>\n",
       "      <td>Vodafone Idea FPO booked 70%, NII portion full...</td>\n",
       "      <td>The schemes that moved out of MC30 2024 and why</td>\n",
       "      <td>Best mutual funds: 86% of actively-managed sch...</td>\n",
       "    </tr>\n",
       "    <tr>\n",
       "      <th>3</th>\n",
       "      <td>1</td>\n",
       "      <td>Stock market today: Sensex surges 350 point to...</td>\n",
       "      <td>How WTO is failing the developing countries</td>\n",
       "      <td>Premier Energies files draft papers for IPO wi...</td>\n",
       "      <td>RS polls: Bachchan and Ranjan are not among PD...</td>\n",
       "      <td>Markets to see increased volatility on Israel-...</td>\n",
       "      <td>Live: Nifty braces for another see-saw session...</td>\n",
       "      <td>Who is Gukesh D, youngest winner of Candidates...</td>\n",
       "      <td>SC permits minor rape survivor to undergo medi...</td>\n",
       "      <td>Kotak Mahindra Bank ups digital game; plans to...</td>\n",
       "      <td>Top mutual funds: 3 new schemes that enter Mon...</td>\n",
       "      <td>These 15 high-PE stocks make your midcap funds...</td>\n",
       "    </tr>\n",
       "    <tr>\n",
       "      <th>4</th>\n",
       "      <td>1</td>\n",
       "      <td>Closing bell: Sensex decline around 100 points...</td>\n",
       "      <td>MC Inside Edge: Swan Energy bulls await RNEL r...</td>\n",
       "      <td>Post Ola Electric, now Ola Cabs meets investme...</td>\n",
       "      <td>Don't require Nitish Kumar; Mahagathbandhan wi...</td>\n",
       "      <td>To invest or stay out as equities, gold run re...</td>\n",
       "      <td>Live: Will private banks take Nifty to greater...</td>\n",
       "      <td>A slow unwinding of COVID excesses at Wipro, I...</td>\n",
       "      <td>Teacher recruitment case: Calcutta High declar...</td>\n",
       "      <td>Will Bajaj Auto’s product fix help sustain ric...</td>\n",
       "      <td>Best mutual funds: 86% of actively-managed sch...</td>\n",
       "      <td>India should see $3 trn capital flows in the n...</td>\n",
       "    </tr>\n",
       "    <tr>\n",
       "      <th>...</th>\n",
       "      <td>...</td>\n",
       "      <td>...</td>\n",
       "      <td>...</td>\n",
       "      <td>...</td>\n",
       "      <td>...</td>\n",
       "      <td>...</td>\n",
       "      <td>...</td>\n",
       "      <td>...</td>\n",
       "      <td>...</td>\n",
       "      <td>...</td>\n",
       "      <td>...</td>\n",
       "      <td>...</td>\n",
       "    </tr>\n",
       "    <tr>\n",
       "      <th>95</th>\n",
       "      <td>1</td>\n",
       "      <td>Sensex, Nifty extend losses into 2nd day on ra...</td>\n",
       "      <td>Heatwave's Impact: Why India Cannot Be Complac...</td>\n",
       "      <td>Business in the Week Ahead (March 25-29, 2024)</td>\n",
       "      <td>EC orders suspension of Telangana DGP hours af...</td>\n",
       "      <td>Will Powell's hawkish remarks hurt Street's fe...</td>\n",
       "      <td>Live: Nifty’s record run continues; GMM Pfaudl...</td>\n",
       "      <td>Why are two courts hearing cases on Arvind Kej...</td>\n",
       "      <td>Lok Sabha Polls Phase 1: 62.3% turnout recorde...</td>\n",
       "      <td>Stock Market LIVE Updates: Nifty at 22,300, Se...</td>\n",
       "      <td>PGIM India Mutual Fund launches retirement fun...</td>\n",
       "      <td>Microcap multibagger pharma stocks that MFs ad...</td>\n",
       "    </tr>\n",
       "    <tr>\n",
       "      <th>96</th>\n",
       "      <td>0</td>\n",
       "      <td>Mid and small cap stocks risk abrupt correctio...</td>\n",
       "      <td>Taiwanese groups consider overseas headquarter...</td>\n",
       "      <td>Executive startup founders holding more than 1...</td>\n",
       "      <td>Rajasthan Election Results 2023: Five key fact...</td>\n",
       "      <td>Are markets in a phase of consolidation ahead ...</td>\n",
       "      <td>Live: Nifty ends above 20k for first time; The...</td>\n",
       "      <td>IAS officer shares her UPSC marksheet handwrit...</td>\n",
       "      <td>Lok Sabha Polls 2024 Phase 1: 60% voting in 10...</td>\n",
       "      <td>Their funds make you money; now, their stock i...</td>\n",
       "      <td>HDFC Bank raises new home loan rates even as r...</td>\n",
       "      <td>Will SEBI advisory impact investing strategy o...</td>\n",
       "    </tr>\n",
       "    <tr>\n",
       "      <th>97</th>\n",
       "      <td>0</td>\n",
       "      <td>Energy, financials drag down Indian shares in ...</td>\n",
       "      <td>US junks 200 years of economics to block China...</td>\n",
       "      <td>Vijay Kedia-backed Tac Security to be India's ...</td>\n",
       "      <td>Rajasthan assembly poll results unexpected, we...</td>\n",
       "      <td>Can easing bond yields, oil prices impress Dal...</td>\n",
       "      <td>Live: Nifty set for choppy ride at record; Mak...</td>\n",
       "      <td>In Knife: Meditations After An Attempted Murde...</td>\n",
       "      <td>Lok Sabha Elections: BJP's 'Vote for the G.O.A...</td>\n",
       "      <td>Stock Market Today: Top 10 things to know befo...</td>\n",
       "      <td>Four financial planning mistakes you should av...</td>\n",
       "      <td>How soon can you sell your small and midcap st...</td>\n",
       "    </tr>\n",
       "    <tr>\n",
       "      <th>98</th>\n",
       "      <td>1</td>\n",
       "      <td>Markets fall in early trade after five-day rally</td>\n",
       "      <td>As Atos sinks deeper, it is advantage Indian I...</td>\n",
       "      <td>No, Reddit is not a meme stock</td>\n",
       "      <td>Assembly Election Results 2023: PM hails ‘Jant...</td>\n",
       "      <td>Q2 results, oil prices, and FII flows on radar...</td>\n",
       "      <td>Live: Nifty tops 19,700 as bulls charge ahead;...</td>\n",
       "      <td>Ex-Google, Amazon recruiters advise job seeker...</td>\n",
       "      <td>Digi Yatra users' data safe; info stored only ...</td>\n",
       "      <td>The schemes that moved out of MC30 2024 and why</td>\n",
       "      <td>The Money Calendar 2024-25: Keep up with inves...</td>\n",
       "      <td>AMCs likely to disclose risk parameters of mid...</td>\n",
       "    </tr>\n",
       "    <tr>\n",
       "      <th>99</th>\n",
       "      <td>0</td>\n",
       "      <td>A $46 billion rally shows India tech woes easing</td>\n",
       "      <td>Congress manifesto offers alternative ideology...</td>\n",
       "      <td>Enser Communications lists at 2.9% premium to ...</td>\n",
       "      <td>Rajasthan polls: Sachin Pilot wins from Tonk w...</td>\n",
       "      <td>Cello World listing, FPI sell off, Vedanta $1....</td>\n",
       "      <td>Live: Nifty Above 19600; What Next? TCS, Paytm...</td>\n",
       "      <td>'Incorrect analogy': Jet Airways ex-CEO design...</td>\n",
       "      <td>Indian airlines cancel, reschedule Dubai fligh...</td>\n",
       "      <td>Top mutual funds: 3 new schemes that enter Mon...</td>\n",
       "      <td>Over 73% active mid/small-cap funds fail to be...</td>\n",
       "      <td>International MF schemes: Why some funds are s...</td>\n",
       "    </tr>\n",
       "  </tbody>\n",
       "</table>\n",
       "<p>100 rows × 12 columns</p>\n",
       "</div>"
      ],
      "text/plain": [
       "    nifty-up-or-down                                         nifty-news  \\\n",
       "0                  1  Why Nifty Next 50 is emerging as the hottest s...   \n",
       "1                  0  Sensex settles above 75,000-mark for first tim...   \n",
       "2                  1  Opening bell: Sensex, Nifty plunges ahead of R...   \n",
       "3                  1  Stock market today: Sensex surges 350 point to...   \n",
       "4                  1  Closing bell: Sensex decline around 100 points...   \n",
       "..               ...                                                ...   \n",
       "95                 1  Sensex, Nifty extend losses into 2nd day on ra...   \n",
       "96                 0  Mid and small cap stocks risk abrupt correctio...   \n",
       "97                 0  Energy, financials drag down Indian shares in ...   \n",
       "98                 1   Markets fall in early trade after five-day rally   \n",
       "99                 0   A $46 billion rally shows India tech woes easing   \n",
       "\n",
       "                                              economy  \\\n",
       "0   India needs rate cuts to reach potential growt...   \n",
       "1   Chart of the Day | How do commodity markets ad...   \n",
       "2   Escorts Kubota to hike tractor prices from May...   \n",
       "3         How WTO is failing the developing countries   \n",
       "4   MC Inside Edge: Swan Energy bulls await RNEL r...   \n",
       "..                                                ...   \n",
       "95  Heatwave's Impact: Why India Cannot Be Complac...   \n",
       "96  Taiwanese groups consider overseas headquarter...   \n",
       "97  US junks 200 years of economics to block China...   \n",
       "98  As Atos sinks deeper, it is advantage Indian I...   \n",
       "99  Congress manifesto offers alternative ideology...   \n",
       "\n",
       "                                                  ipo  \\\n",
       "0   Vodafone Idea FPO booked 70%, NII portion full...   \n",
       "1   Greenhitech Ventures off to a flyer, lists at ...   \n",
       "2   IPO Market Action: 4 public issues to open for...   \n",
       "3   Premier Energies files draft papers for IPO wi...   \n",
       "4   Post Ola Electric, now Ola Cabs meets investme...   \n",
       "..                                                ...   \n",
       "95     Business in the Week Ahead (March 25-29, 2024)   \n",
       "96  Executive startup founders holding more than 1...   \n",
       "97  Vijay Kedia-backed Tac Security to be India's ...   \n",
       "98                    No, Reddit is not a meme stock    \n",
       "99  Enser Communications lists at 2.9% premium to ...   \n",
       "\n",
       "                                         election2024  \\\n",
       "0   Liquidity deficit in banking system to narrow ...   \n",
       "1   Household Consumption Survey: A worrying conce...   \n",
       "2   World Street | Britain, Japan in recession, Ci...   \n",
       "3   RS polls: Bachchan and Ranjan are not among PD...   \n",
       "4   Don't require Nitish Kumar; Mahagathbandhan wi...   \n",
       "..                                                ...   \n",
       "95  EC orders suspension of Telangana DGP hours af...   \n",
       "96  Rajasthan Election Results 2023: Five key fact...   \n",
       "97  Rajasthan assembly poll results unexpected, we...   \n",
       "98  Assembly Election Results 2023: PM hails ‘Jant...   \n",
       "99  Rajasthan polls: Sachin Pilot wins from Tonk w...   \n",
       "\n",
       "                                           market-min  \\\n",
       "0   Q4 results, Iran-Israel war developments, FII ...   \n",
       "1   Nifty, Sensex may fall on reports of blasts in...   \n",
       "2   Will cautious Fed commentary, Israel-Iran tens...   \n",
       "3   Markets to see increased volatility on Israel-...   \n",
       "4   To invest or stay out as equities, gold run re...   \n",
       "..                                                ...   \n",
       "95  Will Powell's hawkish remarks hurt Street's fe...   \n",
       "96  Are markets in a phase of consolidation ahead ...   \n",
       "97  Can easing bond yields, oil prices impress Dal...   \n",
       "98  Q2 results, oil prices, and FII flows on radar...   \n",
       "99  Cello World listing, FPI sell off, Vedanta $1....   \n",
       "\n",
       "                                        morning-trade  \\\n",
       "0   Live: Will Nifty reclaim 22,200 or test 22,000...   \n",
       "1   Live: Indian market poised to clock new highs ...   \n",
       "2   Live: Nifty poised to extend record run; Shoul...   \n",
       "3   Live: Nifty braces for another see-saw session...   \n",
       "4   Live: Will private banks take Nifty to greater...   \n",
       "..                                                ...   \n",
       "95  Live: Nifty’s record run continues; GMM Pfaudl...   \n",
       "96  Live: Nifty ends above 20k for first time; The...   \n",
       "97  Live: Nifty set for choppy ride at record; Mak...   \n",
       "98  Live: Nifty tops 19,700 as bulls charge ahead;...   \n",
       "99  Live: Nifty Above 19600; What Next? TCS, Paytm...   \n",
       "\n",
       "                                               trends  \\\n",
       "0   IDFC FIRST Bank's BRAVO – The Ideal Financial ...   \n",
       "1   Anand Mahindra reacts to Gukesh D's win in Can...   \n",
       "2   Earth Day 2024: Google celebrates with doodle ...   \n",
       "3   Who is Gukesh D, youngest winner of Candidates...   \n",
       "4   A slow unwinding of COVID excesses at Wipro, I...   \n",
       "..                                                ...   \n",
       "95  Why are two courts hearing cases on Arvind Kej...   \n",
       "96  IAS officer shares her UPSC marksheet handwrit...   \n",
       "97  In Knife: Meditations After An Attempted Murde...   \n",
       "98  Ex-Google, Amazon recruiters advise job seeker...   \n",
       "99  'Incorrect analogy': Jet Airways ex-CEO design...   \n",
       "\n",
       "                                     indian-political  \\\n",
       "0   Heatwave condition to stay on for next 5 days ...   \n",
       "1   Will Bajaj Auto’s product fix help sustain ric...   \n",
       "2   India needs rate cuts to reach potential growt...   \n",
       "3   SC permits minor rape survivor to undergo medi...   \n",
       "4   Teacher recruitment case: Calcutta High declar...   \n",
       "..                                                ...   \n",
       "95  Lok Sabha Polls Phase 1: 62.3% turnout recorde...   \n",
       "96  Lok Sabha Polls 2024 Phase 1: 60% voting in 10...   \n",
       "97  Lok Sabha Elections: BJP's 'Vote for the G.O.A...   \n",
       "98  Digi Yatra users' data safe; info stored only ...   \n",
       "99  Indian airlines cancel, reschedule Dubai fligh...   \n",
       "\n",
       "                                             business  \\\n",
       "0   Zydus Life gains over 3% on launch of bladder ...   \n",
       "1   Maharashtra Lok Sabha elections 2024: Key cons...   \n",
       "2   Vodafone Idea FPO booked 70%, NII portion full...   \n",
       "3   Kotak Mahindra Bank ups digital game; plans to...   \n",
       "4   Will Bajaj Auto’s product fix help sustain ric...   \n",
       "..                                                ...   \n",
       "95  Stock Market LIVE Updates: Nifty at 22,300, Se...   \n",
       "96  Their funds make you money; now, their stock i...   \n",
       "97  Stock Market Today: Top 10 things to know befo...   \n",
       "98    The schemes that moved out of MC30 2024 and why   \n",
       "99  Top mutual funds: 3 new schemes that enter Mon...   \n",
       "\n",
       "                                     personal-finance  \\\n",
       "0   Invest Wise | Do gold, silver deserve a place ...   \n",
       "1   Acko’s Individual Health Insurance policy: Cla...   \n",
       "2     The schemes that moved out of MC30 2024 and why   \n",
       "3   Top mutual funds: 3 new schemes that enter Mon...   \n",
       "4   Best mutual funds: 86% of actively-managed sch...   \n",
       "..                                                ...   \n",
       "95  PGIM India Mutual Fund launches retirement fun...   \n",
       "96  HDFC Bank raises new home loan rates even as r...   \n",
       "97  Four financial planning mistakes you should av...   \n",
       "98  The Money Calendar 2024-25: Keep up with inves...   \n",
       "99  Over 73% active mid/small-cap funds fail to be...   \n",
       "\n",
       "                                          mutual-fund  \n",
       "0     The schemes that moved out of MC30 2024 and why  \n",
       "1   Top mutual funds: 3 new schemes that enter Mon...  \n",
       "2   Best mutual funds: 86% of actively-managed sch...  \n",
       "3   These 15 high-PE stocks make your midcap funds...  \n",
       "4   India should see $3 trn capital flows in the n...  \n",
       "..                                                ...  \n",
       "95  Microcap multibagger pharma stocks that MFs ad...  \n",
       "96  Will SEBI advisory impact investing strategy o...  \n",
       "97  How soon can you sell your small and midcap st...  \n",
       "98  AMCs likely to disclose risk parameters of mid...  \n",
       "99  International MF schemes: Why some funds are s...  \n",
       "\n",
       "[100 rows x 12 columns]"
      ]
     },
     "execution_count": 274,
     "metadata": {},
     "output_type": "execute_result"
    }
   ],
   "source": [
    "data.shape\n",
    "data"
   ]
  },
  {
   "cell_type": "code",
   "execution_count": 275,
   "id": "3a75faaf",
   "metadata": {},
   "outputs": [],
   "source": [
    "data_review=[]\n",
    "\n",
    "for row in range(0,len(data.index)):\n",
    "    data_review.append(' '.join(str(x) for x in data.iloc[row,1:12]))"
   ]
  },
  {
   "cell_type": "code",
   "execution_count": 276,
   "id": "4d319698",
   "metadata": {},
   "outputs": [
    {
     "data": {
      "text/plain": [
       "\"Sensex settles above 75,000-mark for first time, Nifty closes at record high Chart of the Day | How do commodity markets adjust to shocks? Greenhitech Ventures off to a flyer, lists at 90% premium on BSE SME Household Consumption Survey: A worrying concentration of income that doesn’t help industrial growth Nifty, Sensex may fall on reports of blasts in Iran; GIFT Nifty, Asian indices tank, crude jumps 3% | Market Minutes Live: Indian market poised to clock new highs in monthly F&O expiry week? RIL, HDFC Bank in focus Anand Mahindra reacts to Gukesh D's win in Candidates tournament: 'Iceman prevails' Will Bajaj Auto’s product fix help sustain rich valuations? Maharashtra Lok Sabha elections 2024: Key constituencies and candidates in second phase Acko’s Individual Health Insurance policy: Claims, features, no-claim bonus and more Top mutual funds: 3 new schemes that enter Moneycontrol’s sparkling list of investment-worthy funds; MC30\""
      ]
     },
     "execution_count": 276,
     "metadata": {},
     "output_type": "execute_result"
    }
   ],
   "source": [
    "len(data_review)\n",
    "data_review[1]"
   ]
  },
  {
   "cell_type": "code",
   "execution_count": 277,
   "id": "661da7f7",
   "metadata": {},
   "outputs": [],
   "source": [
    "import nltk\n",
    "from nltk.stem import PorterStemmer, WordNetLemmatizer\n",
    "import re\n",
    "porter = PorterStemmer()\n",
    "lemmatizer = WordNetLemmatizer()\n"
   ]
  },
  {
   "cell_type": "code",
   "execution_count": 278,
   "id": "fdf50a1b",
   "metadata": {},
   "outputs": [
    {
     "name": "stderr",
     "output_type": "stream",
     "text": [
      "[nltk_data] Downloading package stopwords to C:\\Users\\Ashutosh\n",
      "[nltk_data]     raj\\AppData\\Roaming\\nltk_data...\n",
      "[nltk_data]   Package stopwords is already up-to-date!\n"
     ]
    }
   ],
   "source": [
    "from nltk.corpus import stopwords\n",
    "nltk.download(\"stopwords\")\n",
    "stop=stopwords.words('english')\n",
    "\n",
    "\n",
    "    \n",
    "    \n",
    "   \n",
    "    "
   ]
  },
  {
   "cell_type": "code",
   "execution_count": 279,
   "id": "fc766d84",
   "metadata": {},
   "outputs": [],
   "source": [
    "def stemming(review_text):\n",
    "    letters_only = re.sub('[^a-zA-Z]', ' ', review_text)\n",
    "    # 3. lower letters\n",
    "    words = letters_only.lower().split()\n",
    "    # 5. Stopwords\n",
    "    meaningful_words = [w for w in words if not w in stop]\n",
    "    # 6. lemmitization\n",
    "    lemmitize_words = [lemmatizer.lemmatize(w) for w in meaningful_words]\n",
    "    # 7. space join words\n",
    "    return( ' '.join(lemmitize_words))\n",
    "\n",
    "for i in range(len(data_review)):\n",
    "    data_review[i]= stemming(data_review[i])"
   ]
  },
  {
   "cell_type": "code",
   "execution_count": 280,
   "id": "89c866c6",
   "metadata": {},
   "outputs": [
    {
     "data": {
      "text/plain": [
       "'closing bell sensex decline around point nifty settle mc inside edge swan energy bull await rnel relisting finserv stock turn retail pet pm get inspired operator trick tail wagging dog option trading post ola electric ola cab meet investment bank weighs ipo require nitish kumar mahagathbandhan fight social justice bihar rahul gandhi invest stay equity gold run record rally market minute live private bank take nifty greater height hindalco union bank swan energy focus slow unwinding covid excess wipro infosys teacher recruitment case calcutta high declares panel appointment null void bajaj auto product fix help sustain rich valuation best mutual fund actively managed scheme outperformed benchmark mc run india see trn capital flow next year get policy politics right arvind chari q india uk'"
      ]
     },
     "execution_count": 280,
     "metadata": {},
     "output_type": "execute_result"
    }
   ],
   "source": [
    "data_review[4]"
   ]
  },
  {
   "cell_type": "code",
   "execution_count": 281,
   "id": "10e5198e",
   "metadata": {},
   "outputs": [],
   "source": [
    "data['data_review']=data_review"
   ]
  },
  {
   "cell_type": "code",
   "execution_count": 282,
   "id": "175fde05",
   "metadata": {
    "scrolled": true
   },
   "outputs": [
    {
     "data": {
      "text/html": [
       "<div>\n",
       "<style scoped>\n",
       "    .dataframe tbody tr th:only-of-type {\n",
       "        vertical-align: middle;\n",
       "    }\n",
       "\n",
       "    .dataframe tbody tr th {\n",
       "        vertical-align: top;\n",
       "    }\n",
       "\n",
       "    .dataframe thead th {\n",
       "        text-align: right;\n",
       "    }\n",
       "</style>\n",
       "<table border=\"1\" class=\"dataframe\">\n",
       "  <thead>\n",
       "    <tr style=\"text-align: right;\">\n",
       "      <th></th>\n",
       "      <th>nifty-up-or-down</th>\n",
       "      <th>nifty-news</th>\n",
       "      <th>economy</th>\n",
       "      <th>ipo</th>\n",
       "      <th>election2024</th>\n",
       "      <th>market-min</th>\n",
       "      <th>morning-trade</th>\n",
       "      <th>trends</th>\n",
       "      <th>indian-political</th>\n",
       "      <th>business</th>\n",
       "      <th>personal-finance</th>\n",
       "      <th>mutual-fund</th>\n",
       "      <th>data_review</th>\n",
       "    </tr>\n",
       "  </thead>\n",
       "  <tbody>\n",
       "    <tr>\n",
       "      <th>0</th>\n",
       "      <td>1</td>\n",
       "      <td>Why Nifty Next 50 is emerging as the hottest s...</td>\n",
       "      <td>India needs rate cuts to reach potential growt...</td>\n",
       "      <td>Vodafone Idea FPO booked 70%, NII portion full...</td>\n",
       "      <td>Liquidity deficit in banking system to narrow ...</td>\n",
       "      <td>Q4 results, Iran-Israel war developments, FII ...</td>\n",
       "      <td>Live: Will Nifty reclaim 22,200 or test 22,000...</td>\n",
       "      <td>IDFC FIRST Bank's BRAVO – The Ideal Financial ...</td>\n",
       "      <td>Heatwave condition to stay on for next 5 days ...</td>\n",
       "      <td>Zydus Life gains over 3% on launch of bladder ...</td>\n",
       "      <td>Invest Wise | Do gold, silver deserve a place ...</td>\n",
       "      <td>The schemes that moved out of MC30 2024 and why</td>\n",
       "      <td>nifty next emerging hottest stock index india ...</td>\n",
       "    </tr>\n",
       "    <tr>\n",
       "      <th>1</th>\n",
       "      <td>0</td>\n",
       "      <td>Sensex settles above 75,000-mark for first tim...</td>\n",
       "      <td>Chart of the Day | How do commodity markets ad...</td>\n",
       "      <td>Greenhitech Ventures off to a flyer, lists at ...</td>\n",
       "      <td>Household Consumption Survey: A worrying conce...</td>\n",
       "      <td>Nifty, Sensex may fall on reports of blasts in...</td>\n",
       "      <td>Live: Indian market poised to clock new highs ...</td>\n",
       "      <td>Anand Mahindra reacts to Gukesh D's win in Can...</td>\n",
       "      <td>Will Bajaj Auto’s product fix help sustain ric...</td>\n",
       "      <td>Maharashtra Lok Sabha elections 2024: Key cons...</td>\n",
       "      <td>Acko’s Individual Health Insurance policy: Cla...</td>\n",
       "      <td>Top mutual funds: 3 new schemes that enter Mon...</td>\n",
       "      <td>sensex settle mark first time nifty close reco...</td>\n",
       "    </tr>\n",
       "    <tr>\n",
       "      <th>2</th>\n",
       "      <td>1</td>\n",
       "      <td>Opening bell: Sensex, Nifty plunges ahead of R...</td>\n",
       "      <td>Escorts Kubota to hike tractor prices from May...</td>\n",
       "      <td>IPO Market Action: 4 public issues to open for...</td>\n",
       "      <td>World Street | Britain, Japan in recession, Ci...</td>\n",
       "      <td>Will cautious Fed commentary, Israel-Iran tens...</td>\n",
       "      <td>Live: Nifty poised to extend record run; Shoul...</td>\n",
       "      <td>Earth Day 2024: Google celebrates with doodle ...</td>\n",
       "      <td>India needs rate cuts to reach potential growt...</td>\n",
       "      <td>Vodafone Idea FPO booked 70%, NII portion full...</td>\n",
       "      <td>The schemes that moved out of MC30 2024 and why</td>\n",
       "      <td>Best mutual funds: 86% of actively-managed sch...</td>\n",
       "      <td>opening bell sensex nifty plunge ahead rbi rep...</td>\n",
       "    </tr>\n",
       "    <tr>\n",
       "      <th>3</th>\n",
       "      <td>1</td>\n",
       "      <td>Stock market today: Sensex surges 350 point to...</td>\n",
       "      <td>How WTO is failing the developing countries</td>\n",
       "      <td>Premier Energies files draft papers for IPO wi...</td>\n",
       "      <td>RS polls: Bachchan and Ranjan are not among PD...</td>\n",
       "      <td>Markets to see increased volatility on Israel-...</td>\n",
       "      <td>Live: Nifty braces for another see-saw session...</td>\n",
       "      <td>Who is Gukesh D, youngest winner of Candidates...</td>\n",
       "      <td>SC permits minor rape survivor to undergo medi...</td>\n",
       "      <td>Kotak Mahindra Bank ups digital game; plans to...</td>\n",
       "      <td>Top mutual funds: 3 new schemes that enter Mon...</td>\n",
       "      <td>These 15 high-PE stocks make your midcap funds...</td>\n",
       "      <td>stock market today sensex surge point settle t...</td>\n",
       "    </tr>\n",
       "    <tr>\n",
       "      <th>4</th>\n",
       "      <td>1</td>\n",
       "      <td>Closing bell: Sensex decline around 100 points...</td>\n",
       "      <td>MC Inside Edge: Swan Energy bulls await RNEL r...</td>\n",
       "      <td>Post Ola Electric, now Ola Cabs meets investme...</td>\n",
       "      <td>Don't require Nitish Kumar; Mahagathbandhan wi...</td>\n",
       "      <td>To invest or stay out as equities, gold run re...</td>\n",
       "      <td>Live: Will private banks take Nifty to greater...</td>\n",
       "      <td>A slow unwinding of COVID excesses at Wipro, I...</td>\n",
       "      <td>Teacher recruitment case: Calcutta High declar...</td>\n",
       "      <td>Will Bajaj Auto’s product fix help sustain ric...</td>\n",
       "      <td>Best mutual funds: 86% of actively-managed sch...</td>\n",
       "      <td>India should see $3 trn capital flows in the n...</td>\n",
       "      <td>closing bell sensex decline around point nifty...</td>\n",
       "    </tr>\n",
       "    <tr>\n",
       "      <th>...</th>\n",
       "      <td>...</td>\n",
       "      <td>...</td>\n",
       "      <td>...</td>\n",
       "      <td>...</td>\n",
       "      <td>...</td>\n",
       "      <td>...</td>\n",
       "      <td>...</td>\n",
       "      <td>...</td>\n",
       "      <td>...</td>\n",
       "      <td>...</td>\n",
       "      <td>...</td>\n",
       "      <td>...</td>\n",
       "      <td>...</td>\n",
       "    </tr>\n",
       "    <tr>\n",
       "      <th>95</th>\n",
       "      <td>1</td>\n",
       "      <td>Sensex, Nifty extend losses into 2nd day on ra...</td>\n",
       "      <td>Heatwave's Impact: Why India Cannot Be Complac...</td>\n",
       "      <td>Business in the Week Ahead (March 25-29, 2024)</td>\n",
       "      <td>EC orders suspension of Telangana DGP hours af...</td>\n",
       "      <td>Will Powell's hawkish remarks hurt Street's fe...</td>\n",
       "      <td>Live: Nifty’s record run continues; GMM Pfaudl...</td>\n",
       "      <td>Why are two courts hearing cases on Arvind Kej...</td>\n",
       "      <td>Lok Sabha Polls Phase 1: 62.3% turnout recorde...</td>\n",
       "      <td>Stock Market LIVE Updates: Nifty at 22,300, Se...</td>\n",
       "      <td>PGIM India Mutual Fund launches retirement fun...</td>\n",
       "      <td>Microcap multibagger pharma stocks that MFs ad...</td>\n",
       "      <td>sensex nifty extend loss nd day rate hike fear...</td>\n",
       "    </tr>\n",
       "    <tr>\n",
       "      <th>96</th>\n",
       "      <td>0</td>\n",
       "      <td>Mid and small cap stocks risk abrupt correctio...</td>\n",
       "      <td>Taiwanese groups consider overseas headquarter...</td>\n",
       "      <td>Executive startup founders holding more than 1...</td>\n",
       "      <td>Rajasthan Election Results 2023: Five key fact...</td>\n",
       "      <td>Are markets in a phase of consolidation ahead ...</td>\n",
       "      <td>Live: Nifty ends above 20k for first time; The...</td>\n",
       "      <td>IAS officer shares her UPSC marksheet handwrit...</td>\n",
       "      <td>Lok Sabha Polls 2024 Phase 1: 60% voting in 10...</td>\n",
       "      <td>Their funds make you money; now, their stock i...</td>\n",
       "      <td>HDFC Bank raises new home loan rates even as r...</td>\n",
       "      <td>Will SEBI advisory impact investing strategy o...</td>\n",
       "      <td>mid small cap stock risk abrupt correction war...</td>\n",
       "    </tr>\n",
       "    <tr>\n",
       "      <th>97</th>\n",
       "      <td>0</td>\n",
       "      <td>Energy, financials drag down Indian shares in ...</td>\n",
       "      <td>US junks 200 years of economics to block China...</td>\n",
       "      <td>Vijay Kedia-backed Tac Security to be India's ...</td>\n",
       "      <td>Rajasthan assembly poll results unexpected, we...</td>\n",
       "      <td>Can easing bond yields, oil prices impress Dal...</td>\n",
       "      <td>Live: Nifty set for choppy ride at record; Mak...</td>\n",
       "      <td>In Knife: Meditations After An Attempted Murde...</td>\n",
       "      <td>Lok Sabha Elections: BJP's 'Vote for the G.O.A...</td>\n",
       "      <td>Stock Market Today: Top 10 things to know befo...</td>\n",
       "      <td>Four financial planning mistakes you should av...</td>\n",
       "      <td>How soon can you sell your small and midcap st...</td>\n",
       "      <td>energy financials drag indian share final sess...</td>\n",
       "    </tr>\n",
       "    <tr>\n",
       "      <th>98</th>\n",
       "      <td>1</td>\n",
       "      <td>Markets fall in early trade after five-day rally</td>\n",
       "      <td>As Atos sinks deeper, it is advantage Indian I...</td>\n",
       "      <td>No, Reddit is not a meme stock</td>\n",
       "      <td>Assembly Election Results 2023: PM hails ‘Jant...</td>\n",
       "      <td>Q2 results, oil prices, and FII flows on radar...</td>\n",
       "      <td>Live: Nifty tops 19,700 as bulls charge ahead;...</td>\n",
       "      <td>Ex-Google, Amazon recruiters advise job seeker...</td>\n",
       "      <td>Digi Yatra users' data safe; info stored only ...</td>\n",
       "      <td>The schemes that moved out of MC30 2024 and why</td>\n",
       "      <td>The Money Calendar 2024-25: Keep up with inves...</td>\n",
       "      <td>AMCs likely to disclose risk parameters of mid...</td>\n",
       "      <td>market fall early trade five day rally atos si...</td>\n",
       "    </tr>\n",
       "    <tr>\n",
       "      <th>99</th>\n",
       "      <td>0</td>\n",
       "      <td>A $46 billion rally shows India tech woes easing</td>\n",
       "      <td>Congress manifesto offers alternative ideology...</td>\n",
       "      <td>Enser Communications lists at 2.9% premium to ...</td>\n",
       "      <td>Rajasthan polls: Sachin Pilot wins from Tonk w...</td>\n",
       "      <td>Cello World listing, FPI sell off, Vedanta $1....</td>\n",
       "      <td>Live: Nifty Above 19600; What Next? TCS, Paytm...</td>\n",
       "      <td>'Incorrect analogy': Jet Airways ex-CEO design...</td>\n",
       "      <td>Indian airlines cancel, reschedule Dubai fligh...</td>\n",
       "      <td>Top mutual funds: 3 new schemes that enter Mon...</td>\n",
       "      <td>Over 73% active mid/small-cap funds fail to be...</td>\n",
       "      <td>International MF schemes: Why some funds are s...</td>\n",
       "      <td>billion rally show india tech woe easing congr...</td>\n",
       "    </tr>\n",
       "  </tbody>\n",
       "</table>\n",
       "<p>100 rows × 13 columns</p>\n",
       "</div>"
      ],
      "text/plain": [
       "    nifty-up-or-down                                         nifty-news  \\\n",
       "0                  1  Why Nifty Next 50 is emerging as the hottest s...   \n",
       "1                  0  Sensex settles above 75,000-mark for first tim...   \n",
       "2                  1  Opening bell: Sensex, Nifty plunges ahead of R...   \n",
       "3                  1  Stock market today: Sensex surges 350 point to...   \n",
       "4                  1  Closing bell: Sensex decline around 100 points...   \n",
       "..               ...                                                ...   \n",
       "95                 1  Sensex, Nifty extend losses into 2nd day on ra...   \n",
       "96                 0  Mid and small cap stocks risk abrupt correctio...   \n",
       "97                 0  Energy, financials drag down Indian shares in ...   \n",
       "98                 1   Markets fall in early trade after five-day rally   \n",
       "99                 0   A $46 billion rally shows India tech woes easing   \n",
       "\n",
       "                                              economy  \\\n",
       "0   India needs rate cuts to reach potential growt...   \n",
       "1   Chart of the Day | How do commodity markets ad...   \n",
       "2   Escorts Kubota to hike tractor prices from May...   \n",
       "3         How WTO is failing the developing countries   \n",
       "4   MC Inside Edge: Swan Energy bulls await RNEL r...   \n",
       "..                                                ...   \n",
       "95  Heatwave's Impact: Why India Cannot Be Complac...   \n",
       "96  Taiwanese groups consider overseas headquarter...   \n",
       "97  US junks 200 years of economics to block China...   \n",
       "98  As Atos sinks deeper, it is advantage Indian I...   \n",
       "99  Congress manifesto offers alternative ideology...   \n",
       "\n",
       "                                                  ipo  \\\n",
       "0   Vodafone Idea FPO booked 70%, NII portion full...   \n",
       "1   Greenhitech Ventures off to a flyer, lists at ...   \n",
       "2   IPO Market Action: 4 public issues to open for...   \n",
       "3   Premier Energies files draft papers for IPO wi...   \n",
       "4   Post Ola Electric, now Ola Cabs meets investme...   \n",
       "..                                                ...   \n",
       "95     Business in the Week Ahead (March 25-29, 2024)   \n",
       "96  Executive startup founders holding more than 1...   \n",
       "97  Vijay Kedia-backed Tac Security to be India's ...   \n",
       "98                    No, Reddit is not a meme stock    \n",
       "99  Enser Communications lists at 2.9% premium to ...   \n",
       "\n",
       "                                         election2024  \\\n",
       "0   Liquidity deficit in banking system to narrow ...   \n",
       "1   Household Consumption Survey: A worrying conce...   \n",
       "2   World Street | Britain, Japan in recession, Ci...   \n",
       "3   RS polls: Bachchan and Ranjan are not among PD...   \n",
       "4   Don't require Nitish Kumar; Mahagathbandhan wi...   \n",
       "..                                                ...   \n",
       "95  EC orders suspension of Telangana DGP hours af...   \n",
       "96  Rajasthan Election Results 2023: Five key fact...   \n",
       "97  Rajasthan assembly poll results unexpected, we...   \n",
       "98  Assembly Election Results 2023: PM hails ‘Jant...   \n",
       "99  Rajasthan polls: Sachin Pilot wins from Tonk w...   \n",
       "\n",
       "                                           market-min  \\\n",
       "0   Q4 results, Iran-Israel war developments, FII ...   \n",
       "1   Nifty, Sensex may fall on reports of blasts in...   \n",
       "2   Will cautious Fed commentary, Israel-Iran tens...   \n",
       "3   Markets to see increased volatility on Israel-...   \n",
       "4   To invest or stay out as equities, gold run re...   \n",
       "..                                                ...   \n",
       "95  Will Powell's hawkish remarks hurt Street's fe...   \n",
       "96  Are markets in a phase of consolidation ahead ...   \n",
       "97  Can easing bond yields, oil prices impress Dal...   \n",
       "98  Q2 results, oil prices, and FII flows on radar...   \n",
       "99  Cello World listing, FPI sell off, Vedanta $1....   \n",
       "\n",
       "                                        morning-trade  \\\n",
       "0   Live: Will Nifty reclaim 22,200 or test 22,000...   \n",
       "1   Live: Indian market poised to clock new highs ...   \n",
       "2   Live: Nifty poised to extend record run; Shoul...   \n",
       "3   Live: Nifty braces for another see-saw session...   \n",
       "4   Live: Will private banks take Nifty to greater...   \n",
       "..                                                ...   \n",
       "95  Live: Nifty’s record run continues; GMM Pfaudl...   \n",
       "96  Live: Nifty ends above 20k for first time; The...   \n",
       "97  Live: Nifty set for choppy ride at record; Mak...   \n",
       "98  Live: Nifty tops 19,700 as bulls charge ahead;...   \n",
       "99  Live: Nifty Above 19600; What Next? TCS, Paytm...   \n",
       "\n",
       "                                               trends  \\\n",
       "0   IDFC FIRST Bank's BRAVO – The Ideal Financial ...   \n",
       "1   Anand Mahindra reacts to Gukesh D's win in Can...   \n",
       "2   Earth Day 2024: Google celebrates with doodle ...   \n",
       "3   Who is Gukesh D, youngest winner of Candidates...   \n",
       "4   A slow unwinding of COVID excesses at Wipro, I...   \n",
       "..                                                ...   \n",
       "95  Why are two courts hearing cases on Arvind Kej...   \n",
       "96  IAS officer shares her UPSC marksheet handwrit...   \n",
       "97  In Knife: Meditations After An Attempted Murde...   \n",
       "98  Ex-Google, Amazon recruiters advise job seeker...   \n",
       "99  'Incorrect analogy': Jet Airways ex-CEO design...   \n",
       "\n",
       "                                     indian-political  \\\n",
       "0   Heatwave condition to stay on for next 5 days ...   \n",
       "1   Will Bajaj Auto’s product fix help sustain ric...   \n",
       "2   India needs rate cuts to reach potential growt...   \n",
       "3   SC permits minor rape survivor to undergo medi...   \n",
       "4   Teacher recruitment case: Calcutta High declar...   \n",
       "..                                                ...   \n",
       "95  Lok Sabha Polls Phase 1: 62.3% turnout recorde...   \n",
       "96  Lok Sabha Polls 2024 Phase 1: 60% voting in 10...   \n",
       "97  Lok Sabha Elections: BJP's 'Vote for the G.O.A...   \n",
       "98  Digi Yatra users' data safe; info stored only ...   \n",
       "99  Indian airlines cancel, reschedule Dubai fligh...   \n",
       "\n",
       "                                             business  \\\n",
       "0   Zydus Life gains over 3% on launch of bladder ...   \n",
       "1   Maharashtra Lok Sabha elections 2024: Key cons...   \n",
       "2   Vodafone Idea FPO booked 70%, NII portion full...   \n",
       "3   Kotak Mahindra Bank ups digital game; plans to...   \n",
       "4   Will Bajaj Auto’s product fix help sustain ric...   \n",
       "..                                                ...   \n",
       "95  Stock Market LIVE Updates: Nifty at 22,300, Se...   \n",
       "96  Their funds make you money; now, their stock i...   \n",
       "97  Stock Market Today: Top 10 things to know befo...   \n",
       "98    The schemes that moved out of MC30 2024 and why   \n",
       "99  Top mutual funds: 3 new schemes that enter Mon...   \n",
       "\n",
       "                                     personal-finance  \\\n",
       "0   Invest Wise | Do gold, silver deserve a place ...   \n",
       "1   Acko’s Individual Health Insurance policy: Cla...   \n",
       "2     The schemes that moved out of MC30 2024 and why   \n",
       "3   Top mutual funds: 3 new schemes that enter Mon...   \n",
       "4   Best mutual funds: 86% of actively-managed sch...   \n",
       "..                                                ...   \n",
       "95  PGIM India Mutual Fund launches retirement fun...   \n",
       "96  HDFC Bank raises new home loan rates even as r...   \n",
       "97  Four financial planning mistakes you should av...   \n",
       "98  The Money Calendar 2024-25: Keep up with inves...   \n",
       "99  Over 73% active mid/small-cap funds fail to be...   \n",
       "\n",
       "                                          mutual-fund  \\\n",
       "0     The schemes that moved out of MC30 2024 and why   \n",
       "1   Top mutual funds: 3 new schemes that enter Mon...   \n",
       "2   Best mutual funds: 86% of actively-managed sch...   \n",
       "3   These 15 high-PE stocks make your midcap funds...   \n",
       "4   India should see $3 trn capital flows in the n...   \n",
       "..                                                ...   \n",
       "95  Microcap multibagger pharma stocks that MFs ad...   \n",
       "96  Will SEBI advisory impact investing strategy o...   \n",
       "97  How soon can you sell your small and midcap st...   \n",
       "98  AMCs likely to disclose risk parameters of mid...   \n",
       "99  International MF schemes: Why some funds are s...   \n",
       "\n",
       "                                          data_review  \n",
       "0   nifty next emerging hottest stock index india ...  \n",
       "1   sensex settle mark first time nifty close reco...  \n",
       "2   opening bell sensex nifty plunge ahead rbi rep...  \n",
       "3   stock market today sensex surge point settle t...  \n",
       "4   closing bell sensex decline around point nifty...  \n",
       "..                                                ...  \n",
       "95  sensex nifty extend loss nd day rate hike fear...  \n",
       "96  mid small cap stock risk abrupt correction war...  \n",
       "97  energy financials drag indian share final sess...  \n",
       "98  market fall early trade five day rally atos si...  \n",
       "99  billion rally show india tech woe easing congr...  \n",
       "\n",
       "[100 rows x 13 columns]"
      ]
     },
     "execution_count": 282,
     "metadata": {},
     "output_type": "execute_result"
    }
   ],
   "source": [
    "data"
   ]
  },
  {
   "cell_type": "code",
   "execution_count": 346,
   "id": "f8b229ec",
   "metadata": {},
   "outputs": [],
   "source": [
    "x=data['data_review']\n",
    "y=data['nifty-up-or-down']\n"
   ]
  },
  {
   "cell_type": "raw",
   "id": "80a502de",
   "metadata": {},
   "source": [
    "#train-test-split -> feature extraction \n"
   ]
  },
  {
   "cell_type": "code",
   "execution_count": 342,
   "id": "26eee771",
   "metadata": {},
   "outputs": [],
   "source": [
    "from sklearn.model_selection import train_test_split\n",
    "x_train,x_test,y_train,y_test=train_test_split(x,y,test_size=0.2,stratify=y,random_state=2)"
   ]
  },
  {
   "cell_type": "code",
   "execution_count": 353,
   "id": "d4c8e7c5",
   "metadata": {},
   "outputs": [],
   "source": [
    "from sklearn.feature_extraction.text import  CountVectorizer, TfidfVectorizer\n",
    "from sklearn.linear_model import PassiveAggressiveClassifier\n",
    "from sklearn.naive_bayes import MultinomialNB\n",
    "from sklearn import metrics\n",
    "import matplotlib.pyplot as plt\n"
   ]
  },
  {
   "cell_type": "markdown",
   "id": "947ac9b2",
   "metadata": {},
   "source": [
    "bags of word"
   ]
  },
  {
   "cell_type": "code",
   "execution_count": 385,
   "id": "d9fbe34a",
   "metadata": {},
   "outputs": [],
   "source": [
    "\n",
    "\n",
    "tfidf_vectorizer = TfidfVectorizer(stop_words='english', max_df=0.8)\n",
    "x_train_tfidf = tfidf_vectorizer.fit_transform(x_train)\n",
    "x_test_tfidf = tfidf_vectorizer.transform(x_test)\n",
    "\n",
    "\n",
    "count_vectorizer = CountVectorizer(stop_words='english')\n",
    "\n",
    "x_train_count = count_vectorizer.fit_transform(x_train)\n",
    "\n",
    "x_test_count = count_vectorizer.transform(x_test)\n",
    "\n",
    "\n",
    "\n",
    "\n",
    "\n"
   ]
  },
  {
   "cell_type": "code",
   "execution_count": 358,
   "id": "162ccb24",
   "metadata": {},
   "outputs": [
    {
     "data": {
      "text/plain": [
       "<20x2679 sparse matrix of type '<class 'numpy.int64'>'\n",
       "\twith 1451 stored elements in Compressed Sparse Row format>"
      ]
     },
     "execution_count": 358,
     "metadata": {},
     "output_type": "execute_result"
    }
   ],
   "source": [
    "x_test_count"
   ]
  },
  {
   "cell_type": "code",
   "execution_count": 359,
   "id": "a287d22f",
   "metadata": {},
   "outputs": [
    {
     "data": {
      "text/plain": [
       "<20x2674 sparse matrix of type '<class 'numpy.float64'>'\n",
       "\twith 1357 stored elements in Compressed Sparse Row format>"
      ]
     },
     "execution_count": 359,
     "metadata": {},
     "output_type": "execute_result"
    }
   ],
   "source": [
    "x_test_tfidf"
   ]
  },
  {
   "cell_type": "markdown",
   "id": "e6751c26",
   "metadata": {},
   "source": [
    "# 1.apply various training models"
   ]
  },
  {
   "cell_type": "markdown",
   "id": "ab125b02",
   "metadata": {},
   "source": [
    "# 1.1 logistic regression model -using (count-vectorizer)"
   ]
  },
  {
   "cell_type": "code",
   "execution_count": 386,
   "id": "481e97f5",
   "metadata": {},
   "outputs": [
    {
     "data": {
      "text/html": [
       "<style>#sk-container-id-17 {color: black;}#sk-container-id-17 pre{padding: 0;}#sk-container-id-17 div.sk-toggleable {background-color: white;}#sk-container-id-17 label.sk-toggleable__label {cursor: pointer;display: block;width: 100%;margin-bottom: 0;padding: 0.3em;box-sizing: border-box;text-align: center;}#sk-container-id-17 label.sk-toggleable__label-arrow:before {content: \"▸\";float: left;margin-right: 0.25em;color: #696969;}#sk-container-id-17 label.sk-toggleable__label-arrow:hover:before {color: black;}#sk-container-id-17 div.sk-estimator:hover label.sk-toggleable__label-arrow:before {color: black;}#sk-container-id-17 div.sk-toggleable__content {max-height: 0;max-width: 0;overflow: hidden;text-align: left;background-color: #f0f8ff;}#sk-container-id-17 div.sk-toggleable__content pre {margin: 0.2em;color: black;border-radius: 0.25em;background-color: #f0f8ff;}#sk-container-id-17 input.sk-toggleable__control:checked~div.sk-toggleable__content {max-height: 200px;max-width: 100%;overflow: auto;}#sk-container-id-17 input.sk-toggleable__control:checked~label.sk-toggleable__label-arrow:before {content: \"▾\";}#sk-container-id-17 div.sk-estimator input.sk-toggleable__control:checked~label.sk-toggleable__label {background-color: #d4ebff;}#sk-container-id-17 div.sk-label input.sk-toggleable__control:checked~label.sk-toggleable__label {background-color: #d4ebff;}#sk-container-id-17 input.sk-hidden--visually {border: 0;clip: rect(1px 1px 1px 1px);clip: rect(1px, 1px, 1px, 1px);height: 1px;margin: -1px;overflow: hidden;padding: 0;position: absolute;width: 1px;}#sk-container-id-17 div.sk-estimator {font-family: monospace;background-color: #f0f8ff;border: 1px dotted black;border-radius: 0.25em;box-sizing: border-box;margin-bottom: 0.5em;}#sk-container-id-17 div.sk-estimator:hover {background-color: #d4ebff;}#sk-container-id-17 div.sk-parallel-item::after {content: \"\";width: 100%;border-bottom: 1px solid gray;flex-grow: 1;}#sk-container-id-17 div.sk-label:hover label.sk-toggleable__label {background-color: #d4ebff;}#sk-container-id-17 div.sk-serial::before {content: \"\";position: absolute;border-left: 1px solid gray;box-sizing: border-box;top: 0;bottom: 0;left: 50%;z-index: 0;}#sk-container-id-17 div.sk-serial {display: flex;flex-direction: column;align-items: center;background-color: white;padding-right: 0.2em;padding-left: 0.2em;position: relative;}#sk-container-id-17 div.sk-item {position: relative;z-index: 1;}#sk-container-id-17 div.sk-parallel {display: flex;align-items: stretch;justify-content: center;background-color: white;position: relative;}#sk-container-id-17 div.sk-item::before, #sk-container-id-17 div.sk-parallel-item::before {content: \"\";position: absolute;border-left: 1px solid gray;box-sizing: border-box;top: 0;bottom: 0;left: 50%;z-index: -1;}#sk-container-id-17 div.sk-parallel-item {display: flex;flex-direction: column;z-index: 1;position: relative;background-color: white;}#sk-container-id-17 div.sk-parallel-item:first-child::after {align-self: flex-end;width: 50%;}#sk-container-id-17 div.sk-parallel-item:last-child::after {align-self: flex-start;width: 50%;}#sk-container-id-17 div.sk-parallel-item:only-child::after {width: 0;}#sk-container-id-17 div.sk-dashed-wrapped {border: 1px dashed gray;margin: 0 0.4em 0.5em 0.4em;box-sizing: border-box;padding-bottom: 0.4em;background-color: white;}#sk-container-id-17 div.sk-label label {font-family: monospace;font-weight: bold;display: inline-block;line-height: 1.2em;}#sk-container-id-17 div.sk-label-container {text-align: center;}#sk-container-id-17 div.sk-container {/* jupyter's `normalize.less` sets `[hidden] { display: none; }` but bootstrap.min.css set `[hidden] { display: none !important; }` so we also need the `!important` here to be able to override the default hidden behavior on the sphinx rendered scikit-learn.org. See: https://github.com/scikit-learn/scikit-learn/issues/21755 */display: inline-block !important;position: relative;}#sk-container-id-17 div.sk-text-repr-fallback {display: none;}</style><div id=\"sk-container-id-17\" class=\"sk-top-container\"><div class=\"sk-text-repr-fallback\"><pre>LogisticRegression(max_iter=1000)</pre><b>In a Jupyter environment, please rerun this cell to show the HTML representation or trust the notebook. <br />On GitHub, the HTML representation is unable to render, please try loading this page with nbviewer.org.</b></div><div class=\"sk-container\" hidden><div class=\"sk-item\"><div class=\"sk-estimator sk-toggleable\"><input class=\"sk-toggleable__control sk-hidden--visually\" id=\"sk-estimator-id-17\" type=\"checkbox\" checked><label for=\"sk-estimator-id-17\" class=\"sk-toggleable__label sk-toggleable__label-arrow\">LogisticRegression</label><div class=\"sk-toggleable__content\"><pre>LogisticRegression(max_iter=1000)</pre></div></div></div></div></div>"
      ],
      "text/plain": [
       "LogisticRegression(max_iter=1000)"
      ]
     },
     "execution_count": 386,
     "metadata": {},
     "output_type": "execute_result"
    }
   ],
   "source": [
    "from sklearn.linear_model import LogisticRegression\n",
    "from sklearn.metrics import accuracy_score\n",
    "\n",
    "model=LogisticRegression(max_iter=1000)\n",
    "model.fit(x_train_count,y_train)\n",
    "\n"
   ]
  },
  {
   "cell_type": "code",
   "execution_count": 363,
   "id": "2b7b5249",
   "metadata": {},
   "outputs": [
    {
     "name": "stdout",
     "output_type": "stream",
     "text": [
      "training_data_accuracy :1.000 \n"
     ]
    }
   ],
   "source": [
    "x_train_prediction=model.predict(x_train_count)\n",
    "training_data_accuracy=accuracy_score(y_train,x_train_prediction)\n",
    "print(\"training_data_accuracy :%0.3f \"% training_data_accuracy)"
   ]
  },
  {
   "cell_type": "markdown",
   "id": "0e817fd5",
   "metadata": {},
   "source": [
    "test_accuracy_score -pridiction"
   ]
  },
  {
   "cell_type": "code",
   "execution_count": 380,
   "id": "9ff6195b",
   "metadata": {},
   "outputs": [
    {
     "name": "stdout",
     "output_type": "stream",
     "text": [
      "test_data_accuracy :0.500 \n"
     ]
    }
   ],
   "source": [
    "x_test_prediction=model.predict(x_test_count)\n",
    "test_data_accuracy=accuracy_score(y_test,x_test_prediction)\n",
    "print(\"test_data_accuracy :%0.3f \"% test_data_accuracy)"
   ]
  },
  {
   "cell_type": "raw",
   "id": "2aaecbee",
   "metadata": {},
   "source": [
    "model_accuracy=50%"
   ]
  },
  {
   "cell_type": "markdown",
   "id": "362d31a0",
   "metadata": {},
   "source": [
    "# 1.2 logistic regression model - using tfidf-vectorizer"
   ]
  },
  {
   "cell_type": "code",
   "execution_count": 365,
   "id": "683673f0",
   "metadata": {},
   "outputs": [
    {
     "name": "stdout",
     "output_type": "stream",
     "text": [
      "training_data_accuracy2 :1.000 \n"
     ]
    }
   ],
   "source": [
    "model2=LogisticRegression(max_iter=1000)\n",
    "model2.fit(x_train_tfidf,y_train)\n",
    "\n",
    "x_train_prediction2=model2.predict(x_train_tfidf)\n",
    "training_data_accuracy2=accuracy_score(y_train,x_train_prediction2)\n",
    "\n",
    "print(\"training_data_accuracy2 :%0.3f \"% training_data_accuracy2)\n",
    "\n"
   ]
  },
  {
   "cell_type": "code",
   "execution_count": 366,
   "id": "182ff506",
   "metadata": {},
   "outputs": [
    {
     "name": "stdout",
     "output_type": "stream",
     "text": [
      "test_data_accuracy2 :0.500 \n"
     ]
    }
   ],
   "source": [
    "x_test_prediction2=model2.predict(x_test_tfidf)\n",
    "test_data_accuracy2=accuracy_score(y_test,x_test_prediction2)\n",
    "print(\"test_data_accuracy2 :%0.3f \"% test_data_accuracy2)"
   ]
  },
  {
   "cell_type": "code",
   "execution_count": null,
   "id": "1c43745c",
   "metadata": {},
   "outputs": [],
   "source": []
  },
  {
   "cell_type": "markdown",
   "id": "0df794d4",
   "metadata": {},
   "source": [
    "# 2.1 Naive bayes model using (countvectorizer)"
   ]
  },
  {
   "cell_type": "code",
   "execution_count": 376,
   "id": "dea0e605",
   "metadata": {},
   "outputs": [
    {
     "name": "stdout",
     "output_type": "stream",
     "text": [
      "training_data_accuracy_naive : 1.000\n"
     ]
    }
   ],
   "source": [
    "model_naive=MultinomialNB()\n",
    "model_naive.fit(x_train_count , y_train)\n",
    "\n",
    "x_train_prediction_naive=model_naive.predict(x_train_count)\n",
    "training_data_accuracy=accuracy_score(y_train,x_train_prediction_naive)\n",
    "\n",
    "print(\"training_data_accuracy_naive : %0.3f\" %training_data_accuracy)\n"
   ]
  },
  {
   "cell_type": "code",
   "execution_count": 381,
   "id": "042350e2",
   "metadata": {},
   "outputs": [
    {
     "name": "stdout",
     "output_type": "stream",
     "text": [
      "testing_data_accuracy : 0.550\n"
     ]
    }
   ],
   "source": [
    "x_test_prediction_naive=model_naive.predict(x_test_count)\n",
    "testing_data_accuracy=accuracy_score(y_test,x_test_prediction_naive)\n",
    "\n",
    "print(\"testing_data_accuracy : %0.3f\" %testing_data_accuracy)"
   ]
  },
  {
   "cell_type": "markdown",
   "id": "08abee55",
   "metadata": {},
   "source": [
    "# 2.2 Naive bayes model using (tfidf_vectorizer)"
   ]
  },
  {
   "cell_type": "code",
   "execution_count": 383,
   "id": "c028c241",
   "metadata": {},
   "outputs": [
    {
     "name": "stdout",
     "output_type": "stream",
     "text": [
      "training_data_accuracy4 :1.000 \n"
     ]
    }
   ],
   "source": [
    "model_naive2=MultinomialNB()\n",
    "model_naive2.fit(x_train_tfidf,y_train)\n",
    "\n",
    "x_train_prediction3=model_naive2.predict(x_train_tfidf)\n",
    "training_data_accuracy4=accuracy_score(y_train,x_train_prediction3)\n",
    "\n",
    "\n",
    "print(\"training_data_accuracy4 :%0.3f \"% training_data_accuracy4)"
   ]
  },
  {
   "cell_type": "code",
   "execution_count": 384,
   "id": "de702592",
   "metadata": {},
   "outputs": [
    {
     "name": "stdout",
     "output_type": "stream",
     "text": [
      "test_data_accuracy4 :0.500 \n"
     ]
    }
   ],
   "source": [
    "x_test_prediction3=model_naive2.predict(x_test_tfidf)\n",
    "test_data_accuracy4=accuracy_score(y_test,x_test_prediction3)\n",
    "print(\"test_data_accuracy4 :%0.3f \"% test_data_accuracy4)"
   ]
  },
  {
   "cell_type": "code",
   "execution_count": null,
   "id": "064ae95c",
   "metadata": {},
   "outputs": [],
   "source": []
  }
 ],
 "metadata": {
  "kernelspec": {
   "display_name": "Python 3 (ipykernel)",
   "language": "python",
   "name": "python3"
  },
  "language_info": {
   "codemirror_mode": {
    "name": "ipython",
    "version": 3
   },
   "file_extension": ".py",
   "mimetype": "text/x-python",
   "name": "python",
   "nbconvert_exporter": "python",
   "pygments_lexer": "ipython3",
   "version": "3.11.5"
  }
 },
 "nbformat": 4,
 "nbformat_minor": 5
}
