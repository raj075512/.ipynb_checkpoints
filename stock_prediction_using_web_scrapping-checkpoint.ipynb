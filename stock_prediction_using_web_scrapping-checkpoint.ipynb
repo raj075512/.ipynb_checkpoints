{
 "cells": [
  {
   "cell_type": "markdown",
   "id": "eeb47dfc",
   "metadata": {},
   "source": [
    "# NIFTY-50 -STOCK PREDICTION \n"
   ]
  },
  {
   "cell_type": "markdown",
   "id": "3e94512a",
   "metadata": {},
   "source": [
    "web scrapping for getting the data "
   ]
  },
  {
   "cell_type": "code",
   "execution_count": 1,
   "id": "16adbc28",
   "metadata": {},
   "outputs": [],
   "source": [
    "import pandas as pd\n",
    "import requests "
   ]
  },
  {
   "cell_type": "code",
   "execution_count": 2,
   "id": "77ae13aa",
   "metadata": {},
   "outputs": [],
   "source": [
    "from bs4 import BeautifulSoup"
   ]
  },
  {
   "cell_type": "code",
   "execution_count": null,
   "id": "8c88d6ad",
   "metadata": {},
   "outputs": [],
   "source": [
    "nifty=[]\n",
    "    \n",
    "for x in range(1,101):   \n",
    "    url='https://timesofindia.indiatimes.com/topic/nse-nifty/{}'.format(x)\n",
    "    web=requests.get(url).text\n",
    "\n",
    "    soup=BeautifulSoup(web,'lxml')\n",
    "    data=soup.find_all('div',class_=\"uwU81\")\n",
    "  \n",
    "    \n",
    "    for i in data:\n",
    "        nifty.append(i.find(\"span\").text.strip())\n",
    "        \n",
    "\n",
    "\n"
   ]
  },
  {
   "cell_type": "code",
   "execution_count": null,
   "id": "9eba1307",
   "metadata": {},
   "outputs": [],
   "source": [
    "\n",
    "nifty\n"
   ]
  },
  {
   "cell_type": "code",
   "execution_count": null,
   "id": "07bfae7b",
   "metadata": {},
   "outputs": [],
   "source": [
    "len(nifty)"
   ]
  },
  {
   "cell_type": "code",
   "execution_count": null,
   "id": "bdd6a036",
   "metadata": {},
   "outputs": [],
   "source": [
    "\n"
   ]
  },
  {
   "cell_type": "raw",
   "id": "f009d7b2",
   "metadata": {},
   "source": [
    "\n"
   ]
  },
  {
   "cell_type": "code",
   "execution_count": null,
   "id": "8e301080",
   "metadata": {},
   "outputs": [],
   "source": []
  },
  {
   "cell_type": "code",
   "execution_count": null,
   "id": "d2ef7ee5",
   "metadata": {},
   "outputs": [],
   "source": []
  }
 ],
 "metadata": {
  "kernelspec": {
   "display_name": "Python 3 (ipykernel)",
   "language": "python",
   "name": "python3"
  },
  "language_info": {
   "codemirror_mode": {
    "name": "ipython",
    "version": 3
   },
   "file_extension": ".py",
   "mimetype": "text/x-python",
   "name": "python",
   "nbconvert_exporter": "python",
   "pygments_lexer": "ipython3",
   "version": "3.11.5"
  }
 },
 "nbformat": 4,
 "nbformat_minor": 5
}
