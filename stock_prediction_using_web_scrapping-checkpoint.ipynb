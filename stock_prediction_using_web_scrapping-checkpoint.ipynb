{
 "cells": [
  {
   "cell_type": "markdown",
   "id": "eeb47dfc",
   "metadata": {},
   "source": [
    "# NIFTY-50 -STOCK PREDICTION \n"
   ]
  },
  {
   "cell_type": "markdown",
   "id": "3e94512a",
   "metadata": {},
   "source": [
    "web scrapping for getting the data "
   ]
  },
  {
   "cell_type": "code",
   "execution_count": 161,
   "id": "16adbc28",
   "metadata": {},
   "outputs": [],
   "source": [
    "import pandas as pd\n",
    "import requests "
   ]
  },
  {
   "cell_type": "code",
   "execution_count": 162,
   "id": "77ae13aa",
   "metadata": {},
   "outputs": [],
   "source": [
    "from bs4 import BeautifulSoup\n"
   ]
  },
  {
   "cell_type": "code",
   "execution_count": 163,
   "id": "084e11fc",
   "metadata": {},
   "outputs": [],
   "source": [
    "import random\n",
    "\n",
    "dummy_depended_variables = []\n",
    "\n",
    "for i in range(1, 701):\n",
    "    temp = random.randint(0, 1)\n",
    "    dummy_depended_variables.append(temp)\n"
   ]
  },
  {
   "cell_type": "code",
   "execution_count": 164,
   "id": "65edeb65",
   "metadata": {},
   "outputs": [
    {
     "data": {
      "text/plain": [
       "700"
      ]
     },
     "execution_count": 164,
     "metadata": {},
     "output_type": "execute_result"
    }
   ],
   "source": [
    "len(dummy_depended_variables)"
   ]
  },
  {
   "cell_type": "code",
   "execution_count": null,
   "id": "8c88d6ad",
   "metadata": {},
   "outputs": [],
   "source": [
    "\n",
    "\n",
    "nifty=[]\n",
    "    \n",
    "for page in range(1,36):   \n",
    "    url='https://timesofindia.indiatimes.com/topic/nse-nifty/{}'.format(page)\n",
    "    web=requests.get(url).text\n",
    "\n",
    "    soup=BeautifulSoup(web,'lxml')\n",
    "    data=soup.find_all('div',class_=\"uwU81\")\n",
    "  \n",
    "    \n",
    "    for i in data:\n",
    "        nifty.append(i.find(\"span\").text.strip())\n",
    "        \n",
    "\n",
    "\n"
   ]
  },
  {
   "cell_type": "code",
   "execution_count": null,
   "id": "e0e51019",
   "metadata": {},
   "outputs": [],
   "source": []
  },
  {
   "cell_type": "code",
   "execution_count": null,
   "id": "9eba1307",
   "metadata": {},
   "outputs": [],
   "source": [
    "len(dummy_depended_variables)\n"
   ]
  },
  {
   "cell_type": "code",
   "execution_count": null,
   "id": "07bfae7b",
   "metadata": {},
   "outputs": [],
   "source": [
    "len(nifty)"
   ]
  },
  {
   "cell_type": "code",
   "execution_count": null,
   "id": "bdd6a036",
   "metadata": {},
   "outputs": [],
   "source": [
    "economy=[]\n",
    "\n",
    "for page in range(1,29):    \n",
    "\n",
    "    url='https://www.moneycontrol.com/news/business/economy/page-{}'.format(page)\n",
    "    web=requests.get(url).text\n",
    "\n",
    "    soup=BeautifulSoup(web,'lxml')\n",
    "    dataa=soup.find_all('h2')\n",
    " \n",
    "    for x in dataa:\n",
    "        a_tag=x.find('a')\n",
    "        if a_tag :\n",
    "            economy.append(x.find('a').text)\n",
    "\n",
    "    \n",
    "    \n",
    "    \n",
    "        \n",
    "    \n",
    "     \n",
    "        \n",
    "    "
   ]
  },
  {
   "cell_type": "code",
   "execution_count": null,
   "id": "5fc30e10",
   "metadata": {},
   "outputs": [],
   "source": [
    "len(economy)"
   ]
  },
  {
   "cell_type": "code",
   "execution_count": null,
   "id": "01c59a6d",
   "metadata": {},
   "outputs": [],
   "source": [
    "mutualFund=[]\n",
    "\n",
    "for page in range(1,29):    \n",
    "\n",
    "    url='https://www.moneycontrol.com/news/business/mutual-funds/page-{}'.format(page)\n",
    "    web=requests.get(url).text\n",
    "\n",
    "    soup=BeautifulSoup(web,'lxml')\n",
    "    data3=soup.find_all('h2')\n",
    " \n",
    "    for x in data3:\n",
    "        \n",
    "        a_tag=x.find('a')\n",
    "        if a_tag :\n",
    "            mutualFund.append(x.find('a').text)\n",
    "\n",
    "            "
   ]
  },
  {
   "cell_type": "code",
   "execution_count": null,
   "id": "c036b943",
   "metadata": {},
   "outputs": [],
   "source": [
    "len(mutualFund)\n"
   ]
  },
  {
   "cell_type": "code",
   "execution_count": null,
   "id": "b9a6b943",
   "metadata": {},
   "outputs": [],
   "source": [
    "ipo=[]\n",
    "\n",
    "for page in range(1,29):    \n",
    "\n",
    "    url='https://www.moneycontrol.com/news/business/ipo/page-{}'.format(page)\n",
    "    web=requests.get(url).text\n",
    "\n",
    "    soup=BeautifulSoup(web,'lxml')\n",
    "    data3=soup.find_all('h2')\n",
    " \n",
    "    for x in data3:\n",
    "        a_tag=x.find('a')\n",
    "        if a_tag :\n",
    "            ipo.append(x.find('a').text)\n",
    "\n",
    "\n",
    "        "
   ]
  },
  {
   "cell_type": "code",
   "execution_count": null,
   "id": "45f66432",
   "metadata": {},
   "outputs": [],
   "source": [
    "len(ipo)\n",
    "   "
   ]
  },
  {
   "cell_type": "code",
   "execution_count": null,
   "id": "c65920f1",
   "metadata": {},
   "outputs": [],
   "source": [
    "personal_finance=[]\n",
    "\n",
    "\n",
    "for page in range(1,29):    \n",
    "\n",
    "    url='https://www.moneycontrol.com/news/business/personal-finance//page-{}'.format(page)\n",
    "    web=requests.get(url).text\n",
    "\n",
    "    soup=BeautifulSoup(web,'lxml')\n",
    "    data4=soup.find_all('h2')\n",
    " \n",
    "    for x in data4:\n",
    "        a_tag=x.find('a')\n",
    "        if a_tag :\n",
    "            personal_finance.append(x.find('a').text)\n",
    "\n",
    "     \n",
    "\n",
    "            "
   ]
  },
  {
   "cell_type": "code",
   "execution_count": null,
   "id": "ca282c0a",
   "metadata": {},
   "outputs": [],
   "source": [
    "len(personal_finance)"
   ]
  },
  {
   "cell_type": "code",
   "execution_count": null,
   "id": "e2261c1e",
   "metadata": {},
   "outputs": [],
   "source": [
    "business=[]\n",
    "\n",
    "\n",
    "for page in range(1,29):    \n",
    "\n",
    "    url='https://www.moneycontrol.com/news/business//page-{}'.format(page)\n",
    "    web=requests.get(url).text\n",
    "\n",
    "    soup=BeautifulSoup(web,'lxml')\n",
    "    data4=soup.find_all('h2')\n",
    " \n",
    "    for x in data4:\n",
    "        a_tag=x.find('a')\n",
    "        if a_tag :\n",
    "            business.append(x.find('a').text)\n",
    "    \n",
    "    \n",
    "            "
   ]
  },
  {
   "cell_type": "code",
   "execution_count": null,
   "id": "2c32f57c",
   "metadata": {},
   "outputs": [],
   "source": [
    "len(business)"
   ]
  },
  {
   "cell_type": "code",
   "execution_count": null,
   "id": "667474ea",
   "metadata": {},
   "outputs": [],
   "source": [
    "indian_political=[]\n",
    "\n",
    "\n",
    "for page in range(1,29):    \n",
    "\n",
    "    url=' https://www.moneycontrol.com/news/india/page-{}'.format(page)\n",
    "    web=requests.get(url).text\n",
    "\n",
    "    soup=BeautifulSoup(web,'lxml')\n",
    "    data4=soup.find_all('h2')\n",
    " \n",
    "    for x in data4:\n",
    "        a_tag=x.find('a')\n",
    "        if a_tag :\n",
    "            indian_political.append(x.find('a').text)\n",
    "    \n",
    "   "
   ]
  },
  {
   "cell_type": "code",
   "execution_count": null,
   "id": "05bb4d73",
   "metadata": {},
   "outputs": [],
   "source": [
    "len(indian_political)"
   ]
  },
  {
   "cell_type": "code",
   "execution_count": null,
   "id": "0c0843e1",
   "metadata": {},
   "outputs": [],
   "source": [
    "trends=[]\n",
    "\n",
    "\n",
    "for page in range(1,29):    \n",
    "\n",
    "    url='https://www.moneycontrol.com/news/trends/page-{}'.format(page)\n",
    "    web=requests.get(url).text\n",
    "\n",
    "    soup=BeautifulSoup(web,'lxml')\n",
    "    data4=soup.find_all('h2')\n",
    " \n",
    "    for x in data4:\n",
    "        a_tag=x.find('a')\n",
    "        if a_tag :\n",
    "            trends.append(x.find('a').text)\n",
    "    \n",
    "    \n",
    "    \n",
    "   "
   ]
  },
  {
   "cell_type": "code",
   "execution_count": null,
   "id": "951cbc9a",
   "metadata": {},
   "outputs": [],
   "source": [
    "len(trends)"
   ]
  },
  {
   "cell_type": "code",
   "execution_count": null,
   "id": "4fdc3aad",
   "metadata": {},
   "outputs": [],
   "source": [
    "currency=[]\n",
    "\n",
    "\n",
    "\n",
    "for page in range(1,20):    \n",
    "\n",
    "    url='https://www.moneycontrol.com/news/tags/currency.html/page-{}'.format(page)\n",
    "    web=requests.get(url).text\n",
    "\n",
    "    soup=BeautifulSoup(web,'lxml')\n",
    "    data4=soup.find_all('h2')\n",
    " \n",
    "    for x in data4:\n",
    "        a_tag=x.find('a')\n",
    "        if a_tag :\n",
    "            currency.append(x.find('a').text)\n",
    "    \n",
    "     \n",
    "    \n",
    "    \n",
    "   "
   ]
  },
  {
   "cell_type": "code",
   "execution_count": null,
   "id": "a22318a4",
   "metadata": {},
   "outputs": [],
   "source": [
    "len(currency)"
   ]
  },
  {
   "cell_type": "code",
   "execution_count": null,
   "id": "f190a9c6",
   "metadata": {},
   "outputs": [],
   "source": [
    "morning_trade=[]\n",
    "\n",
    "\n",
    "\n",
    "for page in range(1,29):    \n",
    "\n",
    "    url='https://www.moneycontrol.com/shows/morning-trade/page-{}'.format(page)\n",
    "    web=requests.get(url).text\n",
    "\n",
    "    soup=BeautifulSoup(web,'lxml')\n",
    "    data4=soup.find_all('h2')\n",
    " \n",
    "    for x in data4:\n",
    "        a_tag=x.find('a')\n",
    "        if a_tag :\n",
    "            morning_trade.append(x.find('a').text)\n",
    "    \n",
    "    \n",
    "    \n",
    "     "
   ]
  },
  {
   "cell_type": "code",
   "execution_count": null,
   "id": "f1b8752c",
   "metadata": {},
   "outputs": [],
   "source": [
    "len(morning_trade)"
   ]
  },
  {
   "cell_type": "code",
   "execution_count": null,
   "id": "9be045a5",
   "metadata": {},
   "outputs": [],
   "source": [
    "market_min=[]\n",
    "\n",
    "\n",
    "\n",
    "for page in range(1,29):    \n",
    "\n",
    "    url=' https://www.moneycontrol.com/news/podcast/market-minutes/page-{}'.format(page)\n",
    "    web=requests.get(url).text\n",
    "\n",
    "    soup=BeautifulSoup(web,'lxml')\n",
    "    data4=soup.find_all('h2')\n",
    " \n",
    "    for x in data4:\n",
    "        a_tag=x.find('a')\n",
    "        if a_tag :\n",
    "            market_min.append(x.find('a').text)\n",
    "\n",
    "   "
   ]
  },
  {
   "cell_type": "code",
   "execution_count": null,
   "id": "41335352",
   "metadata": {},
   "outputs": [],
   "source": [
    "len(market_min)"
   ]
  },
  {
   "cell_type": "code",
   "execution_count": null,
   "id": "2f588a7a",
   "metadata": {},
   "outputs": [],
   "source": [
    "election2024=[]\n",
    "\n",
    "\n",
    "\n",
    "for page in range(1,31):    \n",
    "\n",
    "    url='https://www.moneycontrol.com/news/assembly-elections/page-{}'.format(page)\n",
    "    web=requests.get(url).text\n",
    "\n",
    "    soup=BeautifulSoup(web,'lxml')\n",
    "    data4=soup.find_all('h2')\n",
    " \n",
    "    for x in data4:\n",
    "        a_tag=x.find('a')\n",
    "        if a_tag :\n",
    "            election2024.append(x.find('a').text)\n",
    "    \n",
    "    "
   ]
  },
  {
   "cell_type": "code",
   "execution_count": null,
   "id": "3ffb4cca",
   "metadata": {},
   "outputs": [],
   "source": [
    "len(election2024)"
   ]
  },
  {
   "cell_type": "code",
   "execution_count": null,
   "id": "d61851fd",
   "metadata": {
    "scrolled": true
   },
   "outputs": [],
   "source": [
    "import pandas as pd\n",
    "\n",
    "final_data={'nifty-up-or-down':dummy_depended_variables,'nifty-news':nifty ,'economy':economy,'ipo':ipo,'election2024':election2024,'trends':trends,'indian-political':indian_political,'business':business,'personal-finance':personal_finance,'mutual-fund':mutualFund}\n",
    "\n",
    "\n",
    "df=pd.DataFrame(final_data)\n",
    "df\n",
    "\n"
   ]
  },
  {
   "cell_type": "markdown",
   "id": "7d137ffb",
   "metadata": {},
   "source": [
    "text-preprocessing "
   ]
  },
  {
   "cell_type": "code",
   "execution_count": null,
   "id": "b2f8b0dc",
   "metadata": {},
   "outputs": [],
   "source": [
    "df.head(4)\n",
    "data=df\n"
   ]
  },
  {
   "cell_type": "code",
   "execution_count": null,
   "id": "ca0b08ea",
   "metadata": {},
   "outputs": [],
   "source": [
    "\n",
    "# list1 = [i for i in range(12)]\n",
    "# new_index = [str(i) for i in list1]\n",
    "\n",
    "\n",
    "# data.columns=new_index"
   ]
  },
  {
   "cell_type": "code",
   "execution_count": null,
   "id": "6629a829",
   "metadata": {},
   "outputs": [],
   "source": [
    "data.shape\n",
    "data"
   ]
  },
  {
   "cell_type": "code",
   "execution_count": null,
   "id": "3a75faaf",
   "metadata": {},
   "outputs": [],
   "source": [
    "data_review=[]\n",
    "\n",
    "for row in range(0,len(data.index)):\n",
    "    data_review.append(' '.join(str(x) for x in data.iloc[row,1:12]))"
   ]
  },
  {
   "cell_type": "code",
   "execution_count": null,
   "id": "4d319698",
   "metadata": {},
   "outputs": [],
   "source": [
    "len(data_review)\n",
    "data_review[1]"
   ]
  },
  {
   "cell_type": "code",
   "execution_count": null,
   "id": "661da7f7",
   "metadata": {},
   "outputs": [],
   "source": [
    "import nltk\n",
    "from nltk.stem import PorterStemmer, WordNetLemmatizer\n",
    "import re\n",
    "porter = PorterStemmer()\n",
    "lemmatizer = WordNetLemmatizer()\n"
   ]
  },
  {
   "cell_type": "code",
   "execution_count": null,
   "id": "fdf50a1b",
   "metadata": {},
   "outputs": [],
   "source": [
    "from nltk.corpus import stopwords\n",
    "nltk.download(\"stopwords\")\n",
    "stop=stopwords.words('english')\n",
    "\n",
    "\n",
    "    \n",
    "    \n",
    "   \n",
    "    "
   ]
  },
  {
   "cell_type": "code",
   "execution_count": null,
   "id": "fc766d84",
   "metadata": {},
   "outputs": [],
   "source": [
    "def stemming(review_text):\n",
    "    letters_only = re.sub('[^a-zA-Z]', ' ', review_text)\n",
    "    # 3. lower letters\n",
    "    words = letters_only.lower().split()\n",
    "    # 5. Stopwords\n",
    "    meaningful_words = [w for w in words if not w in stop]\n",
    "    # 6. lemmitization\n",
    "    lemmitize_words = [lemmatizer.lemmatize(w) for w in meaningful_words]\n",
    "    # 7. space join words\n",
    "    return( ' '.join(lemmitize_words))\n",
    "\n",
    "for i in range(len(data_review)):\n",
    "    data_review[i]= stemming(data_review[i])"
   ]
  },
  {
   "cell_type": "code",
   "execution_count": null,
   "id": "89c866c6",
   "metadata": {},
   "outputs": [],
   "source": [
    "data_review[4]"
   ]
  },
  {
   "cell_type": "code",
   "execution_count": null,
   "id": "10e5198e",
   "metadata": {},
   "outputs": [],
   "source": [
    "data['data_review']=data_review"
   ]
  },
  {
   "cell_type": "code",
   "execution_count": null,
   "id": "175fde05",
   "metadata": {
    "scrolled": true
   },
   "outputs": [],
   "source": [
    "data"
   ]
  },
  {
   "cell_type": "code",
   "execution_count": null,
   "id": "f8b229ec",
   "metadata": {},
   "outputs": [],
   "source": [
    "x=data['data_review']\n",
    "y=data['nifty-up-or-down']\n"
   ]
  },
  {
   "cell_type": "raw",
   "id": "80a502de",
   "metadata": {},
   "source": [
    "#train-test-split -> feature extraction \n"
   ]
  },
  {
   "cell_type": "code",
   "execution_count": null,
   "id": "26eee771",
   "metadata": {},
   "outputs": [],
   "source": [
    "from sklearn.model_selection import train_test_split\n",
    "x_train,x_test,y_train,y_test=train_test_split(x,y,test_size=0.2,stratify=y,random_state=2)"
   ]
  },
  {
   "cell_type": "code",
   "execution_count": null,
   "id": "d4c8e7c5",
   "metadata": {},
   "outputs": [],
   "source": [
    "from sklearn.feature_extraction.text import  CountVectorizer, TfidfVectorizer\n",
    "from sklearn.linear_model import PassiveAggressiveClassifier\n",
    "from sklearn.naive_bayes import MultinomialNB\n",
    "from sklearn import metrics\n",
    "import matplotlib.pyplot as plt\n"
   ]
  },
  {
   "cell_type": "markdown",
   "id": "947ac9b2",
   "metadata": {},
   "source": [
    "bags of word"
   ]
  },
  {
   "cell_type": "code",
   "execution_count": null,
   "id": "d9fbe34a",
   "metadata": {},
   "outputs": [],
   "source": [
    "\n",
    "\n",
    "tfidf_vectorizer = TfidfVectorizer(stop_words='english', max_df=0.8)\n",
    "x_train_tfidf = tfidf_vectorizer.fit_transform(x_train)\n",
    "x_test_tfidf = tfidf_vectorizer.transform(x_test)\n",
    "\n",
    "\n",
    "count_vectorizer = CountVectorizer(stop_words='english')\n",
    "\n",
    "x_train_count = count_vectorizer.fit_transform(x_train)\n",
    "\n",
    "x_test_count = count_vectorizer.transform(x_test)\n",
    "\n",
    "\n",
    "\n",
    "\n",
    "\n",
    "\n"
   ]
  },
  {
   "cell_type": "code",
   "execution_count": null,
   "id": "162ccb24",
   "metadata": {},
   "outputs": [],
   "source": [
    "x_test_count"
   ]
  },
  {
   "cell_type": "code",
   "execution_count": null,
   "id": "a287d22f",
   "metadata": {},
   "outputs": [],
   "source": [
    "x_train_tfidf"
   ]
  },
  {
   "cell_type": "markdown",
   "id": "e6751c26",
   "metadata": {},
   "source": [
    "# 1.apply various training models"
   ]
  },
  {
   "cell_type": "markdown",
   "id": "ab125b02",
   "metadata": {},
   "source": [
    "# 1.1 logistic regression model -using (count-vectorizer)"
   ]
  },
  {
   "cell_type": "code",
   "execution_count": null,
   "id": "481e97f5",
   "metadata": {},
   "outputs": [],
   "source": [
    "from sklearn.linear_model import LogisticRegression\n",
    "from sklearn.metrics import accuracy_score\n",
    "\n",
    "model=LogisticRegression(max_iter=1000)\n",
    "model.fit(x_train_count,y_train)\n",
    "\n"
   ]
  },
  {
   "cell_type": "code",
   "execution_count": null,
   "id": "2b7b5249",
   "metadata": {},
   "outputs": [],
   "source": [
    "x_train_prediction=model.predict(x_train_count)\n",
    "training_data_accuracy=accuracy_score(y_train,x_train_prediction)\n",
    "print(\"training_data_accuracy :%0.3f \"% training_data_accuracy)"
   ]
  },
  {
   "cell_type": "markdown",
   "id": "0e817fd5",
   "metadata": {},
   "source": [
    "test_accuracy_score -pridiction"
   ]
  },
  {
   "cell_type": "code",
   "execution_count": null,
   "id": "9ff6195b",
   "metadata": {},
   "outputs": [],
   "source": [
    "x_test_prediction=model.predict(x_test_count)\n",
    "test_data_accuracy=accuracy_score(y_test,x_test_prediction)\n",
    "print(\"test_data_accuracy :%0.3f \"% test_data_accuracy)"
   ]
  },
  {
   "cell_type": "raw",
   "id": "2aaecbee",
   "metadata": {},
   "source": [
    "model_accuracy=50%"
   ]
  },
  {
   "cell_type": "markdown",
   "id": "362d31a0",
   "metadata": {},
   "source": [
    "# 1.2 logistic regression model - using tfidf-vectorizer"
   ]
  },
  {
   "cell_type": "code",
   "execution_count": null,
   "id": "683673f0",
   "metadata": {},
   "outputs": [],
   "source": [
    "model2=LogisticRegression(max_iter=1000)\n",
    "model2.fit(x_train_tfidf,y_train)\n",
    "\n",
    "x_train_prediction2=model2.predict(x_train_tfidf)\n",
    "training_data_accuracy2=accuracy_score(y_train,x_train_prediction2)\n",
    "\n",
    "print(\"training_data_accuracy2 :%0.3f \"% training_data_accuracy2)\n",
    "\n"
   ]
  },
  {
   "cell_type": "code",
   "execution_count": null,
   "id": "182ff506",
   "metadata": {},
   "outputs": [],
   "source": [
    "x_test_prediction2=model2.predict(x_test_tfidf)\n",
    "test_data_accuracy2=accuracy_score(y_test,x_test_prediction2)\n",
    "print(\"test_data_accuracy2 :%0.3f \"% test_data_accuracy2)"
   ]
  },
  {
   "cell_type": "code",
   "execution_count": null,
   "id": "1c43745c",
   "metadata": {},
   "outputs": [],
   "source": []
  },
  {
   "cell_type": "markdown",
   "id": "0df794d4",
   "metadata": {},
   "source": [
    "# 2.1 Naive bayes model using (countvectorizer)"
   ]
  },
  {
   "cell_type": "code",
   "execution_count": null,
   "id": "dea0e605",
   "metadata": {},
   "outputs": [],
   "source": [
    "model_naive=MultinomialNB()\n",
    "model_naive.fit(x_train_count , y_train)\n",
    "\n",
    "x_train_prediction_naive=model_naive.predict(x_train_count)\n",
    "training_data_accuracy=accuracy_score(y_train,x_train_prediction_naive)\n",
    "\n",
    "print(\"training_data_accuracy_naive : %0.3f\" %training_data_accuracy)\n"
   ]
  },
  {
   "cell_type": "code",
   "execution_count": null,
   "id": "042350e2",
   "metadata": {},
   "outputs": [],
   "source": [
    "x_test_prediction_naive=model_naive.predict(x_test_count)\n",
    "testing_data_accuracy=accuracy_score(y_test,x_test_prediction_naive)\n",
    "\n",
    "print(\"testing_data_accuracy : %0.3f\" %testing_data_accuracy)"
   ]
  },
  {
   "cell_type": "markdown",
   "id": "08abee55",
   "metadata": {},
   "source": [
    "# 2.2 Naive bayes model using (tfidf_vectorizer)"
   ]
  },
  {
   "cell_type": "code",
   "execution_count": null,
   "id": "c028c241",
   "metadata": {},
   "outputs": [],
   "source": [
    "model_naive2=MultinomialNB()\n",
    "model_naive2.fit(x_train_tfidf,y_train)\n",
    "\n",
    "x_train_prediction3=model_naive2.predict(x_train_tfidf)\n",
    "training_data_accuracy4=accuracy_score(y_train,x_train_prediction3)\n",
    "\n",
    "\n",
    "print(\"training_data_accuracy4 :%0.3f \"% training_data_accuracy4)"
   ]
  },
  {
   "cell_type": "code",
   "execution_count": null,
   "id": "de702592",
   "metadata": {},
   "outputs": [],
   "source": [
    "x_test_prediction3=model_naive2.predict(x_test_tfidf)\n",
    "test_data_accuracy4=accuracy_score(y_test,x_test_prediction3)\n",
    "print(\"test_data_accuracy4 :%0.3f \"% test_data_accuracy4)"
   ]
  },
  {
   "cell_type": "markdown",
   "id": "5d682051",
   "metadata": {},
   "source": [
    "# model-3(passive aggresive classifer)"
   ]
  },
  {
   "cell_type": "code",
   "execution_count": null,
   "id": "1d6e7e0d",
   "metadata": {},
   "outputs": [],
   "source": [
    "from sklearn.linear_model import PassiveAggressiveClassifier"
   ]
  },
  {
   "cell_type": "code",
   "execution_count": null,
   "id": "a3a45625",
   "metadata": {},
   "outputs": [],
   "source": [
    "# word- to vec  (bi-gram -1)\n",
    "tfidf_vectorizer2 = TfidfVectorizer(stop_words='english', max_df=0.8, ngram_range=(1,2))\n",
    "tfidf_train_2 = tfidf_vectorizer2.fit_transform(x_train)\n",
    "tfidf_test_2 = tfidf_vectorizer2.transform(x_test)\n",
    "\n",
    "model_passive=PassiveAggressiveClassifier()\n",
    "model_passive.fit(tfidf_train_2,y_train)\n",
    "\n"
   ]
  },
  {
   "cell_type": "code",
   "execution_count": null,
   "id": "39ec61e2",
   "metadata": {},
   "outputs": [],
   "source": [
    "# prediction\n",
    "bigram_passive_prediction=model_passive.predict(tfidf_test_2)\n",
    "bigram_passive_prediction_score=accuracy_score(y_test,bigram_passive_prediction)\n",
    "\n",
    "print(\"bigram_passive_prediction_score : %0.3f\" %bigram_passive_prediction_score)"
   ]
  },
  {
   "cell_type": "code",
   "execution_count": null,
   "id": "ee1297f5",
   "metadata": {},
   "outputs": [],
   "source": [
    "# bi-GRAM-2\n",
    "\n",
    "tfidf_vectorizer3 = TfidfVectorizer(stop_words='english', max_df=0.8, ngram_range=(2,2))\n",
    "tfidf_train_3 = tfidf_vectorizer3.fit_transform(x_train)\n",
    "tfidf_test_3 = tfidf_vectorizer3.transform(x_test)"
   ]
  },
  {
   "cell_type": "code",
   "execution_count": null,
   "id": "671cebc6",
   "metadata": {},
   "outputs": [],
   "source": [
    "model_passive2=PassiveAggressiveClassifier()\n",
    "model_passive2.fit(tfidf_train_3,y_train)"
   ]
  },
  {
   "cell_type": "code",
   "execution_count": null,
   "id": "56368c18",
   "metadata": {},
   "outputs": [],
   "source": [
    "# prediction\n",
    "bigram_passive_prediction2=model_passive2.predict(tfidf_test_3)\n",
    "bigram_passive_prediction_score2=accuracy_score(y_test,bigram_passive_prediction2)\n",
    "\n",
    "print(\"bigram_passive_prediction_score2 : %0.3f\" %bigram_passive_prediction_score2)"
   ]
  },
  {
   "cell_type": "code",
   "execution_count": null,
   "id": "a1a9f857",
   "metadata": {},
   "outputs": [],
   "source": [
    "# tri-GRAM\n",
    "\n",
    "tfidf_vectorizer4 = TfidfVectorizer(stop_words='english', max_df=0.8, ngram_range=(1,3))\n",
    "tfidf_train_4 = tfidf_vectorizer4.fit_transform(x_train)\n",
    "tfidf_test_4 = tfidf_vectorizer4.transform(x_test)"
   ]
  },
  {
   "cell_type": "code",
   "execution_count": null,
   "id": "9c398515",
   "metadata": {},
   "outputs": [],
   "source": [
    "model_passive_trigram3=PassiveAggressiveClassifier()\n",
    "model_passive_trigram3.fit(tfidf_train_4,y_train)"
   ]
  },
  {
   "cell_type": "code",
   "execution_count": null,
   "id": "60a4005e",
   "metadata": {},
   "outputs": [],
   "source": [
    "# prediction\n",
    "\n",
    "trigram_passive_prediction4=model_passive_trigram3.predict(tfidf_test_4)\n",
    "trigram_passive_prediction_score3=accuracy_score(y_test,trigram_passive_prediction4)\n",
    "\n",
    "print(\"prediction_score_of_trigram_model: %0.3f\" %trigram_passive_prediction_score3)\n",
    "\n"
   ]
  },
  {
   "cell_type": "code",
   "execution_count": null,
   "id": "6d51b8ca",
   "metadata": {},
   "outputs": [],
   "source": []
  }
 ],
 "metadata": {
  "kernelspec": {
   "display_name": "Python 3 (ipykernel)",
   "language": "python",
   "name": "python3"
  },
  "language_info": {
   "codemirror_mode": {
    "name": "ipython",
    "version": 3
   },
   "file_extension": ".py",
   "mimetype": "text/x-python",
   "name": "python",
   "nbconvert_exporter": "python",
   "pygments_lexer": "ipython3",
   "version": "3.12.3"
  }
 },
 "nbformat": 4,
 "nbformat_minor": 5
}
