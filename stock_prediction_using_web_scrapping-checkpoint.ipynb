{
 "cells": [
  {
   "cell_type": "markdown",
   "id": "eeb47dfc",
   "metadata": {},
   "source": [
    "# NIFTY-50 -STOCK PREDICTION \n"
   ]
  },
  {
   "cell_type": "markdown",
   "id": "3e94512a",
   "metadata": {},
   "source": [
    "web scrapping for getting the data "
   ]
  },
  {
   "cell_type": "code",
   "execution_count": 1,
   "id": "16adbc28",
   "metadata": {},
   "outputs": [],
   "source": [
    "import pandas as pd\n",
    "import requests "
   ]
  },
  {
   "cell_type": "code",
   "execution_count": 2,
   "id": "77ae13aa",
   "metadata": {},
   "outputs": [],
   "source": [
    "from bs4 import BeautifulSoup"
   ]
  },
  {
   "cell_type": "code",
   "execution_count": 320,
   "id": "8c88d6ad",
   "metadata": {},
   "outputs": [],
   "source": [
    "nifty=[]\n",
    "    \n",
    "for page in range(1,6):   \n",
    "    url='https://timesofindia.indiatimes.com/topic/nse-nifty/{}'.format(page)\n",
    "    web=requests.get(url).text\n",
    "\n",
    "    soup=BeautifulSoup(web,'lxml')\n",
    "    data=soup.find_all('div',class_=\"uwU81\")\n",
    "  \n",
    "    \n",
    "    for i in data:\n",
    "        nifty.append(i.find(\"span\").text.strip())\n",
    "        \n",
    "\n",
    "\n"
   ]
  },
  {
   "cell_type": "code",
   "execution_count": 321,
   "id": "9eba1307",
   "metadata": {},
   "outputs": [
    {
     "data": {
      "text/plain": [
       "['Why Nifty Next 50 is emerging as the hottest stock index in India',\n",
       " 'Sensex settles above 75,000-mark for first time, Nifty closes at record high',\n",
       " \"Opening bell: Sensex, Nifty plunges ahead of RBI's repo rate announcement\",\n",
       " 'Stock market today: Sensex surges 350 point to settle at all time high, Nifty around 22,500',\n",
       " 'Closing bell: Sensex decline around 100 points, Nifty settles at 22,453',\n",
       " 'D-Street: Sensex, Nifty plunges in early trade',\n",
       " 'Closing bell: Sensex rises 190 points, Nifty settles at 22,096',\n",
       " 'D-Street: Sensex plunges more than 400 points, Nifty at 21,903',\n",
       " 'Stock market today: Sensex, Nifty settled with marginal gains on Wednesday',\n",
       " 'US Fed interest rate decision key event to watch out for this week: Analysts',\n",
       " 'Stock market today: Sensex down by 350 points, Nifty slipped below 22,125',\n",
       " 'Special trading session: Nifty, Sensex settles at highest closing levels in first part',\n",
       " 'Investors became richer by Rs 2.20 lakh crore in a day. Why Nifty ended at all-time high',\n",
       " 'Rupee rises 8 paise to 82.99 against US dollar in early trade',\n",
       " '\\u200bRupee rises 2 paise to 83.03 against US dollar in early trade',\n",
       " 'Rupee trades in narrow range against US dollar',\n",
       " 'Lok Sabha polls: Emerging-market bulls tout Modi premium',\n",
       " 'BSE Sensex surges over 450 points, nse nifty hits record high',\n",
       " 'Sensex, Nifty cut Paytm daily trading limits to 10% after stock rout',\n",
       " 'Nifty, Sensex hit new highs in early trade as Fed-driven global rally extends',\n",
       " 'From coolers to power generators: These stocks may emerge winner this summer',\n",
       " 'Record high: Sensex nears 73k as Infy, TCS stocks rally',\n",
       " 'Ram Navami holiday 2024: Are Indian stock markets BSE Sensex, Nifty50 closed on April 17?',\n",
       " 'Stock market crash today: BSE Sensex closes below 73,000; Nifty50 near 22,150 - top 5 reasons equity markets are in bear grip',\n",
       " 'Stock markets: Sensex gains 491 points, Nifty above 21,650',\n",
       " 'At 18%, FPI stock holding drops to near 11-year low',\n",
       " 'Indian markets, Nifty 50 and Sensex, register early 2024 decline in opening session',\n",
       " \"'India coming of age': Sensex, Nifty soar to record highs in FY23-24. What's next\",\n",
       " 'Markets hit new record highs for second straight session; Sensex breaches 69K',\n",
       " 'Stock market today: BSE Sensex closes above 75,000 for the first time; investors richer by Rs 2 lakh crore',\n",
       " 'Markets settle lower after hitting record peaks in intra-day; Sensex breaches 75,000-milestone',\n",
       " \"BSE's m-cap crosses Rs 400 lakh crore\",\n",
       " 'Stock market today: Why BSE Sensex & Nifty50 hit record highs - top reasons for bulls partying',\n",
       " 'Rupee settles flat at 83.18 against US dollar',\n",
       " 'Sensex, Nifty surge amid global markets rally on US Fed rate cut plans',\n",
       " 'Stock market today: BSE, NSE closed on account of Mahashivratri',\n",
       " 'Sensex, Nifty rise on US rate optimism, fall in oil prices',\n",
       " 'Nifty hits 21k for 1st time, sensex nears 70,000',\n",
       " 'Sensex, Nifty end lower as autos, financials drag',\n",
       " 'Markets open lower amidst record highs, Sensex and Nifty retreat as global stocks extend decline',\n",
       " 'India nears $4 trillion market capitalization, set to join US, China, Japan, HK',\n",
       " \"In a first, NSE listed companies' market capitalisation surpass USD 4 trillion mark\",\n",
       " 'Sensex, Nifty jump on rally in global markets',\n",
       " 'Stock market today: Sensex, Nifty trade flat in opening session',\n",
       " 'Maruti Suzuki share price today: Car maker crosses Rs 4 lakh crore market cap; stock zooms 50% in 12 months',\n",
       " 'Rupee trades in narrow range against US dollar',\n",
       " 'Indian markets face tough October, Sensex log worst month in 2023',\n",
       " 'Canara Bank shares jump 7%; hit 52-week high',\n",
       " 'Rupee rises 32 paise to 83.01 against US dollar in early trade',\n",
       " 'How to play Indian markets ahead of Diwali Muhurat trading - check sectors that have historically done well',\n",
       " 'Stock market holiday: BSE, NSE to remain closed today on account of Diwali Balipratipada',\n",
       " 'Indian markets open week on a lower note; Sensex falls 318 points',\n",
       " 'Rupee rises 4 paise to 83.23 against US dollar in early trade',\n",
       " 'Sensex, Nifty jump nearly 1 percent on gain in IT, banking shares; rally for 3rd day on the trot',\n",
       " 'Sensex, Nifty end higher; energy stocks boost blue-chips',\n",
       " 'Opening bell: Sensex, Nifty open flat in early trade',\n",
       " 'Rupee falls 3 paise to 83.27 against US dollar in early trade',\n",
       " 'Rupee trades in narrow range against US dollar in early trade',\n",
       " 'Sensex, Nifty trade flat amid mixed global cues',\n",
       " 'In a 1st, sensex breaches 75,000-mark intra-day; Nifty scales new peak',\n",
       " 'Investors lose Rs 14.6 lakh crore in 5 days of market turmoil: Will Sensex, Nifty continue to fall?',\n",
       " 'Rupee falls 4 paise to 83.24 against US dollar',\n",
       " 'Sensex tanks 826 points as US yield hits 5% after 16 years',\n",
       " 'Stock market today: BSE Sensex, Nifty50 plunge as Rs 3.15 lakh crore wiped off! Top reasons why bears growled',\n",
       " \"'Virtuous cycle': How Lok Sabha polls may impact Sensex, Nifty\",\n",
       " 'Rupee rises 3 paise to close at 83.24 against US dollar',\n",
       " 'Sensex logs new high even as mid, small-cap stocks fall',\n",
       " 'Sensex, Nifty rebound up to 1% on gains in financial, auto shares',\n",
       " 'Earnings-driven gains in key stocks help sensex, Nifty cap losses',\n",
       " 'Stock market: BSE and NSE to observe holiday today on Mahatma Gandhi Jayanti',\n",
       " 'Special trading session: Sensex settles marginally higher, Nifty near 22,400',\n",
       " 'Markets fall for 2nd day on unabated foreign fund outflow',\n",
       " 'Stock market today: BSE Sensex surges 1,245 points to cross 73,000; Nifty50 ends above 22,300 - top reasons for bulls partying',\n",
       " 'Rupee falls 13 paise to 82.84 against US dollar',\n",
       " 'Stock markets end flat in highly volatile trade amid weak global markets trend',\n",
       " 'GIFT Nifty sets turnover record',\n",
       " 'SGX Nifty begins trading as Gift Nifty',\n",
       " 'Vibhor Steel Tubes soars 181% on market debut',\n",
       " 'Gift Nifty sets record-high single day turnover of $12.39 billion',\n",
       " 'Gift Nifty sets record-high single-day turnover of $12.39bn',\n",
       " 'Rupee rises 2 paise to 82.61 against US dollar',\n",
       " 'Retail traders are losing billions in India’s booming options market',\n",
       " 'Market benchmarks tumble on profit booking',\n",
       " 'NSE to replace HDFC with LTIMindtree in Nifty 50 index',\n",
       " 'Sensex, Nifty rally in early trade on firm global trends, foreign fund inflows',\n",
       " 'Goldman expects Nifty to rise by 9% in 2024',\n",
       " 'Goldman expects Nifty to rise by 9% in 2024',\n",
       " 'Rupee rises 10 paise to 82.71 against US dollar',\n",
       " 'Budget boost lifts Nifty 50 to fifth record high in 2024',\n",
       " 'Rupee falls 5 paise to 82.72 against US dollar',\n",
       " 'Titan shares fall over 2% after June quarter earnings',\n",
       " 'Power Grid shares tumble nearly 5% in morning trade',\n",
       " 'SGX Nifty to be rechristened as GIFT Nifty effective July 3',\n",
       " 'Sensex tumbles 379 points, Nifty below 21,700; financials, auto, IT stocks slide',\n",
       " 'Why NSE is holding special pre-open session for Reliance Industries Ltd',\n",
       " 'Energy, financials drag down Indian shares in final session of 2023',\n",
       " 'Sensex, Nifty extend losses into 2nd day on rate hike fears',\n",
       " 'Mid and small cap stocks risk abrupt corrections, warn analysts',\n",
       " 'Markets fall in early trade after five-day rally',\n",
       " 'A $46 billion rally shows India tech woes easing']"
      ]
     },
     "execution_count": 321,
     "metadata": {},
     "output_type": "execute_result"
    }
   ],
   "source": [
    "\n",
    "nifty\n"
   ]
  },
  {
   "cell_type": "code",
   "execution_count": 322,
   "id": "07bfae7b",
   "metadata": {},
   "outputs": [
    {
     "data": {
      "text/plain": [
       "100"
      ]
     },
     "execution_count": 322,
     "metadata": {},
     "output_type": "execute_result"
    }
   ],
   "source": [
    "len(nifty)"
   ]
  },
  {
   "cell_type": "code",
   "execution_count": 317,
   "id": "bdd6a036",
   "metadata": {},
   "outputs": [],
   "source": [
    "economy=[]\n",
    "\n",
    "for page in range(1,5):    \n",
    "\n",
    "    url='https://www.moneycontrol.com/news/business/economy/page-{}'.format(page)\n",
    "    web=requests.get(url).text\n",
    "\n",
    "    soup=BeautifulSoup(web,'lxml')\n",
    "    dataa=soup.find_all('h2')\n",
    " \n",
    "    for x in dataa:\n",
    "        a_tag=x.find('a')\n",
    "        if a_tag :\n",
    "            economy.append(x.find('a').text)\n",
    "\n",
    "    \n",
    "    \n",
    "    \n",
    "        \n",
    "    \n",
    "     \n",
    "        \n",
    "    "
   ]
  },
  {
   "cell_type": "code",
   "execution_count": 318,
   "id": "d2ef7ee5",
   "metadata": {},
   "outputs": [
    {
     "data": {
      "text/plain": [
       "['India govt open to selling stake in GIC Re, LIC in FY24/25, says source',\n",
       " 'Business in the Week Ahead: April 22-26',\n",
       " \"Russia squeezes Mideast, OPEC shares in India's oil market to historic lows\",\n",
       " \"India a standout performer amidst sluggish global growth trends: India's Economic Affairs Secretary tells WB committee\",\n",
       " 'How to add mojo to India’s goods exports?',\n",
       " 'US rate cuts look like a distant dream, India’s stock markets face a tough time ahead',\n",
       " 'Israel-Iran conflict: Will take all steps required to reduce impact on India, says Sitharaman',\n",
       " 'Modi’s 100-day agenda includes $1.2 bn plan for new cities',\n",
       " 'China’s magical growth of 5.3 percent has puzzled the Chinese',\n",
       " 'Moneycontrol Pro Panorama | Are policymakers caught in an inflation trap?',\n",
       " \"Global future will not be driven by big tech but by India's DPI: Amitabh Kant\",\n",
       " \"Volumes of domestic mining, construction equipment industry may drop in FY'25: Icra\",\n",
       " 'The great bet on rate cuts is off',\n",
       " 'What China’s jibe about Elon Musk’s pivot to India reveals',\n",
       " \"Asian currencies can't fight the dollar on a rampage\",\n",
       " 'After Maldives, Bangladesh\\xa0sees an ‘India Out’ campaign; why New Delhi must stop China from taking advantage',\n",
       " 'Global policymakers must heed IMF’s warnings on private credit',\n",
       " 'US senators object to wheat, rice subsidies in India; USTR says market access to India has improved',\n",
       " 'Dollar eases, still close to 5-1/2 month high on Fed, Mideast focus',\n",
       " \"'UPA govt wanted RBI as its cheerleader': BJP's Smriti Irani on ex-RBI Governor's memoir\",\n",
       " 'Cherry blossoms to cheap Yen spur record tourist visits to Japan',\n",
       " \"Former RBI chief D Subbarao warns against premature celebration of India's economic rise, urges focus on per capita income disparity\",\n",
       " 'Central bankers should retire the 2 percent inflation target',\n",
       " \"Social media's age limits won't protect your kids\",\n",
       " 'Indian economy projected to grow 6.5% in 2024: UNCTAD',\n",
       " \"Musk's visit: Tesla executives meet Rajasthan government for India foray\",\n",
       " 'India needs to maximise demographic dividends and focus on job creation: Raghuram Rajan',\n",
       " \"India is 'one of the strong performers': IMF\",\n",
       " 'IMF sees slow, steady 2024 global growth; China, inflation pose risks',\n",
       " 'Taming the Wild West of illegal online gambling in India',\n",
       " 'Govt asks airlines to carry out risk assessment before flying on international routes',\n",
       " 'Moneycontrol Pro Panorama | A ray of hope for the farm sector',\n",
       " 'Elon Musk’s Tesla bait-and-switch is getting old',\n",
       " \"India rate cuts 'off the table' in 2024/25: Morgan Stanley\",\n",
       " 'Normal monsoons will go a long way in reviving agri-inputs industry',\n",
       " 'Should small business loans begin to bother RBI?',\n",
       " 'World trade — Uncertainty is the only certainty \\xa0',\n",
       " 'Government increases windfall tax on petroleum crude by 41% from April 16',\n",
       " 'Oil sheds more than $1/barrel after Iran attack',\n",
       " 'US stocks mixed as Treasury yields rise. Middle East war worries ease',\n",
       " 'Rupee ends at record closing low amid Mideast tensions, likely cenbank support aids',\n",
       " 'Why people in finance should lift weights and do strength training',\n",
       " 'Moneycontrol Pro Panorama | In Biden we (still) trust',\n",
       " 'India seeks global collaborations to explore new tech, use of methanol, ammonia as ship fuel',\n",
       " 'Govt rules out permitting sugar exports this season',\n",
       " \"India's steelmakers fall short of investment target due to delays linked to China\",\n",
       " 'India consumer firms gear up to cash in on a sizzling summer',\n",
       " 'Gold is back — and it has a message for us',\n",
       " \"India's wholesale inflation rises to three-month high of 0.53% in March\",\n",
       " 'IIP numbers show long-term decline in capital goods production',\n",
       " 'Israel, Iran trade punches – What it means for Indian markets',\n",
       " \"Oil seen opening up after Iran's attack on Israel, but further gains may depend on response\",\n",
       " 'Moneycontrol Pro Weekender | Horses for courses',\n",
       " 'Bet on Chinese economic decline at your own peril',\n",
       " \"India's forex kitty  jumps $2.98 billion to new high of $648.562 billion\",\n",
       " 'British consumers are being asked to defy gravity again',\n",
       " 'The Reading List: April 12, 2024',\n",
       " 'Why microeconomics and implementation matters: Policy lessons from PM Modi’s approach on development',\n",
       " 'Moneycontrol Pro Panorama | Deluded expectations',\n",
       " 'What’s behind the rupee’s never-ending depreciation?',\n",
       " 'Is an HUF structure a no-brainer for managing taxes and assets? Warts you should be aware of',\n",
       " 'Chart of the Day: How credit growth floated up through underpricing of risks in FY24',\n",
       " 'India’s coal power project pipeline is biggest in the world outside China',\n",
       " \"ADB raises India's GDP growth forecast for FY25 to 7% on robust investment, consumer demand\",\n",
       " 'Mohamed A. El-Erian: Fed faces a big risk, but it’s not the one many think',\n",
       " 'The Fed choked clean energy. It’s about to start reviving that',\n",
       " 'Why write a shareholder letter? Ask Dimon or Buffett',\n",
       " 'Human psychology and investments: Daniel Kahneman’s theory decoded',\n",
       " 'Fed favours reducing monthly asset runoff pace by roughly half',\n",
       " 'Large caps to be in focus with incremental capex expansion',\n",
       " 'Copper prices have risen 11% in 2024 so far. Why is the metal surging?',\n",
       " 'Mohamed El-Erian: Inverted pyramid of investments needs shoring up',\n",
       " \"US: $200 billion of M&A wasn't enough in oil patch\",\n",
       " 'By year-end, 20 coal mines likely to come into operation',\n",
       " 'Start-up Street | Perpetual funds – an idea whose time has come?',\n",
       " 'India’s 10-year bond yield to ease to 6.50-6.75% by H2 on FPI demand, policy rate cuts',\n",
       " 'Decoding Economics | Corporate debt and boom-bust cycles',\n",
       " 'Will solar prospects radiate on the protectionist push?',\n",
       " 'India wants to be the world’s next growth driver',\n",
       " 'Oil prices steady after drop as Middle East ceasefire hopes wane',\n",
       " 'Gold hits record high for eighth session in a row',\n",
       " 'The lithium world confronts hard truths after epic boom and bust',\n",
       " 'Moneycontrol Pro Panorama | Time for an earnings reality check',\n",
       " 'Lex | Private equity’s latest trick is to buy and hold',\n",
       " \"Heatwave's Impact: Why India Cannot Be Complacent About Its Rising Temperatures\",\n",
       " 'Taiwanese groups consider overseas headquarters to hedge against Chinese attack',\n",
       " 'US junks 200 years of\\xa0economics to block China clean tech',\n",
       " 'As Atos sinks deeper, it is advantage Indian IT firms',\n",
       " 'Congress manifesto offers alternative ideology, can the party take it to the masses?',\n",
       " 'India inflation likely cooled in March, albeit slightly',\n",
       " \"India's February silver imports hit record and set to rise 66% this year\",\n",
       " 'Mismatch in HRA claims: No special drive launched to reopen cases, CBDT clarifies',\n",
       " 'Stocks rise as oil cools; Treasury yields hit four-month high',\n",
       " 'US dollar drifts lower ahead of inflation data; yen nears 1990 lows',\n",
       " 'Gold marches higher on firm demand from top Asian cenbanks',\n",
       " 'Oil prices edge lower on Middle East ceasefire talks',\n",
       " 'Rupee settles on flat note at 83.31 against US dollar',\n",
       " 'India turns net importer of finished steel in 2023/24, data shows',\n",
       " 'Moneycontrol Pro Panorama | Year of the consumer',\n",
       " \"India's fuel demand hits new FY record, up about 5%\"]"
      ]
     },
     "execution_count": 318,
     "metadata": {},
     "output_type": "execute_result"
    }
   ],
   "source": [
    "economy"
   ]
  },
  {
   "cell_type": "code",
   "execution_count": 319,
   "id": "6f91eade",
   "metadata": {},
   "outputs": [
    {
     "data": {
      "text/plain": [
       "100"
      ]
     },
     "execution_count": 319,
     "metadata": {},
     "output_type": "execute_result"
    }
   ],
   "source": [
    "len(economy)"
   ]
  },
  {
   "cell_type": "code",
   "execution_count": 339,
   "id": "05b04c04",
   "metadata": {},
   "outputs": [],
   "source": [
    "mutualFund=[]\n",
    "\n",
    "for page in range(1,5):    \n",
    "\n",
    "    url='https://www.moneycontrol.com/news/business/mutual-funds/page-{}'.format(page)\n",
    "    web=requests.get(url).text\n",
    "\n",
    "    soup=BeautifulSoup(web,'lxml')\n",
    "    data3=soup.find_all('h2')\n",
    " \n",
    "    for x in data3:\n",
    "        \n",
    "        a_tag=x.find('a')\n",
    "        if a_tag :\n",
    "            mutualFund.append(x.find('a').text)\n",
    "\n",
    "            "
   ]
  },
  {
   "cell_type": "code",
   "execution_count": 340,
   "id": "5b03e65e",
   "metadata": {},
   "outputs": [
    {
     "data": {
      "text/plain": [
       "100"
      ]
     },
     "execution_count": 340,
     "metadata": {},
     "output_type": "execute_result"
    }
   ],
   "source": [
    "len(mutualFund)\n"
   ]
  },
  {
   "cell_type": "code",
   "execution_count": 313,
   "id": "75adf4cb",
   "metadata": {},
   "outputs": [],
   "source": [
    "ipo=[]\n",
    "\n",
    "for page in range(1,5):    \n",
    "\n",
    "    url='https://www.moneycontrol.com/news/business/ipo/page-{}'.format(page)\n",
    "    web=requests.get(url).text\n",
    "\n",
    "    soup=BeautifulSoup(web,'lxml')\n",
    "    data3=soup.find_all('h2')\n",
    " \n",
    "    for x in data3:\n",
    "        a_tag=x.find('a')\n",
    "        if a_tag :\n",
    "            ipo.append(x.find('a').text)\n",
    "\n",
    "\n",
    "        "
   ]
  },
  {
   "cell_type": "code",
   "execution_count": 314,
   "id": "746bbd07",
   "metadata": {},
   "outputs": [
    {
     "data": {
      "text/plain": [
       "100"
      ]
     },
     "execution_count": 314,
     "metadata": {},
     "output_type": "execute_result"
    }
   ],
   "source": [
    "len(ipo)\n",
    "   "
   ]
  },
  {
   "cell_type": "code",
   "execution_count": 311,
   "id": "457b2e2c",
   "metadata": {},
   "outputs": [],
   "source": [
    "personal_finance=[]\n",
    "\n",
    "\n",
    "for page in range(1,5):    \n",
    "\n",
    "    url='https://www.moneycontrol.com/news/business/personal-finance//page-{}'.format(page)\n",
    "    web=requests.get(url).text\n",
    "\n",
    "    soup=BeautifulSoup(web,'lxml')\n",
    "    data4=soup.find_all('h2')\n",
    " \n",
    "    for x in data4:\n",
    "        a_tag=x.find('a')\n",
    "        if a_tag :\n",
    "            personal_finance.append(x.find('a').text)\n",
    "\n",
    "     \n",
    "\n",
    "            "
   ]
  },
  {
   "cell_type": "code",
   "execution_count": 312,
   "id": "1fda5df6",
   "metadata": {},
   "outputs": [
    {
     "data": {
      "text/plain": [
       "100"
      ]
     },
     "execution_count": 312,
     "metadata": {},
     "output_type": "execute_result"
    }
   ],
   "source": [
    "len(personal_finance)"
   ]
  },
  {
   "cell_type": "code",
   "execution_count": 309,
   "id": "bd0c247e",
   "metadata": {},
   "outputs": [],
   "source": [
    "business=[]\n",
    "\n",
    "\n",
    "for page in range(1,5):    \n",
    "\n",
    "    url='https://www.moneycontrol.com/news/business//page-{}'.format(page)\n",
    "    web=requests.get(url).text\n",
    "\n",
    "    soup=BeautifulSoup(web,'lxml')\n",
    "    data4=soup.find_all('h2')\n",
    " \n",
    "    for x in data4:\n",
    "        a_tag=x.find('a')\n",
    "        if a_tag :\n",
    "            business.append(x.find('a').text)\n",
    "    \n",
    "    \n",
    "            "
   ]
  },
  {
   "cell_type": "code",
   "execution_count": 310,
   "id": "61311969",
   "metadata": {},
   "outputs": [
    {
     "data": {
      "text/plain": [
       "100"
      ]
     },
     "execution_count": 310,
     "metadata": {},
     "output_type": "execute_result"
    }
   ],
   "source": [
    "len(business)"
   ]
  },
  {
   "cell_type": "code",
   "execution_count": 307,
   "id": "88e21045",
   "metadata": {},
   "outputs": [],
   "source": [
    "indian_political=[]\n",
    "\n",
    "\n",
    "for page in range(1,5):    \n",
    "\n",
    "    url=' https://www.moneycontrol.com/news/india/page-{}'.format(page)\n",
    "    web=requests.get(url).text\n",
    "\n",
    "    soup=BeautifulSoup(web,'lxml')\n",
    "    data4=soup.find_all('h2')\n",
    " \n",
    "    for x in data4:\n",
    "        a_tag=x.find('a')\n",
    "        if a_tag :\n",
    "            indian_political.append(x.find('a').text)\n",
    "    \n",
    "   "
   ]
  },
  {
   "cell_type": "code",
   "execution_count": 308,
   "id": "8f7ce1c2",
   "metadata": {},
   "outputs": [
    {
     "data": {
      "text/plain": [
       "100"
      ]
     },
     "execution_count": 308,
     "metadata": {},
     "output_type": "execute_result"
    }
   ],
   "source": [
    "len(indian_political)"
   ]
  },
  {
   "cell_type": "code",
   "execution_count": 305,
   "id": "922af4c1",
   "metadata": {},
   "outputs": [],
   "source": [
    "trends=[]\n",
    "\n",
    "\n",
    "for page in range(1,5):    \n",
    "\n",
    "    url='https://www.moneycontrol.com/news/trends/page-{}'.format(page)\n",
    "    web=requests.get(url).text\n",
    "\n",
    "    soup=BeautifulSoup(web,'lxml')\n",
    "    data4=soup.find_all('h2')\n",
    " \n",
    "    for x in data4:\n",
    "        a_tag=x.find('a')\n",
    "        if a_tag :\n",
    "            trends.append(x.find('a').text)\n",
    "    \n",
    "    \n",
    "    \n",
    "   "
   ]
  },
  {
   "cell_type": "code",
   "execution_count": 306,
   "id": "ef7576df",
   "metadata": {},
   "outputs": [
    {
     "data": {
      "text/plain": [
       "100"
      ]
     },
     "execution_count": 306,
     "metadata": {},
     "output_type": "execute_result"
    }
   ],
   "source": [
    "len(trends)"
   ]
  },
  {
   "cell_type": "code",
   "execution_count": 303,
   "id": "40cd05e4",
   "metadata": {},
   "outputs": [],
   "source": [
    "currency=[]\n",
    "\n",
    "\n",
    "\n",
    "for page in range(1,6):    \n",
    "\n",
    "    url='https://www.moneycontrol.com/news/tags/currency.html/page-{}'.format(page)\n",
    "    web=requests.get(url).text\n",
    "\n",
    "    soup=BeautifulSoup(web,'lxml')\n",
    "    data4=soup.find_all('h2')\n",
    " \n",
    "    for x in data4:\n",
    "        a_tag=x.find('a')\n",
    "        if a_tag :\n",
    "            currency.append(x.find('a').text)\n",
    "    \n",
    "     \n",
    "    \n",
    "    \n",
    "   "
   ]
  },
  {
   "cell_type": "code",
   "execution_count": 304,
   "id": "bf855171",
   "metadata": {},
   "outputs": [
    {
     "data": {
      "text/plain": [
       "105"
      ]
     },
     "execution_count": 304,
     "metadata": {},
     "output_type": "execute_result"
    }
   ],
   "source": [
    "len(currency)"
   ]
  },
  {
   "cell_type": "code",
   "execution_count": 299,
   "id": "088ec414",
   "metadata": {},
   "outputs": [],
   "source": [
    "morning_trade=[]\n",
    "\n",
    "\n",
    "\n",
    "for page in range(1,5):    \n",
    "\n",
    "    url='https://www.moneycontrol.com/shows/morning-trade/page-{}'.format(page)\n",
    "    web=requests.get(url).text\n",
    "\n",
    "    soup=BeautifulSoup(web,'lxml')\n",
    "    data4=soup.find_all('h2')\n",
    " \n",
    "    for x in data4:\n",
    "        a_tag=x.find('a')\n",
    "        if a_tag :\n",
    "            morning_trade.append(x.find('a').text)\n",
    "    \n",
    "    \n",
    "    \n",
    "     "
   ]
  },
  {
   "cell_type": "code",
   "execution_count": 300,
   "id": "37e69a27",
   "metadata": {},
   "outputs": [
    {
     "data": {
      "text/plain": [
       "100"
      ]
     },
     "execution_count": 300,
     "metadata": {},
     "output_type": "execute_result"
    }
   ],
   "source": [
    "len(morning_trade)"
   ]
  },
  {
   "cell_type": "code",
   "execution_count": 297,
   "id": "94e67803",
   "metadata": {},
   "outputs": [],
   "source": [
    "market_min=[]\n",
    "\n",
    "\n",
    "\n",
    "for page in range(1,5):    \n",
    "\n",
    "    url=' https://www.moneycontrol.com/news/podcast/market-minutes/page-{}'.format(page)\n",
    "    web=requests.get(url).text\n",
    "\n",
    "    soup=BeautifulSoup(web,'lxml')\n",
    "    data4=soup.find_all('h2')\n",
    " \n",
    "    for x in data4:\n",
    "        a_tag=x.find('a')\n",
    "        if a_tag :\n",
    "            market_min.append(x.find('a').text)\n",
    "\n",
    "   "
   ]
  },
  {
   "cell_type": "code",
   "execution_count": 298,
   "id": "29a1452a",
   "metadata": {},
   "outputs": [
    {
     "data": {
      "text/plain": [
       "100"
      ]
     },
     "execution_count": 298,
     "metadata": {},
     "output_type": "execute_result"
    }
   ],
   "source": [
    "len(market_min)"
   ]
  },
  {
   "cell_type": "code",
   "execution_count": 294,
   "id": "9686776d",
   "metadata": {},
   "outputs": [],
   "source": [
    "election2024=[]\n",
    "\n",
    "\n",
    "\n",
    "for page in range(1,5):    \n",
    "\n",
    "    url='https://www.moneycontrol.com/news/assembly-elections/page-{}'.format(page)\n",
    "    web=requests.get(url).text\n",
    "\n",
    "    soup=BeautifulSoup(web,'lxml')\n",
    "    data4=soup.find_all('h2')\n",
    " \n",
    "    for x in data4:\n",
    "        a_tag=x.find('a')\n",
    "        if a_tag :\n",
    "            election2024.append(x.find('a').text)\n",
    "    \n",
    "    "
   ]
  },
  {
   "cell_type": "code",
   "execution_count": 295,
   "id": "98d34561",
   "metadata": {},
   "outputs": [
    {
     "data": {
      "text/plain": [
       "100"
      ]
     },
     "execution_count": 295,
     "metadata": {},
     "output_type": "execute_result"
    }
   ],
   "source": [
    "len(election2024)"
   ]
  },
  {
   "cell_type": "code",
   "execution_count": 346,
   "id": "65024dd9",
   "metadata": {
    "scrolled": true
   },
   "outputs": [
    {
     "data": {
      "text/html": [
       "<div>\n",
       "<style scoped>\n",
       "    .dataframe tbody tr th:only-of-type {\n",
       "        vertical-align: middle;\n",
       "    }\n",
       "\n",
       "    .dataframe tbody tr th {\n",
       "        vertical-align: top;\n",
       "    }\n",
       "\n",
       "    .dataframe thead th {\n",
       "        text-align: right;\n",
       "    }\n",
       "</style>\n",
       "<table border=\"1\" class=\"dataframe\">\n",
       "  <thead>\n",
       "    <tr style=\"text-align: right;\">\n",
       "      <th></th>\n",
       "      <th>nifty-news</th>\n",
       "      <th>economy</th>\n",
       "      <th>ipo</th>\n",
       "      <th>election2024</th>\n",
       "      <th>market-min</th>\n",
       "      <th>morning-trade</th>\n",
       "      <th>trends</th>\n",
       "      <th>indian-political</th>\n",
       "      <th>business</th>\n",
       "      <th>personal-finance</th>\n",
       "      <th>mutual-fund</th>\n",
       "    </tr>\n",
       "  </thead>\n",
       "  <tbody>\n",
       "    <tr>\n",
       "      <th>0</th>\n",
       "      <td>Why Nifty Next 50 is emerging as the hottest s...</td>\n",
       "      <td>India govt open to selling stake in GIC Re, LI...</td>\n",
       "      <td>Vodafone Idea FPO booked 43% on Day 2, QIBs in...</td>\n",
       "      <td>Liquidity deficit in banking system to narrow ...</td>\n",
       "      <td>Nifty, Sensex may fall on reports of blasts in...</td>\n",
       "      <td>Live: Will Nifty reclaim 22,200 or test 22,000...</td>\n",
       "      <td>Rs 4.17 lakh expense to attend wife's friend's...</td>\n",
       "      <td>LIVE: Wipro Management On Wipro Q4 Earnings &amp; ...</td>\n",
       "      <td>Moneycontrol Selects: Top stories this evening</td>\n",
       "      <td>Loan against securities: Punjab National Bank,...</td>\n",
       "      <td>These 15 high-PE stocks make your midcap funds...</td>\n",
       "    </tr>\n",
       "    <tr>\n",
       "      <th>1</th>\n",
       "      <td>Sensex settles above 75,000-mark for first tim...</td>\n",
       "      <td>Business in the Week Ahead: April 22-26</td>\n",
       "      <td>Business in the Week Ahead: April 22-26</td>\n",
       "      <td>Household Consumption Survey: A worrying conce...</td>\n",
       "      <td>Will cautious Fed commentary, Israel-Iran tens...</td>\n",
       "      <td>Live: Indian market poised to clock new highs ...</td>\n",
       "      <td>When Elon Musk visited Taj Mahal in 2007: 'Tru...</td>\n",
       "      <td>Philippines gets BrahMos missiles from India a...</td>\n",
       "      <td>PMS or Mutual Funds? How returns compared</td>\n",
       "      <td>These 15 high-PE stocks make your midcap funds...</td>\n",
       "      <td>India should see $3 trn capital flows in the n...</td>\n",
       "    </tr>\n",
       "    <tr>\n",
       "      <th>2</th>\n",
       "      <td>Opening bell: Sensex, Nifty plunges ahead of R...</td>\n",
       "      <td>Russia squeezes Mideast, OPEC shares in India'...</td>\n",
       "      <td>Kronox Lab Sciences receives Sebi approval to ...</td>\n",
       "      <td>World Street | Britain, Japan in recession, Ci...</td>\n",
       "      <td>Markets to see increased volatility on Israel-...</td>\n",
       "      <td>Live: Nifty poised to extend record run; Shoul...</td>\n",
       "      <td>Woman sues Disneyland after collision with 'Go...</td>\n",
       "      <td>Azim Premji and son Rishad re-appointed on the...</td>\n",
       "      <td>India govt open to selling stake in GIC Re, LI...</td>\n",
       "      <td>Bull-run dilemma: Should you prepay home loan ...</td>\n",
       "      <td>Mutual fund stress test round 2: And the winne...</td>\n",
       "    </tr>\n",
       "    <tr>\n",
       "      <th>3</th>\n",
       "      <td>Stock market today: Sensex surges 350 point to...</td>\n",
       "      <td>India a standout performer amidst sluggish glo...</td>\n",
       "      <td>SME IPO action: Ramdevbaba Solvent subscribed ...</td>\n",
       "      <td>RS polls: Bachchan and Ranjan are not among PD...</td>\n",
       "      <td>To invest or stay out as equities, gold run re...</td>\n",
       "      <td>Live: Nifty braces for another see-saw session...</td>\n",
       "      <td>Passengers carry gold worth Rs 1.21 crore in r...</td>\n",
       "      <td>'Only three mangoes in ...\", Arvind Kejriwal's...</td>\n",
       "      <td>MC Pro Quick Take | Wipro Q4: In-line executio...</td>\n",
       "      <td>Planning to study abroad? Here's how to maximi...</td>\n",
       "      <td>Mutual fund stress test: Which funds showed bi...</td>\n",
       "    </tr>\n",
       "    <tr>\n",
       "      <th>4</th>\n",
       "      <td>Closing bell: Sensex decline around 100 points...</td>\n",
       "      <td>How to add mojo to India’s goods exports?</td>\n",
       "      <td>Vodafone Idea FPO opens, subscribed 26% so far...</td>\n",
       "      <td>Don't require Nitish Kumar; Mahagathbandhan wi...</td>\n",
       "      <td>Another record high on the horizon for Nifty? ...</td>\n",
       "      <td>Live: Will private banks take Nifty to greater...</td>\n",
       "      <td>Meet Aitana, a pink-haired model who earns up ...</td>\n",
       "      <td>Rohit Srivastava on derivatives positioning, F...</td>\n",
       "      <td>LIVE: Wipro Management On Wipro Q4 Earnings &amp; ...</td>\n",
       "      <td>The new Axis Bank Shoppers Stop credit card: K...</td>\n",
       "      <td>MF Stress Test Round 2: Have top small-cap fun...</td>\n",
       "    </tr>\n",
       "    <tr>\n",
       "      <th>...</th>\n",
       "      <td>...</td>\n",
       "      <td>...</td>\n",
       "      <td>...</td>\n",
       "      <td>...</td>\n",
       "      <td>...</td>\n",
       "      <td>...</td>\n",
       "      <td>...</td>\n",
       "      <td>...</td>\n",
       "      <td>...</td>\n",
       "      <td>...</td>\n",
       "      <td>...</td>\n",
       "    </tr>\n",
       "    <tr>\n",
       "      <th>95</th>\n",
       "      <td>Energy, financials drag down Indian shares in ...</td>\n",
       "      <td>Oil prices edge lower on Middle East ceasefire...</td>\n",
       "      <td>MC Exclusive: India’s first opto-semiconductor...</td>\n",
       "      <td>EC orders suspension of Telangana DGP hours af...</td>\n",
       "      <td>Are markets in a phase of consolidation ahead ...</td>\n",
       "      <td>Live: Nifty’s record run continues; GMM Pfaudl...</td>\n",
       "      <td>Salman Khan firing case update: The two suspec...</td>\n",
       "      <td>Assam Lok Sabha elections 2024: Key constituen...</td>\n",
       "      <td>India a standout performer amidst sluggish glo...</td>\n",
       "      <td>SEBI asks mutual funds why elderly citizens we...</td>\n",
       "      <td>AMCs likely to disclose risk parameters of mid...</td>\n",
       "    </tr>\n",
       "    <tr>\n",
       "      <th>96</th>\n",
       "      <td>Sensex, Nifty extend losses into 2nd day on ra...</td>\n",
       "      <td>Rupee settles on flat note at 83.31 against US...</td>\n",
       "      <td>Krystal Integrated Services squanders strong s...</td>\n",
       "      <td>Rajasthan Election Results 2023: Five key fact...</td>\n",
       "      <td>Can easing bond yields, oil prices impress Dal...</td>\n",
       "      <td>Live: Nifty ends above 20k for first time; The...</td>\n",
       "      <td>Delhi airport among top 10 busiest in the worl...</td>\n",
       "      <td>Surya Tilak: How sun kissed Ram Lalla's forehe...</td>\n",
       "      <td>Accelya Consolidated March 2024 Net Sales at R...</td>\n",
       "      <td>10 mid-cap gems that children-oriented MFs lov...</td>\n",
       "      <td>International MF schemes: Why some funds are s...</td>\n",
       "    </tr>\n",
       "    <tr>\n",
       "      <th>97</th>\n",
       "      <td>Mid and small cap stocks risk abrupt correctio...</td>\n",
       "      <td>India turns net importer of finished steel in ...</td>\n",
       "      <td>Sebi’s easing of minimum promoter contribution...</td>\n",
       "      <td>Rajasthan assembly poll results unexpected, we...</td>\n",
       "      <td>Q2 results, oil prices, and FII flows on radar...</td>\n",
       "      <td>Live: Nifty set for choppy ride at record; Mak...</td>\n",
       "      <td>Ankur Warikoo loses 10 kg in 1 year to become ...</td>\n",
       "      <td>Centre lauds ex-PM Narasimha Rao, Manmohan Sin...</td>\n",
       "      <td>TV18 Broadcast Consolidated March 2024 Net Sal...</td>\n",
       "      <td>How to make the best use of NPS investment cho...</td>\n",
       "      <td>Cash levels of smallcap funds steady even as s...</td>\n",
       "    </tr>\n",
       "    <tr>\n",
       "      <th>98</th>\n",
       "      <td>Markets fall in early trade after five-day rally</td>\n",
       "      <td>Moneycontrol Pro Panorama | Year of the consumer</td>\n",
       "      <td>Krystal Integrated Services listing tops estim...</td>\n",
       "      <td>Assembly Election Results 2023: PM hails ‘Jant...</td>\n",
       "      <td>Cello World listing, FPI sell off, Vedanta $1....</td>\n",
       "      <td>Live: Nifty tops 19,700 as bulls charge ahead;...</td>\n",
       "      <td>Bengaluru man's post on BMTC conductors and ch...</td>\n",
       "      <td>Moneycontrol Selects: Top stories this morning</td>\n",
       "      <td>RS Software Consolidated March 2024 Net Sales ...</td>\n",
       "      <td>Disappointed that our suggestions on strengthe...</td>\n",
       "      <td>Promoters, foreign investors drive $42-bn sell...</td>\n",
       "    </tr>\n",
       "    <tr>\n",
       "      <th>99</th>\n",
       "      <td>A $46 billion rally shows India tech woes easing</td>\n",
       "      <td>India's fuel demand hits new FY record, up abo...</td>\n",
       "      <td>Krystal Integrated Services has better-than-ex...</td>\n",
       "      <td>Rajasthan polls: Sachin Pilot wins from Tonk w...</td>\n",
       "      <td>US Fed Rate decision, Heromotocorp and JK Tyre...</td>\n",
       "      <td>Live: Nifty Above 19600; What Next? TCS, Paytm...</td>\n",
       "      <td>IPL 2024: Mahesh Bhupathi calls for RCB's sale...</td>\n",
       "      <td>IndiGo, Air India flights to Dubai affected du...</td>\n",
       "      <td>Infosys Consolidated March 2024 Net Sales at R...</td>\n",
       "      <td>March 31 deadline: MF investors must re-do KYC...</td>\n",
       "      <td>Tax saving: Five tips to get the best from you...</td>\n",
       "    </tr>\n",
       "  </tbody>\n",
       "</table>\n",
       "<p>100 rows × 11 columns</p>\n",
       "</div>"
      ],
      "text/plain": [
       "                                           nifty-news  \\\n",
       "0   Why Nifty Next 50 is emerging as the hottest s...   \n",
       "1   Sensex settles above 75,000-mark for first tim...   \n",
       "2   Opening bell: Sensex, Nifty plunges ahead of R...   \n",
       "3   Stock market today: Sensex surges 350 point to...   \n",
       "4   Closing bell: Sensex decline around 100 points...   \n",
       "..                                                ...   \n",
       "95  Energy, financials drag down Indian shares in ...   \n",
       "96  Sensex, Nifty extend losses into 2nd day on ra...   \n",
       "97  Mid and small cap stocks risk abrupt correctio...   \n",
       "98   Markets fall in early trade after five-day rally   \n",
       "99   A $46 billion rally shows India tech woes easing   \n",
       "\n",
       "                                              economy  \\\n",
       "0   India govt open to selling stake in GIC Re, LI...   \n",
       "1             Business in the Week Ahead: April 22-26   \n",
       "2   Russia squeezes Mideast, OPEC shares in India'...   \n",
       "3   India a standout performer amidst sluggish glo...   \n",
       "4           How to add mojo to India’s goods exports?   \n",
       "..                                                ...   \n",
       "95  Oil prices edge lower on Middle East ceasefire...   \n",
       "96  Rupee settles on flat note at 83.31 against US...   \n",
       "97  India turns net importer of finished steel in ...   \n",
       "98   Moneycontrol Pro Panorama | Year of the consumer   \n",
       "99  India's fuel demand hits new FY record, up abo...   \n",
       "\n",
       "                                                  ipo  \\\n",
       "0   Vodafone Idea FPO booked 43% on Day 2, QIBs in...   \n",
       "1             Business in the Week Ahead: April 22-26   \n",
       "2   Kronox Lab Sciences receives Sebi approval to ...   \n",
       "3   SME IPO action: Ramdevbaba Solvent subscribed ...   \n",
       "4   Vodafone Idea FPO opens, subscribed 26% so far...   \n",
       "..                                                ...   \n",
       "95  MC Exclusive: India’s first opto-semiconductor...   \n",
       "96  Krystal Integrated Services squanders strong s...   \n",
       "97  Sebi’s easing of minimum promoter contribution...   \n",
       "98  Krystal Integrated Services listing tops estim...   \n",
       "99  Krystal Integrated Services has better-than-ex...   \n",
       "\n",
       "                                         election2024  \\\n",
       "0   Liquidity deficit in banking system to narrow ...   \n",
       "1   Household Consumption Survey: A worrying conce...   \n",
       "2   World Street | Britain, Japan in recession, Ci...   \n",
       "3   RS polls: Bachchan and Ranjan are not among PD...   \n",
       "4   Don't require Nitish Kumar; Mahagathbandhan wi...   \n",
       "..                                                ...   \n",
       "95  EC orders suspension of Telangana DGP hours af...   \n",
       "96  Rajasthan Election Results 2023: Five key fact...   \n",
       "97  Rajasthan assembly poll results unexpected, we...   \n",
       "98  Assembly Election Results 2023: PM hails ‘Jant...   \n",
       "99  Rajasthan polls: Sachin Pilot wins from Tonk w...   \n",
       "\n",
       "                                           market-min  \\\n",
       "0   Nifty, Sensex may fall on reports of blasts in...   \n",
       "1   Will cautious Fed commentary, Israel-Iran tens...   \n",
       "2   Markets to see increased volatility on Israel-...   \n",
       "3   To invest or stay out as equities, gold run re...   \n",
       "4   Another record high on the horizon for Nifty? ...   \n",
       "..                                                ...   \n",
       "95  Are markets in a phase of consolidation ahead ...   \n",
       "96  Can easing bond yields, oil prices impress Dal...   \n",
       "97  Q2 results, oil prices, and FII flows on radar...   \n",
       "98  Cello World listing, FPI sell off, Vedanta $1....   \n",
       "99  US Fed Rate decision, Heromotocorp and JK Tyre...   \n",
       "\n",
       "                                        morning-trade  \\\n",
       "0   Live: Will Nifty reclaim 22,200 or test 22,000...   \n",
       "1   Live: Indian market poised to clock new highs ...   \n",
       "2   Live: Nifty poised to extend record run; Shoul...   \n",
       "3   Live: Nifty braces for another see-saw session...   \n",
       "4   Live: Will private banks take Nifty to greater...   \n",
       "..                                                ...   \n",
       "95  Live: Nifty’s record run continues; GMM Pfaudl...   \n",
       "96  Live: Nifty ends above 20k for first time; The...   \n",
       "97  Live: Nifty set for choppy ride at record; Mak...   \n",
       "98  Live: Nifty tops 19,700 as bulls charge ahead;...   \n",
       "99  Live: Nifty Above 19600; What Next? TCS, Paytm...   \n",
       "\n",
       "                                               trends  \\\n",
       "0   Rs 4.17 lakh expense to attend wife's friend's...   \n",
       "1   When Elon Musk visited Taj Mahal in 2007: 'Tru...   \n",
       "2   Woman sues Disneyland after collision with 'Go...   \n",
       "3   Passengers carry gold worth Rs 1.21 crore in r...   \n",
       "4   Meet Aitana, a pink-haired model who earns up ...   \n",
       "..                                                ...   \n",
       "95  Salman Khan firing case update: The two suspec...   \n",
       "96  Delhi airport among top 10 busiest in the worl...   \n",
       "97  Ankur Warikoo loses 10 kg in 1 year to become ...   \n",
       "98  Bengaluru man's post on BMTC conductors and ch...   \n",
       "99  IPL 2024: Mahesh Bhupathi calls for RCB's sale...   \n",
       "\n",
       "                                     indian-political  \\\n",
       "0   LIVE: Wipro Management On Wipro Q4 Earnings & ...   \n",
       "1   Philippines gets BrahMos missiles from India a...   \n",
       "2   Azim Premji and son Rishad re-appointed on the...   \n",
       "3   'Only three mangoes in ...\", Arvind Kejriwal's...   \n",
       "4   Rohit Srivastava on derivatives positioning, F...   \n",
       "..                                                ...   \n",
       "95  Assam Lok Sabha elections 2024: Key constituen...   \n",
       "96  Surya Tilak: How sun kissed Ram Lalla's forehe...   \n",
       "97  Centre lauds ex-PM Narasimha Rao, Manmohan Sin...   \n",
       "98     Moneycontrol Selects: Top stories this morning   \n",
       "99  IndiGo, Air India flights to Dubai affected du...   \n",
       "\n",
       "                                             business  \\\n",
       "0      Moneycontrol Selects: Top stories this evening   \n",
       "1           PMS or Mutual Funds? How returns compared   \n",
       "2   India govt open to selling stake in GIC Re, LI...   \n",
       "3   MC Pro Quick Take | Wipro Q4: In-line executio...   \n",
       "4   LIVE: Wipro Management On Wipro Q4 Earnings & ...   \n",
       "..                                                ...   \n",
       "95  India a standout performer amidst sluggish glo...   \n",
       "96  Accelya Consolidated March 2024 Net Sales at R...   \n",
       "97  TV18 Broadcast Consolidated March 2024 Net Sal...   \n",
       "98  RS Software Consolidated March 2024 Net Sales ...   \n",
       "99  Infosys Consolidated March 2024 Net Sales at R...   \n",
       "\n",
       "                                     personal-finance  \\\n",
       "0   Loan against securities: Punjab National Bank,...   \n",
       "1   These 15 high-PE stocks make your midcap funds...   \n",
       "2   Bull-run dilemma: Should you prepay home loan ...   \n",
       "3   Planning to study abroad? Here's how to maximi...   \n",
       "4   The new Axis Bank Shoppers Stop credit card: K...   \n",
       "..                                                ...   \n",
       "95  SEBI asks mutual funds why elderly citizens we...   \n",
       "96  10 mid-cap gems that children-oriented MFs lov...   \n",
       "97  How to make the best use of NPS investment cho...   \n",
       "98  Disappointed that our suggestions on strengthe...   \n",
       "99  March 31 deadline: MF investors must re-do KYC...   \n",
       "\n",
       "                                          mutual-fund  \n",
       "0   These 15 high-PE stocks make your midcap funds...  \n",
       "1   India should see $3 trn capital flows in the n...  \n",
       "2   Mutual fund stress test round 2: And the winne...  \n",
       "3   Mutual fund stress test: Which funds showed bi...  \n",
       "4   MF Stress Test Round 2: Have top small-cap fun...  \n",
       "..                                                ...  \n",
       "95  AMCs likely to disclose risk parameters of mid...  \n",
       "96  International MF schemes: Why some funds are s...  \n",
       "97  Cash levels of smallcap funds steady even as s...  \n",
       "98  Promoters, foreign investors drive $42-bn sell...  \n",
       "99  Tax saving: Five tips to get the best from you...  \n",
       "\n",
       "[100 rows x 11 columns]"
      ]
     },
     "execution_count": 346,
     "metadata": {},
     "output_type": "execute_result"
    }
   ],
   "source": [
    "import pandas as pd\n",
    "\n",
    "final_data={'nifty-news':nifty ,'economy':economy,'ipo':ipo,'election2024':election2024,'market-min':market_min,'morning-trade':morning_trade,'trends':trends,'indian-political':indian_political,'business':business,'personal-finance':personal_finance,'mutual-fund':mutualFund}\n",
    "\n",
    "\n",
    "df=pd.DataFrame(final_data)\n",
    "df\n",
    "\n"
   ]
  },
  {
   "cell_type": "code",
   "execution_count": null,
   "id": "7627f10a",
   "metadata": {},
   "outputs": [],
   "source": []
  }
 ],
 "metadata": {
  "kernelspec": {
   "display_name": "Python 3 (ipykernel)",
   "language": "python",
   "name": "python3"
  },
  "language_info": {
   "codemirror_mode": {
    "name": "ipython",
    "version": 3
   },
   "file_extension": ".py",
   "mimetype": "text/x-python",
   "name": "python",
   "nbconvert_exporter": "python",
   "pygments_lexer": "ipython3",
   "version": "3.12.3"
  }
 },
 "nbformat": 4,
 "nbformat_minor": 5
}
