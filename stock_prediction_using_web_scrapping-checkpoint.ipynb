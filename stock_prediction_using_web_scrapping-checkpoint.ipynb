{
 "cells": [
  {
   "cell_type": "markdown",
   "id": "eeb47dfc",
   "metadata": {},
   "source": [
    "# NIFTY-50 -STOCK PREDICTION \n"
   ]
  },
  {
   "cell_type": "markdown",
   "id": "3e94512a",
   "metadata": {},
   "source": [
    "web scrapping for getting the data "
   ]
  },
  {
   "cell_type": "code",
   "execution_count": 90,
   "id": "16adbc28",
   "metadata": {},
   "outputs": [],
   "source": [
    "import pandas as pd\n",
    "import requests "
   ]
  },
  {
   "cell_type": "code",
   "execution_count": 91,
   "id": "77ae13aa",
   "metadata": {},
   "outputs": [],
   "source": [
    "from bs4 import BeautifulSoup\n"
   ]
  },
  {
   "cell_type": "code",
   "execution_count": 92,
   "id": "8c88d6ad",
   "metadata": {},
   "outputs": [],
   "source": [
    "import random\n",
    "\n",
    "dummy_depended_variables = []\n",
    "\n",
    "for i in range(1, 101):\n",
    "    temp = random.randint(0, 1)\n",
    "    dummy_depended_variables.append(temp)\n",
    "\n",
    "\n",
    "nifty=[]\n",
    "    \n",
    "for page in range(1,6):   \n",
    "    url='https://timesofindia.indiatimes.com/topic/nse-nifty/{}'.format(page)\n",
    "    web=requests.get(url).text\n",
    "\n",
    "    soup=BeautifulSoup(web,'lxml')\n",
    "    data=soup.find_all('div',class_=\"uwU81\")\n",
    "  \n",
    "    \n",
    "    for i in data:\n",
    "        nifty.append(i.find(\"span\").text.strip())\n",
    "        \n",
    "\n",
    "\n"
   ]
  },
  {
   "cell_type": "code",
   "execution_count": null,
   "id": "9eba1307",
   "metadata": {},
   "outputs": [],
   "source": [
    "\n"
   ]
  },
  {
   "cell_type": "code",
   "execution_count": 93,
   "id": "07bfae7b",
   "metadata": {},
   "outputs": [
    {
     "data": {
      "text/plain": [
       "100"
      ]
     },
     "execution_count": 93,
     "metadata": {},
     "output_type": "execute_result"
    }
   ],
   "source": [
    "len(nifty)"
   ]
  },
  {
   "cell_type": "code",
   "execution_count": 94,
   "id": "bdd6a036",
   "metadata": {},
   "outputs": [],
   "source": [
    "economy=[]\n",
    "\n",
    "for page in range(1,5):    \n",
    "\n",
    "    url='https://www.moneycontrol.com/news/business/economy/page-{}'.format(page)\n",
    "    web=requests.get(url).text\n",
    "\n",
    "    soup=BeautifulSoup(web,'lxml')\n",
    "    dataa=soup.find_all('h2')\n",
    " \n",
    "    for x in dataa:\n",
    "        a_tag=x.find('a')\n",
    "        if a_tag :\n",
    "            economy.append(x.find('a').text)\n",
    "\n",
    "    \n",
    "    \n",
    "    \n",
    "        \n",
    "    \n",
    "     \n",
    "        \n",
    "    "
   ]
  },
  {
   "cell_type": "code",
   "execution_count": 95,
   "id": "5fc30e10",
   "metadata": {},
   "outputs": [
    {
     "data": {
      "text/plain": [
       "100"
      ]
     },
     "execution_count": 95,
     "metadata": {},
     "output_type": "execute_result"
    }
   ],
   "source": [
    "len(economy)"
   ]
  },
  {
   "cell_type": "code",
   "execution_count": 96,
   "id": "01c59a6d",
   "metadata": {},
   "outputs": [],
   "source": [
    "mutualFund=[]\n",
    "\n",
    "for page in range(1,5):    \n",
    "\n",
    "    url='https://www.moneycontrol.com/news/business/mutual-funds/page-{}'.format(page)\n",
    "    web=requests.get(url).text\n",
    "\n",
    "    soup=BeautifulSoup(web,'lxml')\n",
    "    data3=soup.find_all('h2')\n",
    " \n",
    "    for x in data3:\n",
    "        \n",
    "        a_tag=x.find('a')\n",
    "        if a_tag :\n",
    "            mutualFund.append(x.find('a').text)\n",
    "\n",
    "            "
   ]
  },
  {
   "cell_type": "code",
   "execution_count": 97,
   "id": "c036b943",
   "metadata": {},
   "outputs": [
    {
     "data": {
      "text/plain": [
       "100"
      ]
     },
     "execution_count": 97,
     "metadata": {},
     "output_type": "execute_result"
    }
   ],
   "source": [
    "len(mutualFund)\n"
   ]
  },
  {
   "cell_type": "code",
   "execution_count": 98,
   "id": "b9a6b943",
   "metadata": {},
   "outputs": [],
   "source": [
    "ipo=[]\n",
    "\n",
    "for page in range(1,5):    \n",
    "\n",
    "    url='https://www.moneycontrol.com/news/business/ipo/page-{}'.format(page)\n",
    "    web=requests.get(url).text\n",
    "\n",
    "    soup=BeautifulSoup(web,'lxml')\n",
    "    data3=soup.find_all('h2')\n",
    " \n",
    "    for x in data3:\n",
    "        a_tag=x.find('a')\n",
    "        if a_tag :\n",
    "            ipo.append(x.find('a').text)\n",
    "\n",
    "\n",
    "        "
   ]
  },
  {
   "cell_type": "code",
   "execution_count": 99,
   "id": "45f66432",
   "metadata": {},
   "outputs": [
    {
     "data": {
      "text/plain": [
       "100"
      ]
     },
     "execution_count": 99,
     "metadata": {},
     "output_type": "execute_result"
    }
   ],
   "source": [
    "len(ipo)\n",
    "   "
   ]
  },
  {
   "cell_type": "code",
   "execution_count": 100,
   "id": "c65920f1",
   "metadata": {},
   "outputs": [],
   "source": [
    "personal_finance=[]\n",
    "\n",
    "\n",
    "for page in range(1,5):    \n",
    "\n",
    "    url='https://www.moneycontrol.com/news/business/personal-finance//page-{}'.format(page)\n",
    "    web=requests.get(url).text\n",
    "\n",
    "    soup=BeautifulSoup(web,'lxml')\n",
    "    data4=soup.find_all('h2')\n",
    " \n",
    "    for x in data4:\n",
    "        a_tag=x.find('a')\n",
    "        if a_tag :\n",
    "            personal_finance.append(x.find('a').text)\n",
    "\n",
    "     \n",
    "\n",
    "            "
   ]
  },
  {
   "cell_type": "code",
   "execution_count": 101,
   "id": "ca282c0a",
   "metadata": {},
   "outputs": [
    {
     "data": {
      "text/plain": [
       "100"
      ]
     },
     "execution_count": 101,
     "metadata": {},
     "output_type": "execute_result"
    }
   ],
   "source": [
    "len(personal_finance)"
   ]
  },
  {
   "cell_type": "code",
   "execution_count": 102,
   "id": "e2261c1e",
   "metadata": {},
   "outputs": [],
   "source": [
    "business=[]\n",
    "\n",
    "\n",
    "for page in range(1,5):    \n",
    "\n",
    "    url='https://www.moneycontrol.com/news/business//page-{}'.format(page)\n",
    "    web=requests.get(url).text\n",
    "\n",
    "    soup=BeautifulSoup(web,'lxml')\n",
    "    data4=soup.find_all('h2')\n",
    " \n",
    "    for x in data4:\n",
    "        a_tag=x.find('a')\n",
    "        if a_tag :\n",
    "            business.append(x.find('a').text)\n",
    "    \n",
    "    \n",
    "            "
   ]
  },
  {
   "cell_type": "code",
   "execution_count": 103,
   "id": "2c32f57c",
   "metadata": {},
   "outputs": [
    {
     "data": {
      "text/plain": [
       "100"
      ]
     },
     "execution_count": 103,
     "metadata": {},
     "output_type": "execute_result"
    }
   ],
   "source": [
    "len(business)"
   ]
  },
  {
   "cell_type": "code",
   "execution_count": 104,
   "id": "667474ea",
   "metadata": {},
   "outputs": [],
   "source": [
    "indian_political=[]\n",
    "\n",
    "\n",
    "for page in range(1,5):    \n",
    "\n",
    "    url=' https://www.moneycontrol.com/news/india/page-{}'.format(page)\n",
    "    web=requests.get(url).text\n",
    "\n",
    "    soup=BeautifulSoup(web,'lxml')\n",
    "    data4=soup.find_all('h2')\n",
    " \n",
    "    for x in data4:\n",
    "        a_tag=x.find('a')\n",
    "        if a_tag :\n",
    "            indian_political.append(x.find('a').text)\n",
    "    \n",
    "   "
   ]
  },
  {
   "cell_type": "code",
   "execution_count": 105,
   "id": "05bb4d73",
   "metadata": {},
   "outputs": [
    {
     "data": {
      "text/plain": [
       "100"
      ]
     },
     "execution_count": 105,
     "metadata": {},
     "output_type": "execute_result"
    }
   ],
   "source": [
    "len(indian_political)"
   ]
  },
  {
   "cell_type": "code",
   "execution_count": 106,
   "id": "0c0843e1",
   "metadata": {},
   "outputs": [],
   "source": [
    "trends=[]\n",
    "\n",
    "\n",
    "for page in range(1,5):    \n",
    "\n",
    "    url='https://www.moneycontrol.com/news/trends/page-{}'.format(page)\n",
    "    web=requests.get(url).text\n",
    "\n",
    "    soup=BeautifulSoup(web,'lxml')\n",
    "    data4=soup.find_all('h2')\n",
    " \n",
    "    for x in data4:\n",
    "        a_tag=x.find('a')\n",
    "        if a_tag :\n",
    "            trends.append(x.find('a').text)\n",
    "    \n",
    "    \n",
    "    \n",
    "   "
   ]
  },
  {
   "cell_type": "code",
   "execution_count": 107,
   "id": "951cbc9a",
   "metadata": {},
   "outputs": [
    {
     "data": {
      "text/plain": [
       "100"
      ]
     },
     "execution_count": 107,
     "metadata": {},
     "output_type": "execute_result"
    }
   ],
   "source": [
    "len(trends)"
   ]
  },
  {
   "cell_type": "code",
   "execution_count": 108,
   "id": "4fdc3aad",
   "metadata": {},
   "outputs": [],
   "source": [
    "currency=[]\n",
    "\n",
    "\n",
    "\n",
    "for page in range(1,6):    \n",
    "\n",
    "    url='https://www.moneycontrol.com/news/tags/currency.html/page-{}'.format(page)\n",
    "    web=requests.get(url).text\n",
    "\n",
    "    soup=BeautifulSoup(web,'lxml')\n",
    "    data4=soup.find_all('h2')\n",
    " \n",
    "    for x in data4:\n",
    "        a_tag=x.find('a')\n",
    "        if a_tag :\n",
    "            currency.append(x.find('a').text)\n",
    "    \n",
    "     \n",
    "    \n",
    "    \n",
    "   "
   ]
  },
  {
   "cell_type": "code",
   "execution_count": 109,
   "id": "a22318a4",
   "metadata": {},
   "outputs": [
    {
     "data": {
      "text/plain": [
       "105"
      ]
     },
     "execution_count": 109,
     "metadata": {},
     "output_type": "execute_result"
    }
   ],
   "source": [
    "len(currency)"
   ]
  },
  {
   "cell_type": "code",
   "execution_count": 110,
   "id": "f190a9c6",
   "metadata": {},
   "outputs": [],
   "source": [
    "morning_trade=[]\n",
    "\n",
    "\n",
    "\n",
    "for page in range(1,5):    \n",
    "\n",
    "    url='https://www.moneycontrol.com/shows/morning-trade/page-{}'.format(page)\n",
    "    web=requests.get(url).text\n",
    "\n",
    "    soup=BeautifulSoup(web,'lxml')\n",
    "    data4=soup.find_all('h2')\n",
    " \n",
    "    for x in data4:\n",
    "        a_tag=x.find('a')\n",
    "        if a_tag :\n",
    "            morning_trade.append(x.find('a').text)\n",
    "    \n",
    "    \n",
    "    \n",
    "     "
   ]
  },
  {
   "cell_type": "code",
   "execution_count": 111,
   "id": "f1b8752c",
   "metadata": {},
   "outputs": [
    {
     "data": {
      "text/plain": [
       "100"
      ]
     },
     "execution_count": 111,
     "metadata": {},
     "output_type": "execute_result"
    }
   ],
   "source": [
    "len(morning_trade)"
   ]
  },
  {
   "cell_type": "code",
   "execution_count": 112,
   "id": "9be045a5",
   "metadata": {},
   "outputs": [],
   "source": [
    "market_min=[]\n",
    "\n",
    "\n",
    "\n",
    "for page in range(1,5):    \n",
    "\n",
    "    url=' https://www.moneycontrol.com/news/podcast/market-minutes/page-{}'.format(page)\n",
    "    web=requests.get(url).text\n",
    "\n",
    "    soup=BeautifulSoup(web,'lxml')\n",
    "    data4=soup.find_all('h2')\n",
    " \n",
    "    for x in data4:\n",
    "        a_tag=x.find('a')\n",
    "        if a_tag :\n",
    "            market_min.append(x.find('a').text)\n",
    "\n",
    "   "
   ]
  },
  {
   "cell_type": "code",
   "execution_count": 113,
   "id": "41335352",
   "metadata": {},
   "outputs": [
    {
     "data": {
      "text/plain": [
       "100"
      ]
     },
     "execution_count": 113,
     "metadata": {},
     "output_type": "execute_result"
    }
   ],
   "source": [
    "len(market_min)"
   ]
  },
  {
   "cell_type": "code",
   "execution_count": 114,
   "id": "2f588a7a",
   "metadata": {},
   "outputs": [],
   "source": [
    "election2024=[]\n",
    "\n",
    "\n",
    "\n",
    "for page in range(1,5):    \n",
    "\n",
    "    url='https://www.moneycontrol.com/news/assembly-elections/page-{}'.format(page)\n",
    "    web=requests.get(url).text\n",
    "\n",
    "    soup=BeautifulSoup(web,'lxml')\n",
    "    data4=soup.find_all('h2')\n",
    " \n",
    "    for x in data4:\n",
    "        a_tag=x.find('a')\n",
    "        if a_tag :\n",
    "            election2024.append(x.find('a').text)\n",
    "    \n",
    "    "
   ]
  },
  {
   "cell_type": "code",
   "execution_count": 115,
   "id": "3ffb4cca",
   "metadata": {},
   "outputs": [
    {
     "data": {
      "text/plain": [
       "100"
      ]
     },
     "execution_count": 115,
     "metadata": {},
     "output_type": "execute_result"
    }
   ],
   "source": [
    "len(election2024)"
   ]
  },
  {
   "cell_type": "code",
   "execution_count": 116,
   "id": "d61851fd",
   "metadata": {
    "scrolled": true
   },
   "outputs": [
    {
     "data": {
      "text/html": [
       "<div>\n",
       "<style scoped>\n",
       "    .dataframe tbody tr th:only-of-type {\n",
       "        vertical-align: middle;\n",
       "    }\n",
       "\n",
       "    .dataframe tbody tr th {\n",
       "        vertical-align: top;\n",
       "    }\n",
       "\n",
       "    .dataframe thead th {\n",
       "        text-align: right;\n",
       "    }\n",
       "</style>\n",
       "<table border=\"1\" class=\"dataframe\">\n",
       "  <thead>\n",
       "    <tr style=\"text-align: right;\">\n",
       "      <th></th>\n",
       "      <th>nifty-up-or-down</th>\n",
       "      <th>nifty-news</th>\n",
       "      <th>economy</th>\n",
       "      <th>ipo</th>\n",
       "      <th>election2024</th>\n",
       "      <th>market-min</th>\n",
       "      <th>morning-trade</th>\n",
       "      <th>trends</th>\n",
       "      <th>indian-political</th>\n",
       "      <th>business</th>\n",
       "      <th>personal-finance</th>\n",
       "      <th>mutual-fund</th>\n",
       "    </tr>\n",
       "  </thead>\n",
       "  <tbody>\n",
       "    <tr>\n",
       "      <th>0</th>\n",
       "      <td>1</td>\n",
       "      <td>Why Nifty Next 50 is emerging as the hottest s...</td>\n",
       "      <td>MC Inside Edge: Swan Energy bulls await RNEL r...</td>\n",
       "      <td>Greenhitech Ventures off to a flyer, lists at ...</td>\n",
       "      <td>Liquidity deficit in banking system to narrow ...</td>\n",
       "      <td>Q4 results, Iran-Israel war developments, FII ...</td>\n",
       "      <td>Live: Will Nifty reclaim 22,200 or test 22,000...</td>\n",
       "      <td>Earth Day 2024: Google celebrates with doodle ...</td>\n",
       "      <td>BNP Paribas initiates 'outperform' rating on D...</td>\n",
       "      <td>8 FPIs to settle matter with SEBI for alleged ...</td>\n",
       "      <td>Acko’s Individual Health Insurance policy: Cla...</td>\n",
       "      <td>The schemes that moved out of MC30 2024 and why</td>\n",
       "    </tr>\n",
       "    <tr>\n",
       "      <th>1</th>\n",
       "      <td>1</td>\n",
       "      <td>Sensex settles above 75,000-mark for first tim...</td>\n",
       "      <td>What the IMF forecasts say about India’s econo...</td>\n",
       "      <td>IPO Market Action: 4 public issues to open for...</td>\n",
       "      <td>Household Consumption Survey: A worrying conce...</td>\n",
       "      <td>Nifty, Sensex may fall on reports of blasts in...</td>\n",
       "      <td>Live: Indian market poised to clock new highs ...</td>\n",
       "      <td>Who is Gukesh D, youngest winner of Candidates...</td>\n",
       "      <td>Axis Bank's plans to raise equity capital surp...</td>\n",
       "      <td>Aditya Birla Fashion and Retail gains on board...</td>\n",
       "      <td>The schemes that moved out of MC30 2024 and why</td>\n",
       "      <td>Top mutual funds: 3 new schemes that enter Mon...</td>\n",
       "    </tr>\n",
       "    <tr>\n",
       "      <th>2</th>\n",
       "      <td>0</td>\n",
       "      <td>Opening bell: Sensex, Nifty plunges ahead of R...</td>\n",
       "      <td>MPC minutes: The many reasons for not cutting ...</td>\n",
       "      <td>Premier Energies files draft papers for IPO wi...</td>\n",
       "      <td>World Street | Britain, Japan in recession, Ci...</td>\n",
       "      <td>Will cautious Fed commentary, Israel-Iran tens...</td>\n",
       "      <td>Live: Nifty poised to extend record run; Shoul...</td>\n",
       "      <td>A slow unwinding of COVID excesses at Wipro, I...</td>\n",
       "      <td>Indian Army investing Rs 6,800 crore on should...</td>\n",
       "      <td>Gujarat State Petronet shares nosedive 20% aft...</td>\n",
       "      <td>Top mutual funds: 3 new schemes that enter Mon...</td>\n",
       "      <td>Best mutual funds: 86% of actively-managed sch...</td>\n",
       "    </tr>\n",
       "    <tr>\n",
       "      <th>3</th>\n",
       "      <td>1</td>\n",
       "      <td>Stock market today: Sensex surges 350 point to...</td>\n",
       "      <td>Moneycontrol Pro Market Outlook: Amid Middle E...</td>\n",
       "      <td>Post Ola Electric, now Ola Cabs meets investme...</td>\n",
       "      <td>RS polls: Bachchan and Ranjan are not among PD...</td>\n",
       "      <td>Markets to see increased volatility on Israel-...</td>\n",
       "      <td>Live: Nifty braces for another see-saw session...</td>\n",
       "      <td>Viswanathan Anand reacts to Gukesh D winning C...</td>\n",
       "      <td>Ghazipur Landfill Fire: Blaze continues at Del...</td>\n",
       "      <td>JSW Energy zooms to 52-week high after arm bag...</td>\n",
       "      <td>Best mutual funds: 86% of actively-managed sch...</td>\n",
       "      <td>These 15 high-PE stocks make your midcap funds...</td>\n",
       "    </tr>\n",
       "    <tr>\n",
       "      <th>4</th>\n",
       "      <td>0</td>\n",
       "      <td>Closing bell: Sensex decline around 100 points...</td>\n",
       "      <td>India bats for designing regional ocean observ...</td>\n",
       "      <td>Sanathan Textiles refiles draft papers to rais...</td>\n",
       "      <td>Don't require Nitish Kumar; Mahagathbandhan wi...</td>\n",
       "      <td>To invest or stay out as equities, gold run re...</td>\n",
       "      <td>Live: Will private banks take Nifty to greater...</td>\n",
       "      <td>Karnataka's Nandini to unveil whey-based energ...</td>\n",
       "      <td>FIIs rush in for power sector shares in April,...</td>\n",
       "      <td>HDFC Bank: Q4 reportcard indicates preference ...</td>\n",
       "      <td>Loan against securities: Punjab National Bank,...</td>\n",
       "      <td>India should see $3 trn capital flows in the n...</td>\n",
       "    </tr>\n",
       "    <tr>\n",
       "      <th>...</th>\n",
       "      <td>...</td>\n",
       "      <td>...</td>\n",
       "      <td>...</td>\n",
       "      <td>...</td>\n",
       "      <td>...</td>\n",
       "      <td>...</td>\n",
       "      <td>...</td>\n",
       "      <td>...</td>\n",
       "      <td>...</td>\n",
       "      <td>...</td>\n",
       "      <td>...</td>\n",
       "      <td>...</td>\n",
       "    </tr>\n",
       "    <tr>\n",
       "      <th>95</th>\n",
       "      <td>1</td>\n",
       "      <td>Sensex, Nifty extend losses into 2nd day on ra...</td>\n",
       "      <td>Congress manifesto offers alternative ideology...</td>\n",
       "      <td>Executive startup founders holding more than 1...</td>\n",
       "      <td>EC orders suspension of Telangana DGP hours af...</td>\n",
       "      <td>Will Powell's hawkish remarks hurt Street's fe...</td>\n",
       "      <td>Live: Nifty’s record run continues; GMM Pfaudl...</td>\n",
       "      <td>In Knife: Meditations After An Attempted Murde...</td>\n",
       "      <td>Assets worth Rs 810 crores: Massive jump in TD...</td>\n",
       "      <td>BSP announces names of candidate for four Lok ...</td>\n",
       "      <td>HDFC Bank raises new home loan rates even as r...</td>\n",
       "      <td>Microcap multibagger pharma stocks that MFs ad...</td>\n",
       "    </tr>\n",
       "    <tr>\n",
       "      <th>96</th>\n",
       "      <td>0</td>\n",
       "      <td>Energy, financials drag down Indian shares in ...</td>\n",
       "      <td>India inflation likely cooled in March, albeit...</td>\n",
       "      <td>Vijay Kedia-backed Tac Security to be India's ...</td>\n",
       "      <td>Rajasthan Election Results 2023: Five key fact...</td>\n",
       "      <td>Are markets in a phase of consolidation ahead ...</td>\n",
       "      <td>Live: Nifty ends above 20k for first time; The...</td>\n",
       "      <td>Ex-Google, Amazon recruiters advise job seeker...</td>\n",
       "      <td>There will be chaos if we entertain pleas agai...</td>\n",
       "      <td>Country punishing Congress for its 'sins': PM ...</td>\n",
       "      <td>Four financial planning mistakes you should av...</td>\n",
       "      <td>Will SEBI advisory impact investing strategy o...</td>\n",
       "    </tr>\n",
       "    <tr>\n",
       "      <th>97</th>\n",
       "      <td>0</td>\n",
       "      <td>Mid and small cap stocks risk abrupt correctio...</td>\n",
       "      <td>India's February silver imports hit record and...</td>\n",
       "      <td>No, Reddit is not a meme stock</td>\n",
       "      <td>Rajasthan assembly poll results unexpected, we...</td>\n",
       "      <td>Can easing bond yields, oil prices impress Dal...</td>\n",
       "      <td>Live: Nifty set for choppy ride at record; Mak...</td>\n",
       "      <td>'Incorrect analogy': Jet Airways ex-CEO design...</td>\n",
       "      <td>This election's aim is to make India a major g...</td>\n",
       "      <td>Congress must rethink its alliance with NC, sa...</td>\n",
       "      <td>The Money Calendar 2024-25: Keep up with inves...</td>\n",
       "      <td>How soon can you sell your small and midcap st...</td>\n",
       "    </tr>\n",
       "    <tr>\n",
       "      <th>98</th>\n",
       "      <td>1</td>\n",
       "      <td>Markets fall in early trade after five-day rally</td>\n",
       "      <td>Mismatch in HRA claims: No special drive launc...</td>\n",
       "      <td>Enser Communications lists at 2.9% premium to ...</td>\n",
       "      <td>Assembly Election Results 2023: PM hails ‘Jant...</td>\n",
       "      <td>Q2 results, oil prices, and FII flows on radar...</td>\n",
       "      <td>Live: Nifty tops 19,700 as bulls charge ahead;...</td>\n",
       "      <td>Ram Navami 2024: Expert breaks down execution ...</td>\n",
       "      <td>India ready to take next steps to become a sci...</td>\n",
       "      <td>LS polls: BJP banks on 'Modi magic,' 'developm...</td>\n",
       "      <td>Over 73% active mid/small-cap funds fail to be...</td>\n",
       "      <td>AMCs likely to disclose risk parameters of mid...</td>\n",
       "    </tr>\n",
       "    <tr>\n",
       "      <th>99</th>\n",
       "      <td>1</td>\n",
       "      <td>A $46 billion rally shows India tech woes easing</td>\n",
       "      <td>Stocks rise as oil cools; Treasury yields hit ...</td>\n",
       "      <td>Enfuse Solutions makes positive debut on NSE S...</td>\n",
       "      <td>Rajasthan polls: Sachin Pilot wins from Tonk w...</td>\n",
       "      <td>Cello World listing, FPI sell off, Vedanta $1....</td>\n",
       "      <td>Live: Nifty Above 19600; What Next? TCS, Paytm...</td>\n",
       "      <td>Salman Khan House Security Breach: 2 arrested ...</td>\n",
       "      <td>Election Wrap: India turns up for first phase ...</td>\n",
       "      <td>'Feel betrayed': Ex-India hockey captain Prabo...</td>\n",
       "      <td>SEBI asks mutual funds why elderly citizens we...</td>\n",
       "      <td>International MF schemes: Why some funds are s...</td>\n",
       "    </tr>\n",
       "  </tbody>\n",
       "</table>\n",
       "<p>100 rows × 12 columns</p>\n",
       "</div>"
      ],
      "text/plain": [
       "    nifty-up-or-down                                         nifty-news  \\\n",
       "0                  1  Why Nifty Next 50 is emerging as the hottest s...   \n",
       "1                  1  Sensex settles above 75,000-mark for first tim...   \n",
       "2                  0  Opening bell: Sensex, Nifty plunges ahead of R...   \n",
       "3                  1  Stock market today: Sensex surges 350 point to...   \n",
       "4                  0  Closing bell: Sensex decline around 100 points...   \n",
       "..               ...                                                ...   \n",
       "95                 1  Sensex, Nifty extend losses into 2nd day on ra...   \n",
       "96                 0  Energy, financials drag down Indian shares in ...   \n",
       "97                 0  Mid and small cap stocks risk abrupt correctio...   \n",
       "98                 1   Markets fall in early trade after five-day rally   \n",
       "99                 1   A $46 billion rally shows India tech woes easing   \n",
       "\n",
       "                                              economy  \\\n",
       "0   MC Inside Edge: Swan Energy bulls await RNEL r...   \n",
       "1   What the IMF forecasts say about India’s econo...   \n",
       "2   MPC minutes: The many reasons for not cutting ...   \n",
       "3   Moneycontrol Pro Market Outlook: Amid Middle E...   \n",
       "4   India bats for designing regional ocean observ...   \n",
       "..                                                ...   \n",
       "95  Congress manifesto offers alternative ideology...   \n",
       "96  India inflation likely cooled in March, albeit...   \n",
       "97  India's February silver imports hit record and...   \n",
       "98  Mismatch in HRA claims: No special drive launc...   \n",
       "99  Stocks rise as oil cools; Treasury yields hit ...   \n",
       "\n",
       "                                                  ipo  \\\n",
       "0   Greenhitech Ventures off to a flyer, lists at ...   \n",
       "1   IPO Market Action: 4 public issues to open for...   \n",
       "2   Premier Energies files draft papers for IPO wi...   \n",
       "3   Post Ola Electric, now Ola Cabs meets investme...   \n",
       "4   Sanathan Textiles refiles draft papers to rais...   \n",
       "..                                                ...   \n",
       "95  Executive startup founders holding more than 1...   \n",
       "96  Vijay Kedia-backed Tac Security to be India's ...   \n",
       "97                    No, Reddit is not a meme stock    \n",
       "98  Enser Communications lists at 2.9% premium to ...   \n",
       "99  Enfuse Solutions makes positive debut on NSE S...   \n",
       "\n",
       "                                         election2024  \\\n",
       "0   Liquidity deficit in banking system to narrow ...   \n",
       "1   Household Consumption Survey: A worrying conce...   \n",
       "2   World Street | Britain, Japan in recession, Ci...   \n",
       "3   RS polls: Bachchan and Ranjan are not among PD...   \n",
       "4   Don't require Nitish Kumar; Mahagathbandhan wi...   \n",
       "..                                                ...   \n",
       "95  EC orders suspension of Telangana DGP hours af...   \n",
       "96  Rajasthan Election Results 2023: Five key fact...   \n",
       "97  Rajasthan assembly poll results unexpected, we...   \n",
       "98  Assembly Election Results 2023: PM hails ‘Jant...   \n",
       "99  Rajasthan polls: Sachin Pilot wins from Tonk w...   \n",
       "\n",
       "                                           market-min  \\\n",
       "0   Q4 results, Iran-Israel war developments, FII ...   \n",
       "1   Nifty, Sensex may fall on reports of blasts in...   \n",
       "2   Will cautious Fed commentary, Israel-Iran tens...   \n",
       "3   Markets to see increased volatility on Israel-...   \n",
       "4   To invest or stay out as equities, gold run re...   \n",
       "..                                                ...   \n",
       "95  Will Powell's hawkish remarks hurt Street's fe...   \n",
       "96  Are markets in a phase of consolidation ahead ...   \n",
       "97  Can easing bond yields, oil prices impress Dal...   \n",
       "98  Q2 results, oil prices, and FII flows on radar...   \n",
       "99  Cello World listing, FPI sell off, Vedanta $1....   \n",
       "\n",
       "                                        morning-trade  \\\n",
       "0   Live: Will Nifty reclaim 22,200 or test 22,000...   \n",
       "1   Live: Indian market poised to clock new highs ...   \n",
       "2   Live: Nifty poised to extend record run; Shoul...   \n",
       "3   Live: Nifty braces for another see-saw session...   \n",
       "4   Live: Will private banks take Nifty to greater...   \n",
       "..                                                ...   \n",
       "95  Live: Nifty’s record run continues; GMM Pfaudl...   \n",
       "96  Live: Nifty ends above 20k for first time; The...   \n",
       "97  Live: Nifty set for choppy ride at record; Mak...   \n",
       "98  Live: Nifty tops 19,700 as bulls charge ahead;...   \n",
       "99  Live: Nifty Above 19600; What Next? TCS, Paytm...   \n",
       "\n",
       "                                               trends  \\\n",
       "0   Earth Day 2024: Google celebrates with doodle ...   \n",
       "1   Who is Gukesh D, youngest winner of Candidates...   \n",
       "2   A slow unwinding of COVID excesses at Wipro, I...   \n",
       "3   Viswanathan Anand reacts to Gukesh D winning C...   \n",
       "4   Karnataka's Nandini to unveil whey-based energ...   \n",
       "..                                                ...   \n",
       "95  In Knife: Meditations After An Attempted Murde...   \n",
       "96  Ex-Google, Amazon recruiters advise job seeker...   \n",
       "97  'Incorrect analogy': Jet Airways ex-CEO design...   \n",
       "98  Ram Navami 2024: Expert breaks down execution ...   \n",
       "99  Salman Khan House Security Breach: 2 arrested ...   \n",
       "\n",
       "                                     indian-political  \\\n",
       "0   BNP Paribas initiates 'outperform' rating on D...   \n",
       "1   Axis Bank's plans to raise equity capital surp...   \n",
       "2   Indian Army investing Rs 6,800 crore on should...   \n",
       "3   Ghazipur Landfill Fire: Blaze continues at Del...   \n",
       "4   FIIs rush in for power sector shares in April,...   \n",
       "..                                                ...   \n",
       "95  Assets worth Rs 810 crores: Massive jump in TD...   \n",
       "96  There will be chaos if we entertain pleas agai...   \n",
       "97  This election's aim is to make India a major g...   \n",
       "98  India ready to take next steps to become a sci...   \n",
       "99  Election Wrap: India turns up for first phase ...   \n",
       "\n",
       "                                             business  \\\n",
       "0   8 FPIs to settle matter with SEBI for alleged ...   \n",
       "1   Aditya Birla Fashion and Retail gains on board...   \n",
       "2   Gujarat State Petronet shares nosedive 20% aft...   \n",
       "3   JSW Energy zooms to 52-week high after arm bag...   \n",
       "4   HDFC Bank: Q4 reportcard indicates preference ...   \n",
       "..                                                ...   \n",
       "95  BSP announces names of candidate for four Lok ...   \n",
       "96  Country punishing Congress for its 'sins': PM ...   \n",
       "97  Congress must rethink its alliance with NC, sa...   \n",
       "98  LS polls: BJP banks on 'Modi magic,' 'developm...   \n",
       "99  'Feel betrayed': Ex-India hockey captain Prabo...   \n",
       "\n",
       "                                     personal-finance  \\\n",
       "0   Acko’s Individual Health Insurance policy: Cla...   \n",
       "1     The schemes that moved out of MC30 2024 and why   \n",
       "2   Top mutual funds: 3 new schemes that enter Mon...   \n",
       "3   Best mutual funds: 86% of actively-managed sch...   \n",
       "4   Loan against securities: Punjab National Bank,...   \n",
       "..                                                ...   \n",
       "95  HDFC Bank raises new home loan rates even as r...   \n",
       "96  Four financial planning mistakes you should av...   \n",
       "97  The Money Calendar 2024-25: Keep up with inves...   \n",
       "98  Over 73% active mid/small-cap funds fail to be...   \n",
       "99  SEBI asks mutual funds why elderly citizens we...   \n",
       "\n",
       "                                          mutual-fund  \n",
       "0     The schemes that moved out of MC30 2024 and why  \n",
       "1   Top mutual funds: 3 new schemes that enter Mon...  \n",
       "2   Best mutual funds: 86% of actively-managed sch...  \n",
       "3   These 15 high-PE stocks make your midcap funds...  \n",
       "4   India should see $3 trn capital flows in the n...  \n",
       "..                                                ...  \n",
       "95  Microcap multibagger pharma stocks that MFs ad...  \n",
       "96  Will SEBI advisory impact investing strategy o...  \n",
       "97  How soon can you sell your small and midcap st...  \n",
       "98  AMCs likely to disclose risk parameters of mid...  \n",
       "99  International MF schemes: Why some funds are s...  \n",
       "\n",
       "[100 rows x 12 columns]"
      ]
     },
     "execution_count": 116,
     "metadata": {},
     "output_type": "execute_result"
    }
   ],
   "source": [
    "import pandas as pd\n",
    "\n",
    "final_data={'nifty-up-or-down':dummy_depended_variables,'nifty-news':nifty ,'economy':economy,'ipo':ipo,'election2024':election2024,'market-min':market_min,'morning-trade':morning_trade,'trends':trends,'indian-political':indian_political,'business':business,'personal-finance':personal_finance,'mutual-fund':mutualFund}\n",
    "\n",
    "\n",
    "df=pd.DataFrame(final_data)\n",
    "df\n",
    "\n"
   ]
  },
  {
   "cell_type": "markdown",
   "id": "7d137ffb",
   "metadata": {},
   "source": [
    "text-preprocessing "
   ]
  },
  {
   "cell_type": "code",
   "execution_count": 117,
   "id": "b2f8b0dc",
   "metadata": {},
   "outputs": [],
   "source": [
    "df.head(4)\n",
    "data=df\n"
   ]
  },
  {
   "cell_type": "code",
   "execution_count": 118,
   "id": "ca0b08ea",
   "metadata": {},
   "outputs": [],
   "source": [
    "\n",
    "# list1 = [i for i in range(12)]\n",
    "# new_index = [str(i) for i in list1]\n",
    "\n",
    "\n",
    "# data.columns=new_index"
   ]
  },
  {
   "cell_type": "code",
   "execution_count": 119,
   "id": "6629a829",
   "metadata": {},
   "outputs": [
    {
     "data": {
      "text/html": [
       "<div>\n",
       "<style scoped>\n",
       "    .dataframe tbody tr th:only-of-type {\n",
       "        vertical-align: middle;\n",
       "    }\n",
       "\n",
       "    .dataframe tbody tr th {\n",
       "        vertical-align: top;\n",
       "    }\n",
       "\n",
       "    .dataframe thead th {\n",
       "        text-align: right;\n",
       "    }\n",
       "</style>\n",
       "<table border=\"1\" class=\"dataframe\">\n",
       "  <thead>\n",
       "    <tr style=\"text-align: right;\">\n",
       "      <th></th>\n",
       "      <th>nifty-up-or-down</th>\n",
       "      <th>nifty-news</th>\n",
       "      <th>economy</th>\n",
       "      <th>ipo</th>\n",
       "      <th>election2024</th>\n",
       "      <th>market-min</th>\n",
       "      <th>morning-trade</th>\n",
       "      <th>trends</th>\n",
       "      <th>indian-political</th>\n",
       "      <th>business</th>\n",
       "      <th>personal-finance</th>\n",
       "      <th>mutual-fund</th>\n",
       "    </tr>\n",
       "  </thead>\n",
       "  <tbody>\n",
       "    <tr>\n",
       "      <th>0</th>\n",
       "      <td>1</td>\n",
       "      <td>Why Nifty Next 50 is emerging as the hottest s...</td>\n",
       "      <td>MC Inside Edge: Swan Energy bulls await RNEL r...</td>\n",
       "      <td>Greenhitech Ventures off to a flyer, lists at ...</td>\n",
       "      <td>Liquidity deficit in banking system to narrow ...</td>\n",
       "      <td>Q4 results, Iran-Israel war developments, FII ...</td>\n",
       "      <td>Live: Will Nifty reclaim 22,200 or test 22,000...</td>\n",
       "      <td>Earth Day 2024: Google celebrates with doodle ...</td>\n",
       "      <td>BNP Paribas initiates 'outperform' rating on D...</td>\n",
       "      <td>8 FPIs to settle matter with SEBI for alleged ...</td>\n",
       "      <td>Acko’s Individual Health Insurance policy: Cla...</td>\n",
       "      <td>The schemes that moved out of MC30 2024 and why</td>\n",
       "    </tr>\n",
       "    <tr>\n",
       "      <th>1</th>\n",
       "      <td>1</td>\n",
       "      <td>Sensex settles above 75,000-mark for first tim...</td>\n",
       "      <td>What the IMF forecasts say about India’s econo...</td>\n",
       "      <td>IPO Market Action: 4 public issues to open for...</td>\n",
       "      <td>Household Consumption Survey: A worrying conce...</td>\n",
       "      <td>Nifty, Sensex may fall on reports of blasts in...</td>\n",
       "      <td>Live: Indian market poised to clock new highs ...</td>\n",
       "      <td>Who is Gukesh D, youngest winner of Candidates...</td>\n",
       "      <td>Axis Bank's plans to raise equity capital surp...</td>\n",
       "      <td>Aditya Birla Fashion and Retail gains on board...</td>\n",
       "      <td>The schemes that moved out of MC30 2024 and why</td>\n",
       "      <td>Top mutual funds: 3 new schemes that enter Mon...</td>\n",
       "    </tr>\n",
       "    <tr>\n",
       "      <th>2</th>\n",
       "      <td>0</td>\n",
       "      <td>Opening bell: Sensex, Nifty plunges ahead of R...</td>\n",
       "      <td>MPC minutes: The many reasons for not cutting ...</td>\n",
       "      <td>Premier Energies files draft papers for IPO wi...</td>\n",
       "      <td>World Street | Britain, Japan in recession, Ci...</td>\n",
       "      <td>Will cautious Fed commentary, Israel-Iran tens...</td>\n",
       "      <td>Live: Nifty poised to extend record run; Shoul...</td>\n",
       "      <td>A slow unwinding of COVID excesses at Wipro, I...</td>\n",
       "      <td>Indian Army investing Rs 6,800 crore on should...</td>\n",
       "      <td>Gujarat State Petronet shares nosedive 20% aft...</td>\n",
       "      <td>Top mutual funds: 3 new schemes that enter Mon...</td>\n",
       "      <td>Best mutual funds: 86% of actively-managed sch...</td>\n",
       "    </tr>\n",
       "    <tr>\n",
       "      <th>3</th>\n",
       "      <td>1</td>\n",
       "      <td>Stock market today: Sensex surges 350 point to...</td>\n",
       "      <td>Moneycontrol Pro Market Outlook: Amid Middle E...</td>\n",
       "      <td>Post Ola Electric, now Ola Cabs meets investme...</td>\n",
       "      <td>RS polls: Bachchan and Ranjan are not among PD...</td>\n",
       "      <td>Markets to see increased volatility on Israel-...</td>\n",
       "      <td>Live: Nifty braces for another see-saw session...</td>\n",
       "      <td>Viswanathan Anand reacts to Gukesh D winning C...</td>\n",
       "      <td>Ghazipur Landfill Fire: Blaze continues at Del...</td>\n",
       "      <td>JSW Energy zooms to 52-week high after arm bag...</td>\n",
       "      <td>Best mutual funds: 86% of actively-managed sch...</td>\n",
       "      <td>These 15 high-PE stocks make your midcap funds...</td>\n",
       "    </tr>\n",
       "    <tr>\n",
       "      <th>4</th>\n",
       "      <td>0</td>\n",
       "      <td>Closing bell: Sensex decline around 100 points...</td>\n",
       "      <td>India bats for designing regional ocean observ...</td>\n",
       "      <td>Sanathan Textiles refiles draft papers to rais...</td>\n",
       "      <td>Don't require Nitish Kumar; Mahagathbandhan wi...</td>\n",
       "      <td>To invest or stay out as equities, gold run re...</td>\n",
       "      <td>Live: Will private banks take Nifty to greater...</td>\n",
       "      <td>Karnataka's Nandini to unveil whey-based energ...</td>\n",
       "      <td>FIIs rush in for power sector shares in April,...</td>\n",
       "      <td>HDFC Bank: Q4 reportcard indicates preference ...</td>\n",
       "      <td>Loan against securities: Punjab National Bank,...</td>\n",
       "      <td>India should see $3 trn capital flows in the n...</td>\n",
       "    </tr>\n",
       "    <tr>\n",
       "      <th>...</th>\n",
       "      <td>...</td>\n",
       "      <td>...</td>\n",
       "      <td>...</td>\n",
       "      <td>...</td>\n",
       "      <td>...</td>\n",
       "      <td>...</td>\n",
       "      <td>...</td>\n",
       "      <td>...</td>\n",
       "      <td>...</td>\n",
       "      <td>...</td>\n",
       "      <td>...</td>\n",
       "      <td>...</td>\n",
       "    </tr>\n",
       "    <tr>\n",
       "      <th>95</th>\n",
       "      <td>1</td>\n",
       "      <td>Sensex, Nifty extend losses into 2nd day on ra...</td>\n",
       "      <td>Congress manifesto offers alternative ideology...</td>\n",
       "      <td>Executive startup founders holding more than 1...</td>\n",
       "      <td>EC orders suspension of Telangana DGP hours af...</td>\n",
       "      <td>Will Powell's hawkish remarks hurt Street's fe...</td>\n",
       "      <td>Live: Nifty’s record run continues; GMM Pfaudl...</td>\n",
       "      <td>In Knife: Meditations After An Attempted Murde...</td>\n",
       "      <td>Assets worth Rs 810 crores: Massive jump in TD...</td>\n",
       "      <td>BSP announces names of candidate for four Lok ...</td>\n",
       "      <td>HDFC Bank raises new home loan rates even as r...</td>\n",
       "      <td>Microcap multibagger pharma stocks that MFs ad...</td>\n",
       "    </tr>\n",
       "    <tr>\n",
       "      <th>96</th>\n",
       "      <td>0</td>\n",
       "      <td>Energy, financials drag down Indian shares in ...</td>\n",
       "      <td>India inflation likely cooled in March, albeit...</td>\n",
       "      <td>Vijay Kedia-backed Tac Security to be India's ...</td>\n",
       "      <td>Rajasthan Election Results 2023: Five key fact...</td>\n",
       "      <td>Are markets in a phase of consolidation ahead ...</td>\n",
       "      <td>Live: Nifty ends above 20k for first time; The...</td>\n",
       "      <td>Ex-Google, Amazon recruiters advise job seeker...</td>\n",
       "      <td>There will be chaos if we entertain pleas agai...</td>\n",
       "      <td>Country punishing Congress for its 'sins': PM ...</td>\n",
       "      <td>Four financial planning mistakes you should av...</td>\n",
       "      <td>Will SEBI advisory impact investing strategy o...</td>\n",
       "    </tr>\n",
       "    <tr>\n",
       "      <th>97</th>\n",
       "      <td>0</td>\n",
       "      <td>Mid and small cap stocks risk abrupt correctio...</td>\n",
       "      <td>India's February silver imports hit record and...</td>\n",
       "      <td>No, Reddit is not a meme stock</td>\n",
       "      <td>Rajasthan assembly poll results unexpected, we...</td>\n",
       "      <td>Can easing bond yields, oil prices impress Dal...</td>\n",
       "      <td>Live: Nifty set for choppy ride at record; Mak...</td>\n",
       "      <td>'Incorrect analogy': Jet Airways ex-CEO design...</td>\n",
       "      <td>This election's aim is to make India a major g...</td>\n",
       "      <td>Congress must rethink its alliance with NC, sa...</td>\n",
       "      <td>The Money Calendar 2024-25: Keep up with inves...</td>\n",
       "      <td>How soon can you sell your small and midcap st...</td>\n",
       "    </tr>\n",
       "    <tr>\n",
       "      <th>98</th>\n",
       "      <td>1</td>\n",
       "      <td>Markets fall in early trade after five-day rally</td>\n",
       "      <td>Mismatch in HRA claims: No special drive launc...</td>\n",
       "      <td>Enser Communications lists at 2.9% premium to ...</td>\n",
       "      <td>Assembly Election Results 2023: PM hails ‘Jant...</td>\n",
       "      <td>Q2 results, oil prices, and FII flows on radar...</td>\n",
       "      <td>Live: Nifty tops 19,700 as bulls charge ahead;...</td>\n",
       "      <td>Ram Navami 2024: Expert breaks down execution ...</td>\n",
       "      <td>India ready to take next steps to become a sci...</td>\n",
       "      <td>LS polls: BJP banks on 'Modi magic,' 'developm...</td>\n",
       "      <td>Over 73% active mid/small-cap funds fail to be...</td>\n",
       "      <td>AMCs likely to disclose risk parameters of mid...</td>\n",
       "    </tr>\n",
       "    <tr>\n",
       "      <th>99</th>\n",
       "      <td>1</td>\n",
       "      <td>A $46 billion rally shows India tech woes easing</td>\n",
       "      <td>Stocks rise as oil cools; Treasury yields hit ...</td>\n",
       "      <td>Enfuse Solutions makes positive debut on NSE S...</td>\n",
       "      <td>Rajasthan polls: Sachin Pilot wins from Tonk w...</td>\n",
       "      <td>Cello World listing, FPI sell off, Vedanta $1....</td>\n",
       "      <td>Live: Nifty Above 19600; What Next? TCS, Paytm...</td>\n",
       "      <td>Salman Khan House Security Breach: 2 arrested ...</td>\n",
       "      <td>Election Wrap: India turns up for first phase ...</td>\n",
       "      <td>'Feel betrayed': Ex-India hockey captain Prabo...</td>\n",
       "      <td>SEBI asks mutual funds why elderly citizens we...</td>\n",
       "      <td>International MF schemes: Why some funds are s...</td>\n",
       "    </tr>\n",
       "  </tbody>\n",
       "</table>\n",
       "<p>100 rows × 12 columns</p>\n",
       "</div>"
      ],
      "text/plain": [
       "    nifty-up-or-down                                         nifty-news  \\\n",
       "0                  1  Why Nifty Next 50 is emerging as the hottest s...   \n",
       "1                  1  Sensex settles above 75,000-mark for first tim...   \n",
       "2                  0  Opening bell: Sensex, Nifty plunges ahead of R...   \n",
       "3                  1  Stock market today: Sensex surges 350 point to...   \n",
       "4                  0  Closing bell: Sensex decline around 100 points...   \n",
       "..               ...                                                ...   \n",
       "95                 1  Sensex, Nifty extend losses into 2nd day on ra...   \n",
       "96                 0  Energy, financials drag down Indian shares in ...   \n",
       "97                 0  Mid and small cap stocks risk abrupt correctio...   \n",
       "98                 1   Markets fall in early trade after five-day rally   \n",
       "99                 1   A $46 billion rally shows India tech woes easing   \n",
       "\n",
       "                                              economy  \\\n",
       "0   MC Inside Edge: Swan Energy bulls await RNEL r...   \n",
       "1   What the IMF forecasts say about India’s econo...   \n",
       "2   MPC minutes: The many reasons for not cutting ...   \n",
       "3   Moneycontrol Pro Market Outlook: Amid Middle E...   \n",
       "4   India bats for designing regional ocean observ...   \n",
       "..                                                ...   \n",
       "95  Congress manifesto offers alternative ideology...   \n",
       "96  India inflation likely cooled in March, albeit...   \n",
       "97  India's February silver imports hit record and...   \n",
       "98  Mismatch in HRA claims: No special drive launc...   \n",
       "99  Stocks rise as oil cools; Treasury yields hit ...   \n",
       "\n",
       "                                                  ipo  \\\n",
       "0   Greenhitech Ventures off to a flyer, lists at ...   \n",
       "1   IPO Market Action: 4 public issues to open for...   \n",
       "2   Premier Energies files draft papers for IPO wi...   \n",
       "3   Post Ola Electric, now Ola Cabs meets investme...   \n",
       "4   Sanathan Textiles refiles draft papers to rais...   \n",
       "..                                                ...   \n",
       "95  Executive startup founders holding more than 1...   \n",
       "96  Vijay Kedia-backed Tac Security to be India's ...   \n",
       "97                    No, Reddit is not a meme stock    \n",
       "98  Enser Communications lists at 2.9% premium to ...   \n",
       "99  Enfuse Solutions makes positive debut on NSE S...   \n",
       "\n",
       "                                         election2024  \\\n",
       "0   Liquidity deficit in banking system to narrow ...   \n",
       "1   Household Consumption Survey: A worrying conce...   \n",
       "2   World Street | Britain, Japan in recession, Ci...   \n",
       "3   RS polls: Bachchan and Ranjan are not among PD...   \n",
       "4   Don't require Nitish Kumar; Mahagathbandhan wi...   \n",
       "..                                                ...   \n",
       "95  EC orders suspension of Telangana DGP hours af...   \n",
       "96  Rajasthan Election Results 2023: Five key fact...   \n",
       "97  Rajasthan assembly poll results unexpected, we...   \n",
       "98  Assembly Election Results 2023: PM hails ‘Jant...   \n",
       "99  Rajasthan polls: Sachin Pilot wins from Tonk w...   \n",
       "\n",
       "                                           market-min  \\\n",
       "0   Q4 results, Iran-Israel war developments, FII ...   \n",
       "1   Nifty, Sensex may fall on reports of blasts in...   \n",
       "2   Will cautious Fed commentary, Israel-Iran tens...   \n",
       "3   Markets to see increased volatility on Israel-...   \n",
       "4   To invest or stay out as equities, gold run re...   \n",
       "..                                                ...   \n",
       "95  Will Powell's hawkish remarks hurt Street's fe...   \n",
       "96  Are markets in a phase of consolidation ahead ...   \n",
       "97  Can easing bond yields, oil prices impress Dal...   \n",
       "98  Q2 results, oil prices, and FII flows on radar...   \n",
       "99  Cello World listing, FPI sell off, Vedanta $1....   \n",
       "\n",
       "                                        morning-trade  \\\n",
       "0   Live: Will Nifty reclaim 22,200 or test 22,000...   \n",
       "1   Live: Indian market poised to clock new highs ...   \n",
       "2   Live: Nifty poised to extend record run; Shoul...   \n",
       "3   Live: Nifty braces for another see-saw session...   \n",
       "4   Live: Will private banks take Nifty to greater...   \n",
       "..                                                ...   \n",
       "95  Live: Nifty’s record run continues; GMM Pfaudl...   \n",
       "96  Live: Nifty ends above 20k for first time; The...   \n",
       "97  Live: Nifty set for choppy ride at record; Mak...   \n",
       "98  Live: Nifty tops 19,700 as bulls charge ahead;...   \n",
       "99  Live: Nifty Above 19600; What Next? TCS, Paytm...   \n",
       "\n",
       "                                               trends  \\\n",
       "0   Earth Day 2024: Google celebrates with doodle ...   \n",
       "1   Who is Gukesh D, youngest winner of Candidates...   \n",
       "2   A slow unwinding of COVID excesses at Wipro, I...   \n",
       "3   Viswanathan Anand reacts to Gukesh D winning C...   \n",
       "4   Karnataka's Nandini to unveil whey-based energ...   \n",
       "..                                                ...   \n",
       "95  In Knife: Meditations After An Attempted Murde...   \n",
       "96  Ex-Google, Amazon recruiters advise job seeker...   \n",
       "97  'Incorrect analogy': Jet Airways ex-CEO design...   \n",
       "98  Ram Navami 2024: Expert breaks down execution ...   \n",
       "99  Salman Khan House Security Breach: 2 arrested ...   \n",
       "\n",
       "                                     indian-political  \\\n",
       "0   BNP Paribas initiates 'outperform' rating on D...   \n",
       "1   Axis Bank's plans to raise equity capital surp...   \n",
       "2   Indian Army investing Rs 6,800 crore on should...   \n",
       "3   Ghazipur Landfill Fire: Blaze continues at Del...   \n",
       "4   FIIs rush in for power sector shares in April,...   \n",
       "..                                                ...   \n",
       "95  Assets worth Rs 810 crores: Massive jump in TD...   \n",
       "96  There will be chaos if we entertain pleas agai...   \n",
       "97  This election's aim is to make India a major g...   \n",
       "98  India ready to take next steps to become a sci...   \n",
       "99  Election Wrap: India turns up for first phase ...   \n",
       "\n",
       "                                             business  \\\n",
       "0   8 FPIs to settle matter with SEBI for alleged ...   \n",
       "1   Aditya Birla Fashion and Retail gains on board...   \n",
       "2   Gujarat State Petronet shares nosedive 20% aft...   \n",
       "3   JSW Energy zooms to 52-week high after arm bag...   \n",
       "4   HDFC Bank: Q4 reportcard indicates preference ...   \n",
       "..                                                ...   \n",
       "95  BSP announces names of candidate for four Lok ...   \n",
       "96  Country punishing Congress for its 'sins': PM ...   \n",
       "97  Congress must rethink its alliance with NC, sa...   \n",
       "98  LS polls: BJP banks on 'Modi magic,' 'developm...   \n",
       "99  'Feel betrayed': Ex-India hockey captain Prabo...   \n",
       "\n",
       "                                     personal-finance  \\\n",
       "0   Acko’s Individual Health Insurance policy: Cla...   \n",
       "1     The schemes that moved out of MC30 2024 and why   \n",
       "2   Top mutual funds: 3 new schemes that enter Mon...   \n",
       "3   Best mutual funds: 86% of actively-managed sch...   \n",
       "4   Loan against securities: Punjab National Bank,...   \n",
       "..                                                ...   \n",
       "95  HDFC Bank raises new home loan rates even as r...   \n",
       "96  Four financial planning mistakes you should av...   \n",
       "97  The Money Calendar 2024-25: Keep up with inves...   \n",
       "98  Over 73% active mid/small-cap funds fail to be...   \n",
       "99  SEBI asks mutual funds why elderly citizens we...   \n",
       "\n",
       "                                          mutual-fund  \n",
       "0     The schemes that moved out of MC30 2024 and why  \n",
       "1   Top mutual funds: 3 new schemes that enter Mon...  \n",
       "2   Best mutual funds: 86% of actively-managed sch...  \n",
       "3   These 15 high-PE stocks make your midcap funds...  \n",
       "4   India should see $3 trn capital flows in the n...  \n",
       "..                                                ...  \n",
       "95  Microcap multibagger pharma stocks that MFs ad...  \n",
       "96  Will SEBI advisory impact investing strategy o...  \n",
       "97  How soon can you sell your small and midcap st...  \n",
       "98  AMCs likely to disclose risk parameters of mid...  \n",
       "99  International MF schemes: Why some funds are s...  \n",
       "\n",
       "[100 rows x 12 columns]"
      ]
     },
     "execution_count": 119,
     "metadata": {},
     "output_type": "execute_result"
    }
   ],
   "source": [
    "data.shape\n",
    "data"
   ]
  },
  {
   "cell_type": "code",
   "execution_count": 120,
   "id": "3a75faaf",
   "metadata": {},
   "outputs": [],
   "source": [
    "data_review=[]\n",
    "\n",
    "for row in range(0,len(data.index)):\n",
    "    data_review.append(' '.join(str(x) for x in data.iloc[row,1:12]))"
   ]
  },
  {
   "cell_type": "code",
   "execution_count": 121,
   "id": "4d319698",
   "metadata": {},
   "outputs": [
    {
     "data": {
      "text/plain": [
       "\"Sensex settles above 75,000-mark for first time, Nifty closes at record high What the IMF forecasts say about India’s economic growth IPO Market Action: 4 public issues to open for subscription with 4 SME listings lined up next week Household Consumption Survey: A worrying concentration of income that doesn’t help industrial growth Nifty, Sensex may fall on reports of blasts in Iran; GIFT Nifty, Asian indices tank, crude jumps 3% | Market Minutes Live: Indian market poised to clock new highs in monthly F&O expiry week? RIL, HDFC Bank in focus Who is Gukesh D, youngest winner of Candidates tournament and the youngest World Championships challenger? Axis Bank's plans to raise equity capital surprise Nomura Aditya Birla Fashion and Retail gains on board nod to Madura demerger The schemes that moved out of MC30 2024 and why Top mutual funds: 3 new schemes that enter Moneycontrol’s sparkling list of investment-worthy funds; MC30\""
      ]
     },
     "execution_count": 121,
     "metadata": {},
     "output_type": "execute_result"
    }
   ],
   "source": [
    "len(data_review)\n",
    "data_review[1]"
   ]
  },
  {
   "cell_type": "code",
   "execution_count": 122,
   "id": "a0fa6eee",
   "metadata": {},
   "outputs": [],
   "source": [
    "import nltk\n",
    "from nltk.stem import PorterStemmer, WordNetLemmatizer\n",
    "import re\n",
    "porter = PorterStemmer()\n",
    "lemmatizer = WordNetLemmatizer()\n"
   ]
  },
  {
   "cell_type": "code",
   "execution_count": 123,
   "id": "fdf50a1b",
   "metadata": {},
   "outputs": [
    {
     "name": "stderr",
     "output_type": "stream",
     "text": [
      "[nltk_data] Downloading package stopwords to C:\\Users\\Ashutosh\n",
      "[nltk_data]     raj\\AppData\\Roaming\\nltk_data...\n",
      "[nltk_data]   Package stopwords is already up-to-date!\n"
     ]
    }
   ],
   "source": [
    "from nltk.corpus import stopwords\n",
    "nltk.download(\"stopwords\")\n",
    "stop=stopwords.words('english')\n",
    "\n",
    "\n",
    "    \n",
    "    \n",
    "   \n",
    "    "
   ]
  },
  {
   "cell_type": "code",
   "execution_count": 124,
   "id": "b4a6cbc2",
   "metadata": {},
   "outputs": [],
   "source": [
    "def stemming(review_text):\n",
    "    letters_only = re.sub('[^a-zA-Z]', ' ', review_text)\n",
    "    # 3. lower letters\n",
    "    words = letters_only.lower().split()\n",
    "    # 5. Stopwords\n",
    "    meaningful_words = [w for w in words if not w in stop]\n",
    "    # 6. lemmitization\n",
    "    lemmitize_words = [lemmatizer.lemmatize(w) for w in meaningful_words]\n",
    "    # 7. space join words\n",
    "    return( ' '.join(lemmitize_words))\n",
    "\n",
    "for i in range(len(data_review)):\n",
    "    data_review[i]= stemming(data_review[i])"
   ]
  },
  {
   "cell_type": "code",
   "execution_count": 125,
   "id": "89c866c6",
   "metadata": {},
   "outputs": [
    {
     "data": {
      "text/plain": [
       "'closing bell sensex decline around point nifty settle india bat designing regional ocean observation better understand deep ecosystem sanathan textile refiles draft paper raise r crore via ipo require nitish kumar mahagathbandhan fight social justice bihar rahul gandhi invest stay equity gold run record rally market minute live private bank take nifty greater height hindalco union bank swan energy focus karnataka nandini unveil whey based energy drink splash cricket world cup fiis rush power sector share april sell fmcg stock hdfc bank q reportcard indicates preference profitability growth loan security punjab national bank indusind bank offer cheapest interest rate india see trn capital flow next year get policy politics right arvind chari q india uk'"
      ]
     },
     "execution_count": 125,
     "metadata": {},
     "output_type": "execute_result"
    }
   ],
   "source": [
    "data_review[4]"
   ]
  },
  {
   "cell_type": "code",
   "execution_count": 126,
   "id": "10e5198e",
   "metadata": {},
   "outputs": [],
   "source": [
    "data['data_review']=data_review"
   ]
  },
  {
   "cell_type": "code",
   "execution_count": 127,
   "id": "175fde05",
   "metadata": {
    "scrolled": true
   },
   "outputs": [
    {
     "data": {
      "text/html": [
       "<div>\n",
       "<style scoped>\n",
       "    .dataframe tbody tr th:only-of-type {\n",
       "        vertical-align: middle;\n",
       "    }\n",
       "\n",
       "    .dataframe tbody tr th {\n",
       "        vertical-align: top;\n",
       "    }\n",
       "\n",
       "    .dataframe thead th {\n",
       "        text-align: right;\n",
       "    }\n",
       "</style>\n",
       "<table border=\"1\" class=\"dataframe\">\n",
       "  <thead>\n",
       "    <tr style=\"text-align: right;\">\n",
       "      <th></th>\n",
       "      <th>nifty-up-or-down</th>\n",
       "      <th>nifty-news</th>\n",
       "      <th>economy</th>\n",
       "      <th>ipo</th>\n",
       "      <th>election2024</th>\n",
       "      <th>market-min</th>\n",
       "      <th>morning-trade</th>\n",
       "      <th>trends</th>\n",
       "      <th>indian-political</th>\n",
       "      <th>business</th>\n",
       "      <th>personal-finance</th>\n",
       "      <th>mutual-fund</th>\n",
       "      <th>data_review</th>\n",
       "    </tr>\n",
       "  </thead>\n",
       "  <tbody>\n",
       "    <tr>\n",
       "      <th>0</th>\n",
       "      <td>1</td>\n",
       "      <td>Why Nifty Next 50 is emerging as the hottest s...</td>\n",
       "      <td>MC Inside Edge: Swan Energy bulls await RNEL r...</td>\n",
       "      <td>Greenhitech Ventures off to a flyer, lists at ...</td>\n",
       "      <td>Liquidity deficit in banking system to narrow ...</td>\n",
       "      <td>Q4 results, Iran-Israel war developments, FII ...</td>\n",
       "      <td>Live: Will Nifty reclaim 22,200 or test 22,000...</td>\n",
       "      <td>Earth Day 2024: Google celebrates with doodle ...</td>\n",
       "      <td>BNP Paribas initiates 'outperform' rating on D...</td>\n",
       "      <td>8 FPIs to settle matter with SEBI for alleged ...</td>\n",
       "      <td>Acko’s Individual Health Insurance policy: Cla...</td>\n",
       "      <td>The schemes that moved out of MC30 2024 and why</td>\n",
       "      <td>nifty next emerging hottest stock index india ...</td>\n",
       "    </tr>\n",
       "    <tr>\n",
       "      <th>1</th>\n",
       "      <td>1</td>\n",
       "      <td>Sensex settles above 75,000-mark for first tim...</td>\n",
       "      <td>What the IMF forecasts say about India’s econo...</td>\n",
       "      <td>IPO Market Action: 4 public issues to open for...</td>\n",
       "      <td>Household Consumption Survey: A worrying conce...</td>\n",
       "      <td>Nifty, Sensex may fall on reports of blasts in...</td>\n",
       "      <td>Live: Indian market poised to clock new highs ...</td>\n",
       "      <td>Who is Gukesh D, youngest winner of Candidates...</td>\n",
       "      <td>Axis Bank's plans to raise equity capital surp...</td>\n",
       "      <td>Aditya Birla Fashion and Retail gains on board...</td>\n",
       "      <td>The schemes that moved out of MC30 2024 and why</td>\n",
       "      <td>Top mutual funds: 3 new schemes that enter Mon...</td>\n",
       "      <td>sensex settle mark first time nifty close reco...</td>\n",
       "    </tr>\n",
       "    <tr>\n",
       "      <th>2</th>\n",
       "      <td>0</td>\n",
       "      <td>Opening bell: Sensex, Nifty plunges ahead of R...</td>\n",
       "      <td>MPC minutes: The many reasons for not cutting ...</td>\n",
       "      <td>Premier Energies files draft papers for IPO wi...</td>\n",
       "      <td>World Street | Britain, Japan in recession, Ci...</td>\n",
       "      <td>Will cautious Fed commentary, Israel-Iran tens...</td>\n",
       "      <td>Live: Nifty poised to extend record run; Shoul...</td>\n",
       "      <td>A slow unwinding of COVID excesses at Wipro, I...</td>\n",
       "      <td>Indian Army investing Rs 6,800 crore on should...</td>\n",
       "      <td>Gujarat State Petronet shares nosedive 20% aft...</td>\n",
       "      <td>Top mutual funds: 3 new schemes that enter Mon...</td>\n",
       "      <td>Best mutual funds: 86% of actively-managed sch...</td>\n",
       "      <td>opening bell sensex nifty plunge ahead rbi rep...</td>\n",
       "    </tr>\n",
       "    <tr>\n",
       "      <th>3</th>\n",
       "      <td>1</td>\n",
       "      <td>Stock market today: Sensex surges 350 point to...</td>\n",
       "      <td>Moneycontrol Pro Market Outlook: Amid Middle E...</td>\n",
       "      <td>Post Ola Electric, now Ola Cabs meets investme...</td>\n",
       "      <td>RS polls: Bachchan and Ranjan are not among PD...</td>\n",
       "      <td>Markets to see increased volatility on Israel-...</td>\n",
       "      <td>Live: Nifty braces for another see-saw session...</td>\n",
       "      <td>Viswanathan Anand reacts to Gukesh D winning C...</td>\n",
       "      <td>Ghazipur Landfill Fire: Blaze continues at Del...</td>\n",
       "      <td>JSW Energy zooms to 52-week high after arm bag...</td>\n",
       "      <td>Best mutual funds: 86% of actively-managed sch...</td>\n",
       "      <td>These 15 high-PE stocks make your midcap funds...</td>\n",
       "      <td>stock market today sensex surge point settle t...</td>\n",
       "    </tr>\n",
       "    <tr>\n",
       "      <th>4</th>\n",
       "      <td>0</td>\n",
       "      <td>Closing bell: Sensex decline around 100 points...</td>\n",
       "      <td>India bats for designing regional ocean observ...</td>\n",
       "      <td>Sanathan Textiles refiles draft papers to rais...</td>\n",
       "      <td>Don't require Nitish Kumar; Mahagathbandhan wi...</td>\n",
       "      <td>To invest or stay out as equities, gold run re...</td>\n",
       "      <td>Live: Will private banks take Nifty to greater...</td>\n",
       "      <td>Karnataka's Nandini to unveil whey-based energ...</td>\n",
       "      <td>FIIs rush in for power sector shares in April,...</td>\n",
       "      <td>HDFC Bank: Q4 reportcard indicates preference ...</td>\n",
       "      <td>Loan against securities: Punjab National Bank,...</td>\n",
       "      <td>India should see $3 trn capital flows in the n...</td>\n",
       "      <td>closing bell sensex decline around point nifty...</td>\n",
       "    </tr>\n",
       "    <tr>\n",
       "      <th>...</th>\n",
       "      <td>...</td>\n",
       "      <td>...</td>\n",
       "      <td>...</td>\n",
       "      <td>...</td>\n",
       "      <td>...</td>\n",
       "      <td>...</td>\n",
       "      <td>...</td>\n",
       "      <td>...</td>\n",
       "      <td>...</td>\n",
       "      <td>...</td>\n",
       "      <td>...</td>\n",
       "      <td>...</td>\n",
       "      <td>...</td>\n",
       "    </tr>\n",
       "    <tr>\n",
       "      <th>95</th>\n",
       "      <td>1</td>\n",
       "      <td>Sensex, Nifty extend losses into 2nd day on ra...</td>\n",
       "      <td>Congress manifesto offers alternative ideology...</td>\n",
       "      <td>Executive startup founders holding more than 1...</td>\n",
       "      <td>EC orders suspension of Telangana DGP hours af...</td>\n",
       "      <td>Will Powell's hawkish remarks hurt Street's fe...</td>\n",
       "      <td>Live: Nifty’s record run continues; GMM Pfaudl...</td>\n",
       "      <td>In Knife: Meditations After An Attempted Murde...</td>\n",
       "      <td>Assets worth Rs 810 crores: Massive jump in TD...</td>\n",
       "      <td>BSP announces names of candidate for four Lok ...</td>\n",
       "      <td>HDFC Bank raises new home loan rates even as r...</td>\n",
       "      <td>Microcap multibagger pharma stocks that MFs ad...</td>\n",
       "      <td>sensex nifty extend loss nd day rate hike fear...</td>\n",
       "    </tr>\n",
       "    <tr>\n",
       "      <th>96</th>\n",
       "      <td>0</td>\n",
       "      <td>Energy, financials drag down Indian shares in ...</td>\n",
       "      <td>India inflation likely cooled in March, albeit...</td>\n",
       "      <td>Vijay Kedia-backed Tac Security to be India's ...</td>\n",
       "      <td>Rajasthan Election Results 2023: Five key fact...</td>\n",
       "      <td>Are markets in a phase of consolidation ahead ...</td>\n",
       "      <td>Live: Nifty ends above 20k for first time; The...</td>\n",
       "      <td>Ex-Google, Amazon recruiters advise job seeker...</td>\n",
       "      <td>There will be chaos if we entertain pleas agai...</td>\n",
       "      <td>Country punishing Congress for its 'sins': PM ...</td>\n",
       "      <td>Four financial planning mistakes you should av...</td>\n",
       "      <td>Will SEBI advisory impact investing strategy o...</td>\n",
       "      <td>energy financials drag indian share final sess...</td>\n",
       "    </tr>\n",
       "    <tr>\n",
       "      <th>97</th>\n",
       "      <td>0</td>\n",
       "      <td>Mid and small cap stocks risk abrupt correctio...</td>\n",
       "      <td>India's February silver imports hit record and...</td>\n",
       "      <td>No, Reddit is not a meme stock</td>\n",
       "      <td>Rajasthan assembly poll results unexpected, we...</td>\n",
       "      <td>Can easing bond yields, oil prices impress Dal...</td>\n",
       "      <td>Live: Nifty set for choppy ride at record; Mak...</td>\n",
       "      <td>'Incorrect analogy': Jet Airways ex-CEO design...</td>\n",
       "      <td>This election's aim is to make India a major g...</td>\n",
       "      <td>Congress must rethink its alliance with NC, sa...</td>\n",
       "      <td>The Money Calendar 2024-25: Keep up with inves...</td>\n",
       "      <td>How soon can you sell your small and midcap st...</td>\n",
       "      <td>mid small cap stock risk abrupt correction war...</td>\n",
       "    </tr>\n",
       "    <tr>\n",
       "      <th>98</th>\n",
       "      <td>1</td>\n",
       "      <td>Markets fall in early trade after five-day rally</td>\n",
       "      <td>Mismatch in HRA claims: No special drive launc...</td>\n",
       "      <td>Enser Communications lists at 2.9% premium to ...</td>\n",
       "      <td>Assembly Election Results 2023: PM hails ‘Jant...</td>\n",
       "      <td>Q2 results, oil prices, and FII flows on radar...</td>\n",
       "      <td>Live: Nifty tops 19,700 as bulls charge ahead;...</td>\n",
       "      <td>Ram Navami 2024: Expert breaks down execution ...</td>\n",
       "      <td>India ready to take next steps to become a sci...</td>\n",
       "      <td>LS polls: BJP banks on 'Modi magic,' 'developm...</td>\n",
       "      <td>Over 73% active mid/small-cap funds fail to be...</td>\n",
       "      <td>AMCs likely to disclose risk parameters of mid...</td>\n",
       "      <td>market fall early trade five day rally mismatc...</td>\n",
       "    </tr>\n",
       "    <tr>\n",
       "      <th>99</th>\n",
       "      <td>1</td>\n",
       "      <td>A $46 billion rally shows India tech woes easing</td>\n",
       "      <td>Stocks rise as oil cools; Treasury yields hit ...</td>\n",
       "      <td>Enfuse Solutions makes positive debut on NSE S...</td>\n",
       "      <td>Rajasthan polls: Sachin Pilot wins from Tonk w...</td>\n",
       "      <td>Cello World listing, FPI sell off, Vedanta $1....</td>\n",
       "      <td>Live: Nifty Above 19600; What Next? TCS, Paytm...</td>\n",
       "      <td>Salman Khan House Security Breach: 2 arrested ...</td>\n",
       "      <td>Election Wrap: India turns up for first phase ...</td>\n",
       "      <td>'Feel betrayed': Ex-India hockey captain Prabo...</td>\n",
       "      <td>SEBI asks mutual funds why elderly citizens we...</td>\n",
       "      <td>International MF schemes: Why some funds are s...</td>\n",
       "      <td>billion rally show india tech woe easing stock...</td>\n",
       "    </tr>\n",
       "  </tbody>\n",
       "</table>\n",
       "<p>100 rows × 13 columns</p>\n",
       "</div>"
      ],
      "text/plain": [
       "    nifty-up-or-down                                         nifty-news  \\\n",
       "0                  1  Why Nifty Next 50 is emerging as the hottest s...   \n",
       "1                  1  Sensex settles above 75,000-mark for first tim...   \n",
       "2                  0  Opening bell: Sensex, Nifty plunges ahead of R...   \n",
       "3                  1  Stock market today: Sensex surges 350 point to...   \n",
       "4                  0  Closing bell: Sensex decline around 100 points...   \n",
       "..               ...                                                ...   \n",
       "95                 1  Sensex, Nifty extend losses into 2nd day on ra...   \n",
       "96                 0  Energy, financials drag down Indian shares in ...   \n",
       "97                 0  Mid and small cap stocks risk abrupt correctio...   \n",
       "98                 1   Markets fall in early trade after five-day rally   \n",
       "99                 1   A $46 billion rally shows India tech woes easing   \n",
       "\n",
       "                                              economy  \\\n",
       "0   MC Inside Edge: Swan Energy bulls await RNEL r...   \n",
       "1   What the IMF forecasts say about India’s econo...   \n",
       "2   MPC minutes: The many reasons for not cutting ...   \n",
       "3   Moneycontrol Pro Market Outlook: Amid Middle E...   \n",
       "4   India bats for designing regional ocean observ...   \n",
       "..                                                ...   \n",
       "95  Congress manifesto offers alternative ideology...   \n",
       "96  India inflation likely cooled in March, albeit...   \n",
       "97  India's February silver imports hit record and...   \n",
       "98  Mismatch in HRA claims: No special drive launc...   \n",
       "99  Stocks rise as oil cools; Treasury yields hit ...   \n",
       "\n",
       "                                                  ipo  \\\n",
       "0   Greenhitech Ventures off to a flyer, lists at ...   \n",
       "1   IPO Market Action: 4 public issues to open for...   \n",
       "2   Premier Energies files draft papers for IPO wi...   \n",
       "3   Post Ola Electric, now Ola Cabs meets investme...   \n",
       "4   Sanathan Textiles refiles draft papers to rais...   \n",
       "..                                                ...   \n",
       "95  Executive startup founders holding more than 1...   \n",
       "96  Vijay Kedia-backed Tac Security to be India's ...   \n",
       "97                    No, Reddit is not a meme stock    \n",
       "98  Enser Communications lists at 2.9% premium to ...   \n",
       "99  Enfuse Solutions makes positive debut on NSE S...   \n",
       "\n",
       "                                         election2024  \\\n",
       "0   Liquidity deficit in banking system to narrow ...   \n",
       "1   Household Consumption Survey: A worrying conce...   \n",
       "2   World Street | Britain, Japan in recession, Ci...   \n",
       "3   RS polls: Bachchan and Ranjan are not among PD...   \n",
       "4   Don't require Nitish Kumar; Mahagathbandhan wi...   \n",
       "..                                                ...   \n",
       "95  EC orders suspension of Telangana DGP hours af...   \n",
       "96  Rajasthan Election Results 2023: Five key fact...   \n",
       "97  Rajasthan assembly poll results unexpected, we...   \n",
       "98  Assembly Election Results 2023: PM hails ‘Jant...   \n",
       "99  Rajasthan polls: Sachin Pilot wins from Tonk w...   \n",
       "\n",
       "                                           market-min  \\\n",
       "0   Q4 results, Iran-Israel war developments, FII ...   \n",
       "1   Nifty, Sensex may fall on reports of blasts in...   \n",
       "2   Will cautious Fed commentary, Israel-Iran tens...   \n",
       "3   Markets to see increased volatility on Israel-...   \n",
       "4   To invest or stay out as equities, gold run re...   \n",
       "..                                                ...   \n",
       "95  Will Powell's hawkish remarks hurt Street's fe...   \n",
       "96  Are markets in a phase of consolidation ahead ...   \n",
       "97  Can easing bond yields, oil prices impress Dal...   \n",
       "98  Q2 results, oil prices, and FII flows on radar...   \n",
       "99  Cello World listing, FPI sell off, Vedanta $1....   \n",
       "\n",
       "                                        morning-trade  \\\n",
       "0   Live: Will Nifty reclaim 22,200 or test 22,000...   \n",
       "1   Live: Indian market poised to clock new highs ...   \n",
       "2   Live: Nifty poised to extend record run; Shoul...   \n",
       "3   Live: Nifty braces for another see-saw session...   \n",
       "4   Live: Will private banks take Nifty to greater...   \n",
       "..                                                ...   \n",
       "95  Live: Nifty’s record run continues; GMM Pfaudl...   \n",
       "96  Live: Nifty ends above 20k for first time; The...   \n",
       "97  Live: Nifty set for choppy ride at record; Mak...   \n",
       "98  Live: Nifty tops 19,700 as bulls charge ahead;...   \n",
       "99  Live: Nifty Above 19600; What Next? TCS, Paytm...   \n",
       "\n",
       "                                               trends  \\\n",
       "0   Earth Day 2024: Google celebrates with doodle ...   \n",
       "1   Who is Gukesh D, youngest winner of Candidates...   \n",
       "2   A slow unwinding of COVID excesses at Wipro, I...   \n",
       "3   Viswanathan Anand reacts to Gukesh D winning C...   \n",
       "4   Karnataka's Nandini to unveil whey-based energ...   \n",
       "..                                                ...   \n",
       "95  In Knife: Meditations After An Attempted Murde...   \n",
       "96  Ex-Google, Amazon recruiters advise job seeker...   \n",
       "97  'Incorrect analogy': Jet Airways ex-CEO design...   \n",
       "98  Ram Navami 2024: Expert breaks down execution ...   \n",
       "99  Salman Khan House Security Breach: 2 arrested ...   \n",
       "\n",
       "                                     indian-political  \\\n",
       "0   BNP Paribas initiates 'outperform' rating on D...   \n",
       "1   Axis Bank's plans to raise equity capital surp...   \n",
       "2   Indian Army investing Rs 6,800 crore on should...   \n",
       "3   Ghazipur Landfill Fire: Blaze continues at Del...   \n",
       "4   FIIs rush in for power sector shares in April,...   \n",
       "..                                                ...   \n",
       "95  Assets worth Rs 810 crores: Massive jump in TD...   \n",
       "96  There will be chaos if we entertain pleas agai...   \n",
       "97  This election's aim is to make India a major g...   \n",
       "98  India ready to take next steps to become a sci...   \n",
       "99  Election Wrap: India turns up for first phase ...   \n",
       "\n",
       "                                             business  \\\n",
       "0   8 FPIs to settle matter with SEBI for alleged ...   \n",
       "1   Aditya Birla Fashion and Retail gains on board...   \n",
       "2   Gujarat State Petronet shares nosedive 20% aft...   \n",
       "3   JSW Energy zooms to 52-week high after arm bag...   \n",
       "4   HDFC Bank: Q4 reportcard indicates preference ...   \n",
       "..                                                ...   \n",
       "95  BSP announces names of candidate for four Lok ...   \n",
       "96  Country punishing Congress for its 'sins': PM ...   \n",
       "97  Congress must rethink its alliance with NC, sa...   \n",
       "98  LS polls: BJP banks on 'Modi magic,' 'developm...   \n",
       "99  'Feel betrayed': Ex-India hockey captain Prabo...   \n",
       "\n",
       "                                     personal-finance  \\\n",
       "0   Acko’s Individual Health Insurance policy: Cla...   \n",
       "1     The schemes that moved out of MC30 2024 and why   \n",
       "2   Top mutual funds: 3 new schemes that enter Mon...   \n",
       "3   Best mutual funds: 86% of actively-managed sch...   \n",
       "4   Loan against securities: Punjab National Bank,...   \n",
       "..                                                ...   \n",
       "95  HDFC Bank raises new home loan rates even as r...   \n",
       "96  Four financial planning mistakes you should av...   \n",
       "97  The Money Calendar 2024-25: Keep up with inves...   \n",
       "98  Over 73% active mid/small-cap funds fail to be...   \n",
       "99  SEBI asks mutual funds why elderly citizens we...   \n",
       "\n",
       "                                          mutual-fund  \\\n",
       "0     The schemes that moved out of MC30 2024 and why   \n",
       "1   Top mutual funds: 3 new schemes that enter Mon...   \n",
       "2   Best mutual funds: 86% of actively-managed sch...   \n",
       "3   These 15 high-PE stocks make your midcap funds...   \n",
       "4   India should see $3 trn capital flows in the n...   \n",
       "..                                                ...   \n",
       "95  Microcap multibagger pharma stocks that MFs ad...   \n",
       "96  Will SEBI advisory impact investing strategy o...   \n",
       "97  How soon can you sell your small and midcap st...   \n",
       "98  AMCs likely to disclose risk parameters of mid...   \n",
       "99  International MF schemes: Why some funds are s...   \n",
       "\n",
       "                                          data_review  \n",
       "0   nifty next emerging hottest stock index india ...  \n",
       "1   sensex settle mark first time nifty close reco...  \n",
       "2   opening bell sensex nifty plunge ahead rbi rep...  \n",
       "3   stock market today sensex surge point settle t...  \n",
       "4   closing bell sensex decline around point nifty...  \n",
       "..                                                ...  \n",
       "95  sensex nifty extend loss nd day rate hike fear...  \n",
       "96  energy financials drag indian share final sess...  \n",
       "97  mid small cap stock risk abrupt correction war...  \n",
       "98  market fall early trade five day rally mismatc...  \n",
       "99  billion rally show india tech woe easing stock...  \n",
       "\n",
       "[100 rows x 13 columns]"
      ]
     },
     "execution_count": 127,
     "metadata": {},
     "output_type": "execute_result"
    }
   ],
   "source": [
    "data"
   ]
  },
  {
   "cell_type": "code",
   "execution_count": 128,
   "id": "fe091c32",
   "metadata": {},
   "outputs": [],
   "source": [
    "x=data['data_review']\n",
    "y=data['nifty-up-or-down']"
   ]
  },
  {
   "cell_type": "raw",
   "id": "6f2bff11",
   "metadata": {},
   "source": [
    "#train-test-split \n"
   ]
  },
  {
   "cell_type": "code",
   "execution_count": 129,
   "id": "26eee771",
   "metadata": {},
   "outputs": [],
   "source": [
    "from sklearn.model_selection import train_test_split\n",
    "x_train,x_test,y_train,y_test=train_test_split(x,y,test_size=0.2,stratify=y,random_state=2)"
   ]
  },
  {
   "cell_type": "code",
   "execution_count": 130,
   "id": "bbf9af98",
   "metadata": {},
   "outputs": [
    {
     "name": "stdout",
     "output_type": "stream",
     "text": [
      "(100,) (80,) (20,)\n"
     ]
    }
   ],
   "source": [
    "print(x.shape,x_train.shape,x_test.shape)"
   ]
  },
  {
   "cell_type": "raw",
   "id": "19bdb026",
   "metadata": {},
   "source": [
    "text_to_vec"
   ]
  },
  {
   "cell_type": "code",
   "execution_count": 131,
   "id": "ec438dbf",
   "metadata": {},
   "outputs": [],
   "source": [
    "from sklearn.feature_extraction.text import  CountVectorizer, TfidfVectorizer\n",
    "from sklearn.linear_model import PassiveAggressiveClassifier\n",
    "from sklearn.naive_bayes import MultinomialNB\n",
    "from sklearn import metrics\n",
    "import matplotlib.pyplot as plt\n"
   ]
  },
  {
   "cell_type": "markdown",
   "id": "8655e774",
   "metadata": {},
   "source": [
    "bags of word"
   ]
  },
  {
   "cell_type": "code",
   "execution_count": 132,
   "id": "4aa8045b",
   "metadata": {},
   "outputs": [],
   "source": [
    "\n",
    "\n",
    "tfidf_vectorizer=TfidfVectorizer()\n",
    "x_train=tfidf_vectorizer.fit_transform(x_train)\n",
    "x_test=tfidf_vectorizer.transform(x_test)"
   ]
  },
  {
   "cell_type": "markdown",
   "id": "884855e3",
   "metadata": {},
   "source": [
    "# 1.apply various training models"
   ]
  },
  {
   "cell_type": "markdown",
   "id": "2a6ad58f",
   "metadata": {},
   "source": [
    "# 1.1 logistic regression model"
   ]
  },
  {
   "cell_type": "code",
   "execution_count": 133,
   "id": "7f99f7da",
   "metadata": {},
   "outputs": [],
   "source": [
    "from sklearn.linear_model import LogisticRegression\n",
    "from sklearn.metrics import accuracy_score"
   ]
  },
  {
   "cell_type": "code",
   "execution_count": 147,
   "id": "46714746",
   "metadata": {},
   "outputs": [
    {
     "data": {
      "text/html": [
       "<style>#sk-container-id-7 {color: black;}#sk-container-id-7 pre{padding: 0;}#sk-container-id-7 div.sk-toggleable {background-color: white;}#sk-container-id-7 label.sk-toggleable__label {cursor: pointer;display: block;width: 100%;margin-bottom: 0;padding: 0.3em;box-sizing: border-box;text-align: center;}#sk-container-id-7 label.sk-toggleable__label-arrow:before {content: \"▸\";float: left;margin-right: 0.25em;color: #696969;}#sk-container-id-7 label.sk-toggleable__label-arrow:hover:before {color: black;}#sk-container-id-7 div.sk-estimator:hover label.sk-toggleable__label-arrow:before {color: black;}#sk-container-id-7 div.sk-toggleable__content {max-height: 0;max-width: 0;overflow: hidden;text-align: left;background-color: #f0f8ff;}#sk-container-id-7 div.sk-toggleable__content pre {margin: 0.2em;color: black;border-radius: 0.25em;background-color: #f0f8ff;}#sk-container-id-7 input.sk-toggleable__control:checked~div.sk-toggleable__content {max-height: 200px;max-width: 100%;overflow: auto;}#sk-container-id-7 input.sk-toggleable__control:checked~label.sk-toggleable__label-arrow:before {content: \"▾\";}#sk-container-id-7 div.sk-estimator input.sk-toggleable__control:checked~label.sk-toggleable__label {background-color: #d4ebff;}#sk-container-id-7 div.sk-label input.sk-toggleable__control:checked~label.sk-toggleable__label {background-color: #d4ebff;}#sk-container-id-7 input.sk-hidden--visually {border: 0;clip: rect(1px 1px 1px 1px);clip: rect(1px, 1px, 1px, 1px);height: 1px;margin: -1px;overflow: hidden;padding: 0;position: absolute;width: 1px;}#sk-container-id-7 div.sk-estimator {font-family: monospace;background-color: #f0f8ff;border: 1px dotted black;border-radius: 0.25em;box-sizing: border-box;margin-bottom: 0.5em;}#sk-container-id-7 div.sk-estimator:hover {background-color: #d4ebff;}#sk-container-id-7 div.sk-parallel-item::after {content: \"\";width: 100%;border-bottom: 1px solid gray;flex-grow: 1;}#sk-container-id-7 div.sk-label:hover label.sk-toggleable__label {background-color: #d4ebff;}#sk-container-id-7 div.sk-serial::before {content: \"\";position: absolute;border-left: 1px solid gray;box-sizing: border-box;top: 0;bottom: 0;left: 50%;z-index: 0;}#sk-container-id-7 div.sk-serial {display: flex;flex-direction: column;align-items: center;background-color: white;padding-right: 0.2em;padding-left: 0.2em;position: relative;}#sk-container-id-7 div.sk-item {position: relative;z-index: 1;}#sk-container-id-7 div.sk-parallel {display: flex;align-items: stretch;justify-content: center;background-color: white;position: relative;}#sk-container-id-7 div.sk-item::before, #sk-container-id-7 div.sk-parallel-item::before {content: \"\";position: absolute;border-left: 1px solid gray;box-sizing: border-box;top: 0;bottom: 0;left: 50%;z-index: -1;}#sk-container-id-7 div.sk-parallel-item {display: flex;flex-direction: column;z-index: 1;position: relative;background-color: white;}#sk-container-id-7 div.sk-parallel-item:first-child::after {align-self: flex-end;width: 50%;}#sk-container-id-7 div.sk-parallel-item:last-child::after {align-self: flex-start;width: 50%;}#sk-container-id-7 div.sk-parallel-item:only-child::after {width: 0;}#sk-container-id-7 div.sk-dashed-wrapped {border: 1px dashed gray;margin: 0 0.4em 0.5em 0.4em;box-sizing: border-box;padding-bottom: 0.4em;background-color: white;}#sk-container-id-7 div.sk-label label {font-family: monospace;font-weight: bold;display: inline-block;line-height: 1.2em;}#sk-container-id-7 div.sk-label-container {text-align: center;}#sk-container-id-7 div.sk-container {/* jupyter's `normalize.less` sets `[hidden] { display: none; }` but bootstrap.min.css set `[hidden] { display: none !important; }` so we also need the `!important` here to be able to override the default hidden behavior on the sphinx rendered scikit-learn.org. See: https://github.com/scikit-learn/scikit-learn/issues/21755 */display: inline-block !important;position: relative;}#sk-container-id-7 div.sk-text-repr-fallback {display: none;}</style><div id=\"sk-container-id-7\" class=\"sk-top-container\"><div class=\"sk-text-repr-fallback\"><pre>LogisticRegression(max_iter=10000)</pre><b>In a Jupyter environment, please rerun this cell to show the HTML representation or trust the notebook. <br />On GitHub, the HTML representation is unable to render, please try loading this page with nbviewer.org.</b></div><div class=\"sk-container\" hidden><div class=\"sk-item\"><div class=\"sk-estimator sk-toggleable\"><input class=\"sk-toggleable__control sk-hidden--visually\" id=\"sk-estimator-id-7\" type=\"checkbox\" checked><label for=\"sk-estimator-id-7\" class=\"sk-toggleable__label sk-toggleable__label-arrow\">LogisticRegression</label><div class=\"sk-toggleable__content\"><pre>LogisticRegression(max_iter=10000)</pre></div></div></div></div></div>"
      ],
      "text/plain": [
       "LogisticRegression(max_iter=10000)"
      ]
     },
     "execution_count": 147,
     "metadata": {},
     "output_type": "execute_result"
    }
   ],
   "source": [
    "model=LogisticRegression(max_iter=1000)\n",
    "model.fit(x_train,y_train)"
   ]
  },
  {
   "cell_type": "code",
   "execution_count": 148,
   "id": "32619b05",
   "metadata": {},
   "outputs": [],
   "source": [
    "x_train_prediction=model.predict(x_train)\n",
    "training_data_accuracy=accuracy_score(y_train,x_train_prediction)"
   ]
  },
  {
   "cell_type": "code",
   "execution_count": 154,
   "id": "7895aa1e",
   "metadata": {},
   "outputs": [
    {
     "name": "stdout",
     "output_type": "stream",
     "text": [
      "training_data_accuracy :1.000 \n"
     ]
    }
   ],
   "source": [
    "print(\"training_data_accuracy :%0.3f \"% training_data_accuracy)"
   ]
  },
  {
   "cell_type": "markdown",
   "id": "7d269e7a",
   "metadata": {},
   "source": [
    "test_accuracy_score -pridiction"
   ]
  },
  {
   "cell_type": "code",
   "execution_count": 150,
   "id": "fa854b90",
   "metadata": {},
   "outputs": [],
   "source": [
    "x_test_prediction=model.predict(x_test)\n",
    "test_data_accuracy=accuracy_score(y_test,x_test_prediction)"
   ]
  },
  {
   "cell_type": "code",
   "execution_count": 155,
   "id": "99c1feaf",
   "metadata": {},
   "outputs": [
    {
     "name": "stdout",
     "output_type": "stream",
     "text": [
      "test_data_accuracy :0.500 \n"
     ]
    }
   ],
   "source": [
    "print(\"test_data_accuracy :%0.3f \"% test_data_accuracy)"
   ]
  },
  {
   "cell_type": "raw",
   "id": "dd82f1aa",
   "metadata": {},
   "source": [
    "model_accuracy=50%"
   ]
  },
  {
   "cell_type": "markdown",
   "id": "ea543c12",
   "metadata": {},
   "source": [
    "# 1.2 naive byes model"
   ]
  },
  {
   "cell_type": "code",
   "execution_count": 164,
   "id": "e722cf70",
   "metadata": {},
   "outputs": [
    {
     "name": "stdout",
     "output_type": "stream",
     "text": [
      "training_data_accuraccy : 1.000\n"
     ]
    }
   ],
   "source": [
    "from sklearn.naive_bayes import MultinomialNB\n",
    "naive_model=MultinomialNB()\n",
    "naive_model.fit(x_train,y_train)\n",
    "\n",
    "naive_train_prediction=naive_model.predict(x_train)\n",
    "\n",
    "training_data_accuraccy=accuracy_score(y_train,naive_train_prediction)\n",
    "\n",
    "print(\"training_data_accuraccy : %0.3f\" % training_data_accuraccy)"
   ]
  },
  {
   "cell_type": "raw",
   "id": "31a97157",
   "metadata": {},
   "source": []
  }
 ],
 "metadata": {
  "kernelspec": {
   "display_name": "Python 3 (ipykernel)",
   "language": "python",
   "name": "python3"
  },
  "language_info": {
   "codemirror_mode": {
    "name": "ipython",
    "version": 3
   },
   "file_extension": ".py",
   "mimetype": "text/x-python",
   "name": "python",
   "nbconvert_exporter": "python",
   "pygments_lexer": "ipython3",
   "version": "3.12.3"
  }
 },
 "nbformat": 4,
 "nbformat_minor": 5
}
